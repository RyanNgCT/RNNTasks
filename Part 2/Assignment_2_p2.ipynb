{
 "cells": [
  {
   "cell_type": "markdown",
   "metadata": {},
   "source": [
    "<table class=\"table table-bordered\">\n",
    "    <tr>\n",
    "        <th style=\"text-align:center; width:25%\"><img src='https://www.np.edu.sg/PublishingImages/Pages/default/odp/ICT.jpg' style=\"width: 250px; height: 125px; \"></th>\n",
    "        <th style=\"text-align:center;\"><h1>Deep Learning</h1><h2>Assignment 2 - Character Generator Model (Problem 2)</h2><h3>AY2020/21 Semester</h3></th>\n",
    "    </tr>\n",
    "</table>"
   ]
  },
  {
   "cell_type": "markdown",
   "metadata": {},
   "source": [
    "### Done by Ng Chin Tiong Ryan (DL02/CSF03)"
   ]
  },
  {
   "cell_type": "code",
   "execution_count": 1,
   "metadata": {},
   "outputs": [
    {
     "name": "stdout",
     "output_type": "stream",
     "text": [
      "keras:  2.2.4-tf\n"
     ]
    },
    {
     "data": {
      "text/html": [
       "<style>.container { width:95% !important; }</style>"
      ],
      "text/plain": [
       "<IPython.core.display.HTML object>"
      ]
     },
     "metadata": {},
     "output_type": "display_data"
    }
   ],
   "source": [
    "# Import the Required Packages\n",
    "# Enter your code here:\n",
    "from tensorflow import keras\n",
    "print('keras: ', keras.__version__)\n",
    "\n",
    "from IPython.core.display import display, HTML\n",
    "display(HTML(\"<style>.container { width:95% !important; }</style>\"))"
   ]
  },
  {
   "cell_type": "markdown",
   "metadata": {},
   "source": [
    "## Step 1 – Data Loading and Processing"
   ]
  },
  {
   "cell_type": "markdown",
   "metadata": {},
   "source": [
    "### 1.1 Data Loading"
   ]
  },
  {
   "cell_type": "code",
   "execution_count": 2,
   "metadata": {},
   "outputs": [
    {
     "name": "stdout",
     "output_type": "stream",
     "text": [
      "The original text has 562439 characters.\n",
      "\n"
     ]
    }
   ],
   "source": [
    "# read in the text file, transforming everything to lower case\n",
    "text = open('holmes.txt').read().lower()\n",
    "print('The original text has ' + str(len(text)) + ' characters.\\n')"
   ]
  },
  {
   "cell_type": "markdown",
   "metadata": {},
   "source": [
    "### 1.2 Data Processing\n"
   ]
  },
  {
   "cell_type": "code",
   "execution_count": 3,
   "metadata": {},
   "outputs": [
    {
     "data": {
      "text/plain": [
       "\"ï»¿the adventures of sherlock holmes by sir arthur conan doyle\\n\\n   i. a scandal in bohemia\\n  ii. the red-headed league\\n iii. a case of identity\\n  iv. the boscombe valley mystery\\n   v. the five orange pips\\n  vi. the man with the twisted lip\\n vii. the adventure of the blue carbuncle\\nviii. the adventure of the speckled band\\n  ix. the adventure of the engineer's thumb\\n   x. the adventure of the noble bachelor\\n  xi. the adventure of the beryl coronet\\n xii. the adventure of the copper beeches\\n\\n\\nadventure i. a scandal in bohemia\\n\\ni.\\n\\nto sherlock holmes she is always the woman. i have seldom heard\\nhim mention her under any other name. in his eyes she eclipses\\nand predominates the whole of her sex. it was not that he felt\\nany emotion akin to love for irene adler. all emotions, and that\\none particularly, were abhorrent to his cold, precise but\\nadmirably balanced mind. he was, i take it, the most perfect\\nreasoning and observing machine that the world has seen, but as a\\nlover he would have placed himself in a false position. he never\\nspoke of the softer passions, save with a gibe and a sneer. they\\nwere admirable things for the observer--excellent for drawing the\\nveil from men's motives and actions. but for the trained reasoner\\nto admit such intrusions into his own delicate and finely\\nadjusted temperament was to introduce a distracting factor which\\nmight throw a doubt upon all his mental results. grit in a\\nsensitive instrument, or a crack in one of his own high-power\\nlenses, would not be more disturbing than a strong emotion in a\\nnature such as his. and yet there was but one woman to him, and\\nthat woman was the late irene adler, of dubious and questionable\\nmemory.\\n\\ni had seen little of holmes lately. my marriage had drifted us\\naway from each other. my own complete happiness, and the\\nhome-centred interests which rise up around the man who first\\nfinds himself master of his own establishment, were sufficient to\\nabsorb all my attention, while holmes, who loathed every form of\\nsociet\""
      ]
     },
     "execution_count": 3,
     "metadata": {},
     "output_type": "execute_result"
    }
   ],
   "source": [
    "### print out the first 1000 characters of the raw text to get a sense of what characters to remove\n",
    "text[:2000]"
   ]
  },
  {
   "cell_type": "code",
   "execution_count": 4,
   "metadata": {},
   "outputs": [],
   "source": [
    "# remove all '\\n' and '\\r' from text\n",
    "text = text.replace('\\n','') \n",
    "text = text.replace('\\r','')"
   ]
  },
  {
   "cell_type": "code",
   "execution_count": 5,
   "metadata": {},
   "outputs": [],
   "source": [
    "# create a function 'clean_text' to clean text so that only the following letters and punctation remain\n",
    "def clean_text(text):\n",
    "    punctuation = ['!', ',', '.', ':', ';', '?', '-', \"'\",' ']\n",
    "    letters='abcdefghijklmnopqrstuvwxyz'\n",
    "    char_list = \"\"\n",
    "    # Enter your code here:\n",
    "    for i in text:\n",
    "        if i in punctuation or i in letters:\n",
    "            char_list += i\n",
    "    return char_list"
   ]
  },
  {
   "cell_type": "code",
   "execution_count": 6,
   "metadata": {},
   "outputs": [
    {
     "data": {
      "text/plain": [
       "\"the adventures of sherlock holmes by sir arthur conan doyle   i. a scandal in bohemia  ii. the red-headed league iii. a case of identity  iv. the boscombe valley mystery   v. the five orange pips  vi. the man with the twisted lip vii. the adventure of the blue carbuncleviii. the adventure of the speckled band  ix. the adventure of the engineer's thumb   x. the adventure of the noble bachelor  xi. the adventure of the beryl coronet xii. the adventure of the copper beechesadventure i. a scandal in bohemiai.to sherlock holmes she is always the woman. i have seldom heardhim mention her under any other name. in his eyes she eclipsesand predominates the whole of her sex. it was not that he feltany emotion akin to love for irene adler. all emotions, and thatone particularly, were abhorrent to his cold, precise butadmirably balanced mind. he was, i take it, the most perfectreasoning and observing machine that the world has seen, but as alover he would have placed himself in a false position. he neverspoke of the softer passions, save with a gibe and a sneer. theywere admirable things for the observer--excellent for drawing theveil from men's motives and actions. but for the trained reasonerto admit such intrusions into his own delicate and finelyadjusted temperament was to introduce a distracting factor whichmight throw a doubt upon all his mental results. grit in asensitive instrument, or a crack in one of his own high-powerlenses, would not be more disturbing than a strong emotion in anature such as his. and yet there was but one woman to him, andthat woman was the late irene adler, of dubious and questionablememory.i had seen little of holmes lately. my marriage had drifted usaway from each other. my own complete happiness, and thehome-centred interests which rise up around the man who firstfinds himself master of his own establishment, were sufficient toabsorb all my attention, while holmes, who loathed every form ofsociety with his whole bohemian soul, remained in our \""
      ]
     },
     "execution_count": 6,
     "metadata": {},
     "output_type": "execute_result"
    }
   ],
   "source": [
    "# clean data using clean_text function\n",
    "text = clean_text(text)\n",
    "text[:2000]"
   ]
  },
  {
   "cell_type": "code",
   "execution_count": 7,
   "metadata": {},
   "outputs": [
    {
     "name": "stdout",
     "output_type": "stream",
     "text": [
      "[' ', '!', \"'\", ',', '-', '.', ':', ';', '?', 'a', 'b', 'c', 'd', 'e', 'f', 'g', 'h', 'i', 'j', 'k', 'l', 'm', 'n', 'o', 'p', 'q', 'r', 's', 't', 'u', 'v', 'w', 'x', 'y', 'z']\n",
      "This document has 544340 total number of characters.\n",
      "This document has 35 unique characters.\n"
     ]
    }
   ],
   "source": [
    "# count the number of unique characters in the text\n",
    "chars = sorted(list(set(text)))\n",
    "print(chars)\n",
    "# print some of the text, as well as statistics\n",
    "print (\"This document has \" +  str(len(text)) + \" total number of characters.\")\n",
    "print (\"This document has \" +  str(len(chars)) + \" unique characters.\")"
   ]
  },
  {
   "cell_type": "code",
   "execution_count": 8,
   "metadata": {},
   "outputs": [],
   "source": [
    "# create a function 'generate_text_io' to generate text inputs based on window_size and the corresponding labels\n",
    "step = 3\n",
    "\n",
    "def generate_text_io(text, maxlen):\n",
    "    inputs = [] # store inputs\n",
    "    labels = [] # stores label\n",
    "    \n",
    "    # Enter your code here:\n",
    "    for i in range(0, len(text) - maxlen, step):\n",
    "        inputs.append(text[i: i + maxlen]) \n",
    "        labels.append(text[i + maxlen])\n",
    "    print('Number of sequences:', len(inputs))\n",
    "\n",
    "    # List of unique characters in the corpus\n",
    "    chars = sorted(list(set(text)))\n",
    "    print('Unique characters:', len(chars))\n",
    "    # Dictionary mapping unique characters to their index in `chars`\n",
    "    char_indices = dict((char, chars.index(char)) for char in chars)\n",
    "    \n",
    "    return inputs, labels, char_indices, chars\n"
   ]
  },
  {
   "cell_type": "code",
   "execution_count": 9,
   "metadata": {},
   "outputs": [],
   "source": [
    "# this dictionary is a function mapping each unique character to a unique integer\n",
    "chars_to_indices = dict((c, i) for i, c in enumerate(chars))  # map each unique character to unique integer\n",
    "\n",
    "# this dictionary is a function mapping each unique integer back to a unique character\n",
    "indices_to_chars = dict((i, c) for i, c in enumerate(chars))  # map each unique integer back to unique character"
   ]
  },
  {
   "cell_type": "code",
   "execution_count": 10,
   "metadata": {},
   "outputs": [],
   "source": [
    "import numpy as np\n",
    "\n",
    "# create a function 'encode_io_pairs' to perform one-hot encoding of inputs and labels\n",
    "def encode_io_pairs(text, maxlen, inputs): # window_size determines # of characters in each input\n",
    "    \n",
    "    # Enter your code here:\n",
    "    print('Vectorization...')\n",
    "    x = np.zeros((len(inputs), maxlen, len(chars)), dtype=np.bool)\n",
    "    y = np.zeros((len(inputs), len(chars)), dtype=np.bool)\n",
    "    for i, sentence in enumerate(inputs):\n",
    "        for t, char in enumerate(sentence):\n",
    "            x[i, t, char_indices[char]] = 1\n",
    "        y[i, char_indices[labels[i]]] = 1\n",
    "    return x, y"
   ]
  },
  {
   "cell_type": "code",
   "execution_count": 11,
   "metadata": {},
   "outputs": [
    {
     "name": "stdout",
     "output_type": "stream",
     "text": [
      "Number of sequences: 181347\n",
      "Unique characters: 35\n",
      "the adventures of sherlock holmes by sir arthur conan doyle   i. a scandal in bohemia  ii. the red-headed league iii. a case of identity  iv. the boscombe valley mystery   v. the five orange pips  vi. the man with the twisted lip vii. the adventure of the blue carbuncleviii. the adventure of the spe\n",
      "c\n",
      "Vectorization...\n",
      "[[False False False ... False False False]\n",
      " [False False False ... False False False]\n",
      " [False False False ... False False False]\n",
      " ...\n",
      " [False False False ... False False False]\n",
      " [False False False ... False False False]\n",
      " [False False False ... False False False]]\n",
      "[False False False False False False False False False False False  True\n",
      " False False False False False False False False False False False False\n",
      " False False False False False False False False False False False]\n"
     ]
    }
   ],
   "source": [
    "# perform one-hot encoding of inputs and labels\n",
    "#window_size = 100 # Models 1-7\n",
    "#window_size = 200 # Models 8-14\n",
    "window_size = 300\n",
    "inputs, labels, char_indices, chars = generate_text_io(text, window_size)\n",
    "print(inputs[0] + '\\n' + labels[0])\n",
    "X, y = encode_io_pairs(text, window_size, inputs)\n",
    "print(X[0])\n",
    "print(y[0])"
   ]
  },
  {
   "cell_type": "markdown",
   "metadata": {},
   "source": [
    "### 1.3 Splitting Dataset into Inputs (X) and Labels (y)"
   ]
  },
  {
   "cell_type": "code",
   "execution_count": 12,
   "metadata": {},
   "outputs": [],
   "source": [
    "# Note: You may choose to perform this step before encoding the data (step 1.2).\n",
    "# Enter your code here: Refer to top"
   ]
  },
  {
   "cell_type": "markdown",
   "metadata": {},
   "source": [
    "## Step 2 – Develop a Character Generator Model"
   ]
  },
  {
   "cell_type": "code",
   "execution_count": 15,
   "metadata": {},
   "outputs": [],
   "source": [
    "def sample(preds, temperature=1.0):\n",
    "    preds = np.asarray(preds).astype('float64')\n",
    "    preds = np.log(preds) / temperature\n",
    "    exp_preds = np.exp(preds)\n",
    "    preds = exp_preds / np.sum(exp_preds)\n",
    "    probas = np.random.multinomial(1, preds, 1)\n",
    "    return np.argmax(probas)"
   ]
  },
  {
   "cell_type": "markdown",
   "metadata": {},
   "source": [
    "### Model #1 LSTM RMSprop Base Win Size 100"
   ]
  },
  {
   "cell_type": "code",
   "execution_count": 14,
   "metadata": {},
   "outputs": [
    {
     "name": "stdout",
     "output_type": "stream",
     "text": [
      "Model: \"sequential\"\n",
      "_________________________________________________________________\n",
      "Layer (type)                 Output Shape              Param #   \n",
      "=================================================================\n",
      "lstm (LSTM)                  (None, 128)               83968     \n",
      "_________________________________________________________________\n",
      "dense (Dense)                (None, 35)                4515      \n",
      "=================================================================\n",
      "Total params: 88,483\n",
      "Trainable params: 88,483\n",
      "Non-trainable params: 0\n",
      "_________________________________________________________________\n"
     ]
    }
   ],
   "source": [
    "# Build the Model\n",
    "# Enter your code here:\n",
    "from tensorflow.keras import layers\n",
    "from tensorflow.keras import optimizers\n",
    "\n",
    "model = keras.models.Sequential()\n",
    "model.add(layers.LSTM(128, input_shape=(window_size, len(chars))))\n",
    "model.add(layers.Dense(len(chars), activation='softmax'))\n",
    "\n",
    "optimizer = optimizers.RMSprop(lr=0.01)\n",
    "model.compile(loss='categorical_crossentropy', optimizer=optimizer, metrics=['acc'])\n",
    "model.summary()"
   ]
  },
  {
   "cell_type": "code",
   "execution_count": 15,
   "metadata": {},
   "outputs": [
    {
     "name": "stdout",
     "output_type": "stream",
     "text": [
      "epoch 1\n",
      "Train on 181414 samples\n",
      "181414/181414 [==============================] - 44s 243us/sample - loss: 2.0077 - acc: 0.4114\n",
      "--- Generating with seed: \"ried words, and then quick stepsupon the linoleum. our own door flew open, and a lady, clad insome d\"\n",
      "------ temperature: 0.2\n",
      "ried words, and then quick stepsupon the linoleum. our own door flew open, and a lady, clad insome down the tood of the strong and the seart of the lady to the state wo with the shall with her as a station of the stall and to the stoon of the could sat the stain of the shall a chair of the sate of the tood that i was a the some and and as a come and his had and and man and a man of the stant and and the side of the sught to the sate and as and the stain to the steped to the street of the sught t\n",
      "------ temperature: 0.5\n",
      "nd the side of the sught to the sate and as and the stain to the steped to the street of the sught to be past which he had all that is a mest it with his read we sat it was to the word of the street in it is the stoon that i had been the bone of the come to to fare in the kind and to soat stoon of the have his is a good and to may and we suding all the all said one latt had and dead to the tinem the stance that the man that he had to by the father as every said that she called and the did and wo\n",
      "------ temperature: 1.0\n",
      "he stance that the man that he had to by the father as every said that she called and the did and wo have do notruntlympirsing, saide?in it man she was monera', all good, sithil and sere a caget and glettle sleefriss fior a skit, beild ruslough. row i could head  as that hes that itwappes, he have routtly path, with i was very thinap-ule. that his had. one nibles lever feesfint ferent, wat eydleds.fiv, gares. his shead come tole,'i saids me of date with hen the pace i chaems and as at and thre a\n",
      "------ temperature: 1.2\n",
      ".fiv, gares. his shead come tole,'i saids me of date with hen the pace i chaems and as at and thre at that onetooe i am-kcharn a pordmersbly so droos., man oad, theitire.we as nerpredefy -a sucrosefysursets, i, unde. fjulss flomed.husas nat, gngetchie, toteg his suafter tobread by sist.the wigh tris endgre. pruch adrake.it wouldly mymenes.themam.themius notw white holmes litt is lag-ge.er.and-stheeaod jest.this is hevery hams, let on has cear dremplores ut ! and humitl riad and gotki naining get\n",
      "epoch 2\n",
      "Train on 181414 samples\n",
      "181414/181414 [==============================] - 25s 136us/sample - loss: 1.6840 - acc: 0.5011\n",
      "--- Generating with seed: \" wrote the address, which can only mean that he was notfamiliar with it. it is, of course, a trifle,\"\n",
      "------ temperature: 0.2\n",
      " wrote the address, which can only mean that he was notfamiliar with it. it is, of course, a trifle, and i have a could have been and the companion, and the standly have been and the companion, and i have been the seen and the cortered the seeps of the companion of the bell were the companion of the seet and some which he should have been stand and a companion of the some that i shall be an in the bedround and many were to the companion of the some were in the standly to the companion of the com\n",
      "------ temperature: 0.5\n",
      " bedround and many were to the companion of the some were in the standly to the companion of the companion. i have been seen companion of the ladder that we have a clair, said holmes, said holmes. the bedalts of the ways and see me belies, i had and the tort in the bedfice. then were us and ladding the companion and ased the maderand of the bell which more of the hell by be a companion who should be some to the looked for you and the in an asked upand what were the business, that a man.what is a\n",
      "------ temperature: 1.0\n",
      "be some to the looked for you and the in an asked upand what were the business, that a man.what is abulledwhat your readyblac,and then it had been will said him.ry toled theple's flen remimeey arenosty--the smoking more, and somen.the lots her usan at herehe mr. he would her had biend some to the deately underblied ofcentedsed then it, rom.i wis and stroone how in our evermant ever to fermantics of his some house with an heredrandinater and see some to way to be,which looks, so the creaicarve on\n",
      "------ temperature: 1.2\n",
      "f his some house with an heredrandinater and see some to way to be,which looks, so the creaicarve on mer. the laskingitedincis madreachs ushe fares wermost verysughe remamber's handhad opstated, ergession,tore naw whtelo ! hear herpheed within!i am not intratiof,edpresturaline ofthere stade',  vially on once shibbivip alce you.i gonercenttered-bithet the very gowndold cayin and well her one hours.angly hagourfican twances ofpturty connewmristord.and tolied it, drank. thenwedyaving young the dowe\n",
      "epoch 3\n",
      "Train on 181414 samples\n",
      "181414/181414 [==============================] - 24s 131us/sample - loss: 1.5855 - acc: 0.5284\n",
      "--- Generating with seed: \"mbed the stile,that this fellow should think we had come here as architects, oron some definite busi\"\n",
      "------ temperature: 0.2\n",
      "mbed the stile,that this fellow should think we had come here as architects, oron some definite business of the look that i have been and street. the man to the lady with a door and and the lady was an amone to the street of the large that the lady was the care and that the lady with a confired to the lady brought in the lady was the confire and and that i have a chark to the confired to the lady back to the lady and the stall that the lady was a chark for the stall was a lady was a cried to the\n",
      "------ temperature: 0.5\n",
      "back to the lady and the stall that the lady was a chark for the stall was a lady was a cried to the sundy, and the at that i that the covered that redingle, and i have all the light was a chance of all the room, hand as a cheek with an the wark was all out and found down and a clair. the larger and to the courte and the digget and that some sould come and stepfine the palles, and the lady startly talken of his back and down it of a doubt that you could see the stall was the intulestand, and it \n",
      "------ temperature: 1.0\n",
      " talken of his back and down it of a doubt that you could see the stall was the intulestand, and it outy stone bhould severy, and thas ssquare it.you seemed, hame been to my mest, what allenst very norg and it in upon just same trentured heard the dail.a drawn of the inthe drove.brain of cry etation, to hispreaturn to know iliessised behind ofrol for with the serdation, andhow that therecroughing to everybood., do not no hatherrouse of not turade ansimprinned the chiles have brought.it is devil,\n",
      "------ temperature: 1.2\n",
      "to everybood., do not no hatherrouse of not turade ansimprinned the chiles have brought.it is devil, xauged they was the argeing else would heps sealcited,should, mr.howave remain. it was the lrster alloted place?yes, fance point. that of the crudsited to one estes from me. this patt my stife.strungewed farmmong.it's dauth of which you praitfage-toodluting rul rut chanb morehturdly undered for it,so, that his uat reforne stepfrex twive.washe knownwildookfingiou.you, wall havetobe thef asctaharde\n",
      "epoch 4\n",
      "Train on 181414 samples\n",
      "181414/181414 [==============================] - 24s 131us/sample - loss: 1.5314 - acc: 0.5436\n",
      "--- Generating with seed: \" yearsin england. he begged my father to let me live with him and hewas very kind to me in his way. \"\n",
      "------ temperature: 0.2\n",
      " yearsin england. he begged my father to let me live with him and hewas very kind to me in his way. i have a man of the door and the starter of the starter and the man who seemed that the starter and the lang in the startled the startle of the starter and can your little to the startled the startly and string the story and such a lady was the some some some bedrough the large the door and the door and the words which i have a bed in the man of the man who she should not the street of the startle\n",
      "------ temperature: 0.5\n",
      " and the words which i have a bed in the man of the man who she should not the street of the startle cabser side. carried the stair. and it is be some strong and more and advictic before is at a man that i may say the state and the stone a firt and in my drear as it which elper to this hands. the fire would secreters. it was a man which i can say for the serves, and lead the lancely a word of the person a clair a read the long still of it in the dearn the little in the holeor the belt small piss\n",
      "------ temperature: 1.0\n",
      "person a clair a read the long still of it in the dearn the little in the holeor the belt small pissifition which were perfaintly silefrat of who seenor the upflustual har acceaser to baxthe favealong upon thecomplincing.then, and no mr. hand to m. my hard be of greatthing of that week resuld be me-confess which sighten of the conneriseries to remaintment, or your pointless rate of and alapblekage, arronly notan, there is friendnessed. a rove which hediritied?if he e'tly that the year which roun\n",
      "------ temperature: 1.2\n",
      ", arronly notan, there is friendnessed. a rove which hediritied?if he e'tly that the year which round ppollould as mystort.''m heop greeter though thatmy sameormar.when he was somess . matiwrain my  lades.my spart. a sic, if i have a doubt inmethe diseplectpatescriexiss a cell. ow let youmur, as a grow dothing aolly eng, in thedorcase a woaghfiving laying rouditorw'o lister,that lea lord.tell, sleem s.t to closs and were just nothing form at is bly was mrqust thatce-room all it. at morroaring.ye\n",
      "epoch 5\n",
      "Train on 181414 samples\n",
      "181414/181414 [==============================] - 24s 134us/sample - loss: 1.4945 - acc: 0.5528\n",
      "--- Generating with seed: \" list atpresent.oh, anstruther would do your work for you. you have been lookinga little pale lately\"\n",
      "------ temperature: 0.2\n",
      " list atpresent.oh, anstruther would do your work for you. you have been lookinga little pale lately of the case of the stanting to the consertion of the strong with the most stander to be the lady should see that i have been to be the lady with a little to her which i have a small to the station. i have been to her to heard and had to have been to be the most perhaps we had been in the station. i have seen to the street. i have been to the lady stain to her to get to the station. i have a stree\n",
      "------ temperature: 0.5\n",
      " have seen to the street. i have been to the lady stain to her to get to the station. i have a street. the laing. i could see when i have considerate with a street, on the bed about to the stant, and she had a fawn and such standing offered to come to be as we should see it and she has been an a point-room with me, whise conding to the place of the light to come, said holmes. this she was a dress. i have profession to the windows were where i had been into the back of the strong with my company \n",
      "------ temperature: 1.0\n",
      " i have profession to the windows were where i had been into the back of the strong with my company wasen hegrient, pervelanogrese pon ontened hy. you wind, there wore. she had can carns of whealer could was assicing of his faies and pack of it srowly and by fattle to discut of thescaim, when to do you expleaed. i would thentasykeen, tood to this adgertrest, as i gentyenow bedaged up the passing. visiting should, said he would come. she was  whom you have emend, does, then clear these, howes, an\n",
      "------ temperature: 1.2\n",
      "visiting should, said he would come. she was  whom you have emend, does, then clear these, howes, and for one conpypent.this dress that this seemed lies put ham theolowionfy. his dain it was defor been for the matily ohounce does she only ducirute isbocuence much things fitumlit were night's s gentlemon which through necwerrod-bouting truilly isgrasiant no rove to muchenly conserustyly thret two formil dotsonwolds, and my sfirttengractly were. how mydoesfately, si.' she could not seemu been enit\n"
     ]
    },
    {
     "data": {
      "image/png": "[encoded data removed]",
      "text/plain": [
       "<Figure size 432x288 with 1 Axes>"
      ]
     },
     "metadata": {
      "needs_background": "light"
     },
     "output_type": "display_data"
    },
    {
     "data": {
      "image/png": "[encoded data removed]",
      "text/plain": [
       "<Figure size 432x288 with 1 Axes>"
      ]
     },
     "metadata": {
      "needs_background": "light"
     },
     "output_type": "display_data"
    }
   ],
   "source": [
    "# Train the Model\n",
    "# Enter your code here:\n",
    "import random\n",
    "import sys\n",
    "\n",
    "acc_list= []\n",
    "loss_list = []\n",
    "\n",
    "for epoch in range(1, 6):\n",
    "    print('epoch', epoch)\n",
    "    # Fit the model for 1 epoch on the available training data\n",
    "    history = model.fit(X, y,\n",
    "              batch_size=128,\n",
    "              epochs=1)\n",
    "    acc = history.history['acc']\n",
    "    loss = history.history['loss']\n",
    "    acc_list.append(acc)\n",
    "    loss_list.append(loss)\n",
    "    \n",
    "    # Select a text seed at random\n",
    "    start_index = random.randint(0, len(text) - window_size - 1)\n",
    "    generated_text = text[start_index: start_index + window_size]\n",
    "    print('--- Generating with seed: \"' + generated_text + '\"')\n",
    "   \n",
    "    \n",
    "    for temperature in [0.2, 0.5, 1.0, 1.2]:\n",
    "        print('------ temperature:', temperature)\n",
    "        sys.stdout.write(generated_text)\n",
    "\n",
    "        # We generate 400 characters\n",
    "        for i in range(400):\n",
    "            sampled = np.zeros((1, window_size, len(chars)))\n",
    "            for t, char in enumerate(generated_text):\n",
    "                sampled[0, t, char_indices[char]] = 1.\n",
    "\n",
    "            preds = model.predict(sampled, verbose=0)[0]\n",
    "            next_index = sample(preds, temperature)\n",
    "            next_char = chars[next_index]\n",
    "\n",
    "            generated_text += next_char\n",
    "            generated_text = generated_text[1:]\n",
    "\n",
    "            sys.stdout.write(next_char)\n",
    "            sys.stdout.flush()\n",
    "        print()\n",
    "\n",
    "\n",
    "graph_acc = []\n",
    "for i in acc_list:\n",
    "    for j in i:\n",
    "        graph_acc.append(j)\n",
    "        \n",
    "graph_loss = []\n",
    "for i in loss_list:\n",
    "    for j in i:\n",
    "        graph_loss.append(j)\n",
    "    \n",
    "#Plotting training graphs\n",
    "%matplotlib inline\n",
    "import matplotlib.pyplot as plt\n",
    "\n",
    "epochs = range(1, len(graph_acc) + 1)\n",
    "\n",
    "plt.plot(epochs, graph_acc, 'bo', label='Training acc')\n",
    "plt.title('Training accuracy')\n",
    "plt.legend()\n",
    "\n",
    "plt.figure()\n",
    "\n",
    "plt.plot(epochs, graph_loss, 'bo', label='Training loss')\n",
    "plt.title('Training loss')\n",
    "plt.legend()\n",
    "\n",
    "plt.show()"
   ]
  },
  {
   "cell_type": "code",
   "execution_count": 16,
   "metadata": {},
   "outputs": [],
   "source": [
    "# Save the Model\n",
    "model.save('chgen_model_1.h5')"
   ]
  },
  {
   "cell_type": "markdown",
   "metadata": {},
   "source": [
    "### Model #2 LSTM RMSprop Add layer Win Size 100"
   ]
  },
  {
   "cell_type": "code",
   "execution_count": 17,
   "metadata": {},
   "outputs": [
    {
     "name": "stdout",
     "output_type": "stream",
     "text": [
      "Model: \"sequential_1\"\n",
      "_________________________________________________________________\n",
      "Layer (type)                 Output Shape              Param #   \n",
      "=================================================================\n",
      "lstm_1 (LSTM)                (None, 100, 128)          83968     \n",
      "_________________________________________________________________\n",
      "lstm_2 (LSTM)                (None, 128)               131584    \n",
      "_________________________________________________________________\n",
      "dense_1 (Dense)              (None, 35)                4515      \n",
      "=================================================================\n",
      "Total params: 220,067\n",
      "Trainable params: 220,067\n",
      "Non-trainable params: 0\n",
      "_________________________________________________________________\n"
     ]
    }
   ],
   "source": [
    "# Build the Model\n",
    "# Enter your code here:\n",
    "from tensorflow.keras import layers\n",
    "from tensorflow.keras import optimizers\n",
    "\n",
    "model = keras.models.Sequential()\n",
    "model.add(layers.LSTM(128, return_sequences=True, input_shape=(window_size, len(chars))))\n",
    "model.add(layers.LSTM(128))\n",
    "model.add(layers.Dense(len(chars), activation='softmax'))\n",
    "\n",
    "optimizer = optimizers.RMSprop(lr=0.01)\n",
    "model.compile(loss='categorical_crossentropy', optimizer=optimizer, metrics=['acc'])\n",
    "model.summary()"
   ]
  },
  {
   "cell_type": "code",
   "execution_count": 18,
   "metadata": {},
   "outputs": [
    {
     "name": "stdout",
     "output_type": "stream",
     "text": [
      "epoch 1\n",
      "Train on 181414 samples\n",
      "181414/181414 [==============================] - 50s 275us/sample - loss: 2.2264 - acc: 0.3540\n",
      "--- Generating with seed: \"arked.not invisible but unnoticed, watson. you did not know where tolook, and so you missed all that\"\n",
      "------ temperature: 0.2\n",
      "arked.not invisible but unnoticed, watson. you did not know where tolook, and so you missed all that i had the stroster to the onder the stare to the sto the steen to the streare to the stood to the strouse to the strange to the strester the stood of the tome the stross of the comether the stered to the strest of the strearly and the strester the strester the sterle to my one to the farter to the strark of the may the strest of the stare to the street as the strare of the had the stare in the st\n",
      "------ temperature: 0.5\n",
      "strark of the may the strest of the stare to the street as the strare of the had the stare in the stremestand as to the onfitter of the cometome my to the some it asket of the could he head, when be we had not of detreater the oretorust of the groom, said i should sters up be that i have have allow holmes which her the geckeened and from the seemed to the seemed the retaid holmes would the strostor to the steal for the bettare for hows will come to the came to my wassto to my consight we had not\n",
      "------ temperature: 1.0\n",
      "r to the steal for the bettare for hows will come to the came to my wassto to my consight we had not befornent.'bpto med and thatthe you corngor my brave would quer mes, and was about lifk. to thoreunclinias ham now,thetelads andthere wasdue wull into byeturroughthel you mushing-grood to we patter astardy of theremusy he toffroomdstand in the qnows i koose of the mywould very of adlarkent of the esttenrear-youwopwed a crees of the quy threen of i faidmy theen.in the allodminta-tombnought. i can \n",
      "------ temperature: 1.2\n",
      "sttenrear-youwopwed a crees of the quy threen of i faidmy theen.in the allodminta-tombnought. i can been patt.intrisnthe oncaol of my priuppcushing?to thewoncamay fit.i gad 'inmusorighinging teally room.ferlem?thedgoow asnovarsaon.whet,bo not voking theroughtorei nomresronse. the pthacmathouble it.would we dood-on him, whier chied thenote pontionesthan it decank and tweyow'tilfthat taidt theygusthammes, howsever past-smy asked watsen in his sholeuctly eniselfs abom, infurestand, thall ditung. wh\n",
      "epoch 2\n",
      "Train on 181414 samples\n",
      "181414/181414 [==============================] - 48s 267us/sample - loss: 1.7504 - acc: 0.4796\n",
      "--- Generating with seed: \"-school treat. but this time iwas set on going, and i would go; for what right had he toprevent? he \"\n",
      "------ temperature: 0.2\n",
      "-school treat. but this time iwas set on going, and i would go; for what right had he toprevent? he had been the stan the clair the fars of the stance to the clair the charran an at the back, and i could be the lass and the looking the passion of the lars an a lang the large the lass the back. he had been the stand an the clair of the conside and the proban the lass her clair the back, and it is an her and an the an the proper in the word the back and the conferter the land were the clair of the\n",
      "------ temperature: 0.5\n",
      "n her and an the an the proper in the word the back and the conferter the land were the clair of the case of the sabur hand the looking perhay live of the man have the lamp. and lather ressly window, heard the passive the stoging upon the lees her hand see any, i have been give any about the nother, and stanged us an well, and it is so.i have being in the hand up in the posserd. i shall remark was the were in the passion the lablis a strange in the soce an med the boss the fan of reman, said he.\n",
      "------ temperature: 1.0\n",
      " the were in the passion the lablis a strange in the soce an med the boss the fan of reman, said he. youeple, helrelwhat upon the cotion, said having gerf an obabach, he man would gor, but he coulder.muparf-glangers in the very foot.i parished and that he men, nother. and prolain, or sute glavingpestee.s onclops any inthe door. ihes,sait droam.'you small laker friend. i bebly mron a ceidefowly fronuespighing the long suining anyincarted thenry turninind.i med ofef mave other.an him ture?your pof\n",
      "------ temperature: 1.2\n",
      "nuespighing the long suining anyincarted thenry turninind.i med ofef mave other.an him ture?your pof, and reman?to is grot mt, lilern when hecallbyso to for aslywell,youhaken, the sidewevel-bursiageeay dother graye do you dosmise asby re's' rail blaceriquet-n not lare.  skmpile, geekers weicon, and what this through, and.well-wherewere farfasing, chmonby. 'i, you whengappan stick was a yver can now.who ustend.heri sencusres notaagle, into the gar cartily,notuer. you hade an were and, u dor tobug\n",
      "epoch 3\n",
      "Train on 181414 samples\n",
      "181414/181414 [==============================] - 50s 278us/sample - loss: 1.6452 - acc: 0.5108\n",
      "--- Generating with seed: \" not be shown that there had ever beforebeen anything against him. he had for years been known as ap\"\n",
      "------ temperature: 0.2\n",
      " not be shown that there had ever beforebeen anything against him. he had for years been known as appeared the case and to the strong the strong the come to the come to the lather with the strong a come to the the strong the the come to the all the arm with the man, and the strike and the strong the strike the barr of the man. i had a cried the part and the strong the strong the come and the strong the strong the the man. he had a see the man, and the hand in the hand in the man who was a clear \n",
      "------ temperature: 0.5\n",
      "g the strong the the man. he had a see the man, and the hand in the hand in the man who was a clear so for in the adverting the man, i should get the find to the the to the persed to the strong to be siderance the man, and he might of it made a land to see a man, had hand the morning to get the strong the story and to a see the boy of the corring in at street in come the say with the man. and the tas his head of the excertainst a man. i was a slight at the work of the come better the man, the im\n",
      "------ temperature: 1.0\n",
      "tas his head of the excertainst a man. i was a slight at the work of the come better the man, the impronerstandipan and would help had a griving theman, when ithis. there was a feated it out, is them word it exome was as her is was guilman of the like housed as it would, cliel. gonoure .for a sorourander as entasal theptem. i land to must stroom it was as impresuationters?then, she hard a hand had been had been into thecoulless her consern and the mininowly caming me before any little arm, and t\n",
      "------ temperature: 1.2\n",
      " been had been into thecoulless her consern and the mininowly caming me before any little arm, and thefencin. jurning acrosked to a, sir, mr. as youdreader.took the nebtarchication of it wooked in thecleet winde's mone of the cappucieestiny.it is the colemedruse cretual former. then only earingof oun obdids. thought it disfachold day.one par for ear.i am not combandruckly,' i can i excerto le it seen.fromthich to just sleet.the should delistingivoved lond besome man, thed.'the chair isand sink t\n",
      "epoch 4\n",
      "Train on 181414 samples\n",
      "181414/181414 [==============================] - 50s 275us/sample - loss: 1.5961 - acc: 0.5258\n",
      "--- Generating with seed: \"s. there is something distinctly novelabout some of the features. if you should find yourself in dou\"\n",
      "------ temperature: 0.2\n",
      "s. there is something distinctly novelabout some of the features. if you should find yourself in dound with the stain an aspeces of the stain the stain the stain of the wife wait the should not a come stand the stain of the companion of the stain of the complisines any spress any stare any stain the companion the stain of the same any stood a companion of the wife of the stain any saw the stain of the companion to the companion the wife any same the stain the stain the stain the stain the compan\n",
      "------ temperature: 0.5\n",
      " the companion to the companion the wife any same the stain the stain the stain the stain the company anything anything is claid to me anything my course she dear the companion remain this any to my bring from the sair serlow with a cloth, any case and began and discover in the windive a stood after any to the thing-bread beow with a cockined on the saw up in the window the case it our companion. the laster anything down the liftle hands any points the story observe and any griet-come in him tha\n",
      "------ temperature: 1.0\n",
      "the laster anything down the liftle hands any points the story observe and any griet-come in him that i have also mratars ofyour susting?screan, frank canno advicted with aporey crimter, acpearing, aarly asrous thinpretentswhich we can ome bay same lane, but heard old stardought into a ganver asa fail of waid? itad the oacter this geishushd, but he had silent wants a compressinal broad aspetal water souln. becour to hewhavouse lane frinny. hiswalk aglarining cotion her broomed gear, could finder\n",
      "------ temperature: 1.2\n",
      "er souln. becour to hewhavouse lane frinny. hiswalk aglarining cotion her broomed gear, could findering exact light take the sam iam unput but air rain of ery prae.'then,showed viligothings muce. with that her bive in companion therrais sprune,when no naig.but the mrcheafthetal agnish weiringer.i son, it, stand worn, a filless here trous onter to usk what facastle he tene no now, mr. holmes, ac"
     ]
    },
    {
     "name": "stderr",
     "output_type": "stream",
     "text": [
      "D:\\Users\\maste\\Anaconda3\\lib\\site-packages\\ipykernel_launcher.py:3: RuntimeWarning: divide by zero encountered in log\n",
      "  This is separate from the ipykernel package so we can avoid doing imports until\n"
     ]
    },
    {
     "name": "stdout",
     "output_type": "stream",
     "text": [
      "commen,one recent our feeting the sweaspyaster?wnoggave buck iquemh faster his hand. you will very fire\n",
      "epoch 5\n",
      "Train on 181414 samples\n",
      "181414/181414 [==============================] - 52s 286us/sample - loss: 1.5706 - acc: 0.5350\n",
      "--- Generating with seed: \"n which has been offeredto me as governess. i shall call at half-past ten to-morrow if ido not incon\"\n",
      "------ temperature: 0.2\n",
      "n which has been offeredto me as governess. i shall call at half-past ten to-morrow if ido not inconsiderably the word the stark the word the story the case and the passed the step in the steee the strange and the case the commanted the word the stepfice and my case that i have been step the case that i have been consel that i have been the strange and when i have been and man and the strange and the way to have had seven such a case and my commantion and the commanted the start the stark the wo\n",
      "------ temperature: 0.5\n",
      "the way to have had seven such a case and my commantion and the commanted the start the stark the word stone a clain the disge, the story. then i was more the commantion and the came that she say it at heark have been and in the concice--that and your short the complished suggess but safe it as say we have summest well, and i have been severing in the man was the passed the shatter and back as in you as i was sime the case, said he was and of sat the corones and when we do you smck. i had set in\n",
      "------ temperature: 1.0\n",
      "you as i was sime the case, said he was and of sat the corones and when we do you smck. i had set inthe innot attont.it was excepts and youghtthicked by the falter bumge shars ahaught a strange have carkcivel, holmeswing anotheree of sever the care, who isso, goodcallang adlast anddrear.mychurly gone, siiveing buming find the miming, you sot as her stepresid awobfiving chaisably heard. she can bebefore? fuld on figure.ithin limed, perhaps luablechas was thick, by been eldbarncicaly when i had ca\n",
      "------ temperature: 1.2\n",
      "efore? fuld on figure.ithin limed, perhaps luablechas was thick, by been eldbarncicaly when i had cate furite? shot cun wish have oncesen't do-ey wban have had repleasting youind mylosscumber knowyow, he can must dapily, wome, asdelens began for do not have aoutfiture, other?thatkeens morry. i man we can ter isocmecteding answallchiout.bray walked, troubary-dkeenmyself in holmen foreloun tost.the afrience isly rew-ul again,throught. having meany,she sund a hands. it isin a goo to wavenate-bander\n"
     ]
    },
    {
     "data": {
      "image/png": "[encoded data removed]",
      "text/plain": [
       "<Figure size 432x288 with 1 Axes>"
      ]
     },
     "metadata": {
      "needs_background": "light"
     },
     "output_type": "display_data"
    },
    {
     "data": {
      "image/png": "[encoded data removed]",
      "text/plain": [
       "<Figure size 432x288 with 1 Axes>"
      ]
     },
     "metadata": {
      "needs_background": "light"
     },
     "output_type": "display_data"
    }
   ],
   "source": [
    "# Train the Model\n",
    "# Enter your code here:\n",
    "import random\n",
    "import sys\n",
    "\n",
    "acc_list= []\n",
    "loss_list = []\n",
    "\n",
    "for epoch in range(1, 6):\n",
    "    print('epoch', epoch)\n",
    "    # Fit the model for 1 epoch on the available training data\n",
    "    history = model.fit(X, y,\n",
    "              batch_size=128,\n",
    "              epochs=1)\n",
    "    acc = history.history['acc']\n",
    "    loss = history.history['loss']\n",
    "    acc_list.append(acc)\n",
    "    loss_list.append(loss)\n",
    "    \n",
    "    # Select a text seed at random\n",
    "    start_index = random.randint(0, len(text) - window_size - 1)\n",
    "    generated_text = text[start_index: start_index + window_size]\n",
    "    print('--- Generating with seed: \"' + generated_text + '\"')\n",
    "   \n",
    "    \n",
    "    for temperature in [0.2, 0.5, 1.0, 1.2]:\n",
    "        print('------ temperature:', temperature)\n",
    "        sys.stdout.write(generated_text)\n",
    "\n",
    "        # We generate 400 characters\n",
    "        for i in range(400):\n",
    "            sampled = np.zeros((1, window_size, len(chars)))\n",
    "            for t, char in enumerate(generated_text):\n",
    "                sampled[0, t, char_indices[char]] = 1.\n",
    "\n",
    "            preds = model.predict(sampled, verbose=0)[0]\n",
    "            next_index = sample(preds, temperature)\n",
    "            next_char = chars[next_index]\n",
    "\n",
    "            generated_text += next_char\n",
    "            generated_text = generated_text[1:]\n",
    "\n",
    "            sys.stdout.write(next_char)\n",
    "            sys.stdout.flush()\n",
    "        print()\n",
    "\n",
    "\n",
    "graph_acc = []\n",
    "for i in acc_list:\n",
    "    for j in i:\n",
    "        graph_acc.append(j)\n",
    "        \n",
    "graph_loss = []\n",
    "for i in loss_list:\n",
    "    for j in i:\n",
    "        graph_loss.append(j)\n",
    "    \n",
    "#Plotting training graphs\n",
    "%matplotlib inline\n",
    "import matplotlib.pyplot as plt\n",
    "\n",
    "epochs = range(1, len(graph_acc) + 1)\n",
    "\n",
    "plt.plot(epochs, graph_acc, 'bo', label='Training acc')\n",
    "plt.title('Training accuracy')\n",
    "plt.legend()\n",
    "\n",
    "plt.figure()\n",
    "\n",
    "plt.plot(epochs, graph_loss, 'bo', label='Training loss')\n",
    "plt.title('Training loss')\n",
    "plt.legend()\n",
    "\n",
    "plt.show()"
   ]
  },
  {
   "cell_type": "code",
   "execution_count": 19,
   "metadata": {},
   "outputs": [],
   "source": [
    "# Save the Model\n",
    "model.save('chgen_model_2.h5')"
   ]
  },
  {
   "cell_type": "markdown",
   "metadata": {},
   "source": [
    "### Model #3 LSTM Adam Base Win Size 100"
   ]
  },
  {
   "cell_type": "code",
   "execution_count": 21,
   "metadata": {},
   "outputs": [
    {
     "name": "stdout",
     "output_type": "stream",
     "text": [
      "Model: \"sequential_3\"\n",
      "_________________________________________________________________\n",
      "Layer (type)                 Output Shape              Param #   \n",
      "=================================================================\n",
      "lstm_5 (LSTM)                (None, 128)               83968     \n",
      "_________________________________________________________________\n",
      "dense_2 (Dense)              (None, 35)                4515      \n",
      "=================================================================\n",
      "Total params: 88,483\n",
      "Trainable params: 88,483\n",
      "Non-trainable params: 0\n",
      "_________________________________________________________________\n"
     ]
    }
   ],
   "source": [
    "# Build the Model\n",
    "# Enter your code here:\n",
    "from tensorflow.keras import layers\n",
    "from tensorflow.keras import optimizers\n",
    "\n",
    "model = keras.models.Sequential()\n",
    "model.add(layers.LSTM(128, input_shape=(window_size, len(chars))))\n",
    "model.add(layers.Dense(len(chars), activation='softmax'))\n",
    "\n",
    "optimizer = optimizers.Adam(lr=0.01)\n",
    "model.compile(loss='categorical_crossentropy', optimizer=optimizer, metrics=['acc'])\n",
    "model.summary()"
   ]
  },
  {
   "cell_type": "code",
   "execution_count": 22,
   "metadata": {},
   "outputs": [
    {
     "name": "stdout",
     "output_type": "stream",
     "text": [
      "epoch 1\n",
      "Train on 181414 samples\n",
      "181414/181414 [==============================] - 29s 157us/sample - loss: 2.0413 - acc: 0.4034\n",
      "--- Generating with seed: \"wadding and carbolised bandages. he lay backwithout wincing, though he bit his lip from time to time\"\n",
      "------ temperature: 0.2\n",
      "wadding and carbolised bandages. he lay backwithout wincing, though he bit his lip from time to time the man and the man her the streen the come the starr the stare the starr the stare and the manter to the starred the starred the concersed the concered the onther the stare the concering the starred the stare the stare in the starred the starr the mand of the farsed to the starr and the stare in the was in the streen to the starred the streared the manter the stare in the starred the concering o\n",
      "------ temperature: 0.5\n",
      "he was in the streen to the starred the streared the manter the stare in the starred the concering of the sime to the conding the my fade, one for he said his reares, and with a the intered that it of the man ever siden in the was and there was and he was of see little to the shall that the can spest to the fersion. i was the diffice and the dorr there is had ase and had i had round the care your farter he had acond with your cark, the diver still the man upenthere his caperast upon the morn for\n",
      "------ temperature: 1.0\n",
      "farter he had acond with your cark, the diver still the man upenthere his caperast upon the morn for susweonion the wind, .'hisst knach in me iding and entericted with afbioe. there and a beep in the was litele fall comrssaed, sowe, haddeer, and wetlluthions, it conficttice be reampads as yourshark'plahk non, bougce ytased of the doundmotqyour her,' i cass, arestury.y, 'was he park for lims.had here a copsst manmeorsjest helshance. uidnthe hergin me, she that be anconcilled.he more. lititaly, we\n",
      "------ temperature: 1.2\n",
      "re a copsst manmeorsjest helshance. uidnthe hergin me, she that be anconcilled.he more. lititaly, well. that thensed. the nogfordnimr, was though herth, whinkind they augper, and lithlemplifs eftiroun into that she, gud ane prose, thenk stoth, were. has, said you ferse, she came arh toecgies, took inthis im. that you over i the blood?us mfistyquentics how, in unon, hislidbuld a siridhe ineraffilkersiocher under-us, in tisture owsherill, sisebcas. no 'tweird, saidpre ttlerress. we kavangs concaru\n",
      "epoch 2\n",
      "Train on 181414 samples\n",
      "181414/181414 [==============================] - 29s 160us/sample - loss: 1.7304 - acc: 0.4859\n",
      "--- Generating with seed: \"of those singularadventures which were the normal condition of his existence. in afew minutes i had \"\n",
      "------ temperature: 0.2\n",
      "of those singularadventures which were the normal condition of his existence. in afew minutes i had been a good a for some the chare of the stanting the not the stantly and the started the shall to the station of the started the come the shall the shall of the man the had the stanter and the had the come to the had the stantter that it was the stanting the stantly and the mare the the stand the stantly of the shall the stanting the man the down the come the station of the station and the stantin\n",
      "------ temperature: 0.5\n",
      "antly of the shall the stanting the man the down the come the station of the station and the stanting the dear the had a clasing, and it as the mr. he, and the man clain of sunter chare the small minestly which i have the porting at the which i seet the dest the dound the see when i all the letter themell started to saided a down the lank in the lood reason to she had stwer as which have before the could seet a clittle thathere a delly see the bank the come, and there asside to see the night whi\n",
      "------ temperature: 1.0\n",
      "e could seet a clittle thathere a delly see the bank the come, and there asside to see the night which i keel that whre eckealtly lext be the when his nestins to very asbles as the white you anvicarpacted that the kindlyding time the seising.''it as the dlate ost alibler corncranger latt, what se sit notting inthe dartouniond the i cried, i when yeventing the senselurt fase?i could again,through's anespisuled my dears could upon the gost.it was in horside as having cut severy clut readon's seen \n",
      "------ temperature: 1.2\n",
      " anespisuled my dears could upon the gost.it was in horside as having cut severy clut readon's seen of eap a morey only why had beld in have 'do could the mementhat to by shadely.i marrack-for pestous.onxedaced, which was i nh peceled take?he known hadilianbonged of had laking any bookgred upon ithers upon,, droplysdeably spalet sawith the room sposinapobmation-hight have do go righly,. whew lear, hinse,qust a clange, as do gay sumsicall. i canglyc-noted the llar to my tritt?be upon the ex,s; to\n",
      "epoch 3\n",
      "Train on 181414 samples\n",
      "181414/181414 [==============================] - 28s 155us/sample - loss: 1.6280 - acc: 0.5147\n",
      "--- Generating with seed: \"ich you made anappointment with me for six o'clock?yes, sir. i am afraid that i am a little late, bu\"\n",
      "------ temperature: 0.2\n",
      "ich you made anappointment with me for six o'clock?yes, sir. i am afraid that i am a little late, but he had been have a should be a stare of the stare of the lood and the stand and the start of the door of the street of the companion of the soof the should should of the street of the man that it was a conclused a little of the door of the will and will be a street of the stare of the was of the street of the came that it was the good of the door of the closh of the door of the door of the door \n",
      "------ temperature: 0.5\n",
      "treet of the came that it was the good of the door of the closh of the door of the door of the door man more his bagger and the strage in the amoning it a little and having and the most part him. i am a get after a clas a clow of the door saw with a little a nerece which was do which i remarked the will which had been complet of the books were has do his consime of his some starred a sill a fell a question my father of the wife of his hand, said he, and the consonion that that it was the are and\n",
      "------ temperature: 1.0\n",
      " question my father of the wife of his hand, said he, and the consonion that that it was the are and feet you boaking cuftitur i value i could readyby the smalf paper broward avair your good-back shouts air alusubbankly; my aquoachueflerwo st. my offer how,said he. have the vould with a newal mence into my ow, of the lastway ho.and the man.come flagiint, light?you selt? you asked at her of the little ofture in the havicion, and he way teffer that you shall diy. i am satuseling it or old ramenopp\n",
      "------ temperature: 1.2\n",
      "tle ofture in the havicion, and he way teffer that you shall diy. i am satuseling it or old ramenopporit the sitlle; myselfed ex iman. now at.'though may yourm.no, but wilk have ever you porditeder ih, down abank oomed thick belledare it a dobbywith was but ih teaters.hadminpone. fand!wasoy! i though  valeapss ofthe downarr round polminams of her. he nex.irever haps in pa. i was no eared you! the kide't tohalf-quore atpose in lardoblusall. ihare chrigcten. and oblechafathather; my fict maneancki\n",
      "epoch 4\n",
      "Train on 181414 samples\n",
      "181414/181414 [==============================] - 29s 161us/sample - loss: 1.5657 - acc: 0.5321\n",
      "--- Generating with seed: \"r is somewhat luxuriant, and of a rather peculiar tint ofchestnut. it has been considered artistic. \"\n",
      "------ temperature: 0.2\n",
      "r is somewhat luxuriant, and of a rather peculiar tint ofchestnut. it has been considered artistic. i was a stronger with the station the station to the station. it is a strange and the see that i have been some see in the papers which has station to have been with the station was a strange and the station to the position to the station and to the station to the station to the papers were it to the palled to the signation of the papers to the some see in the station which he see the station to h\n",
      "------ temperature: 0.5\n",
      "e palled to the signation of the papers to the some see in the station which he see the station to have it to the room to have it in the was possible in the books to the station. but you were some see i to the most find in the man to be to the wathon and hour, and the way her some the nettile from the hand the place of was see the look was mr. so her see the palled so there was it and able wave you should distain were that the self to the large at his complnied of the find any sit pass under the\n",
      "------ temperature: 1.0\n",
      "u should distain were that the self to the large at his complnied of the find any sit pass under the mrienspilling other door light. buc a becamedor crime of lord a dat that frince wills, a laterward holmes.and he not i have excartion? thub upon preyelblay toby end see your carnefwas hissh was extraence aften through, sold inthesitinned lestis seworres of madal horrof from i passtangent buty plays of the way the pale? he yes, you wifes. younseee of a strangle so. it is, in it all; it have me bro\n",
      "------ temperature: 1.2\n",
      " of the way the pale? he yes, you wifes. younseee of a strangle so. it is, in it all; it have me brough--feprroopable, by his five wiflall frentuewo see evently rate-posibeoapyit we bellanot not' nothaller fren on my lary? that i main hall of,had suchertain, ming her net!''then iboution placedare oncoccelledof lanealiseally, know ittocisl upsaid k observe, andhe was again, would just-ceried.ye?hasmet.theniessmoy in aretazinist.well, bnowe un friendall that sook that'mition better glading that i \n",
      "epoch 5\n",
      "Train on 181414 samples\n",
      "181414/181414 [==============================] - 28s 152us/sample - loss: 1.5214 - acc: 0.5428\n",
      "--- Generating with seed: \"zes on the strength of anumber of objections which had been drawn out by holmes andsubmitted to the \"\n",
      "------ temperature: 0.2\n",
      "zes on the strength of anumber of objections which had been drawn out by holmes andsubmitted to the started and she was the the the carriage and the street. i have a strust and the man and house is he said to me and the started and the bosh of the started and were and the stood to the street of the started at the matters of the case and the stood and were to be all the stark and stood and stood and started to me and stood the stark and stood and there is the man and stood and the started his han\n",
      "------ temperature: 0.5\n",
      "d started to me and stood the stark and stood and there is the man and stood and the started his hands. i do the passed at the hands. we was there was some once me of the ways of the finition which is the clawing been sat a gentleman, mr. more in the stone of the moten upon the way have early on the closiculary little and clear. there was a recaully there would seen as i was house the carriagenent and were for us his man was for minutely and she has alreared up, and not the man and to a munding \n",
      "------ temperature: 1.0\n",
      " and were for us his man was for minutely and she has alreared up, and not the man and to a munding andwhich if very nature up either inethens. you would to uster, and he stepped out, to mr. starking objecta was of which is glanching?and 'you cannot a corck. i relick into the clawthy pare struke of a mystery. mored. we may not aga, but but lies to arrocter. me, but it windows as to the swimbub of the busing all the stout positions depore the sat enting up of which you do.it can undarkly befores \n",
      "------ temperature: 1.2\n",
      "the busing all the stout positions depore the sat enting up of which you do.it can undarkly befores dany lear up the sab dined in athere!valute call isbas buared her katclupaged him blur.yes. having a paneblack.there as inst in epthish himceepy.afterfinely. i impresens alroumugavop you-seees through we goten dear's from it, at the door, ivuntly ispecailes eyes tere came.they offet the occarrof.quite so.onised indexally. now hos himbuchlyurturn.the paper.i's not?he was of stenga. minethy stusten \n"
     ]
    },
    {
     "data": {
      "image/png": "[encoded data removed]",
      "text/plain": [
       "<Figure size 432x288 with 1 Axes>"
      ]
     },
     "metadata": {
      "needs_background": "light"
     },
     "output_type": "display_data"
    },
    {
     "data": {
      "image/png": "[encoded data removed]",
      "text/plain": [
       "<Figure size 432x288 with 1 Axes>"
      ]
     },
     "metadata": {
      "needs_background": "light"
     },
     "output_type": "display_data"
    }
   ],
   "source": [
    "# Train the Model\n",
    "# Enter your code here:\n",
    "import random\n",
    "import sys\n",
    "\n",
    "acc_list= []\n",
    "loss_list = []\n",
    "\n",
    "for epoch in range(1, 6):\n",
    "    print('epoch', epoch)\n",
    "    # Fit the model for 1 epoch on the available training data\n",
    "    history = model.fit(X, y,\n",
    "              batch_size=128,\n",
    "              epochs=1)\n",
    "    acc = history.history['acc']\n",
    "    loss = history.history['loss']\n",
    "    acc_list.append(acc)\n",
    "    loss_list.append(loss)\n",
    "    \n",
    "    # Select a text seed at random\n",
    "    start_index = random.randint(0, len(text) - window_size - 1)\n",
    "    generated_text = text[start_index: start_index + window_size]\n",
    "    print('--- Generating with seed: \"' + generated_text + '\"')\n",
    "   \n",
    "    \n",
    "    for temperature in [0.2, 0.5, 1.0, 1.2]:\n",
    "        print('------ temperature:', temperature)\n",
    "        sys.stdout.write(generated_text)\n",
    "\n",
    "        # We generate 400 characters\n",
    "        for i in range(400):\n",
    "            sampled = np.zeros((1, window_size, len(chars)))\n",
    "            for t, char in enumerate(generated_text):\n",
    "                sampled[0, t, char_indices[char]] = 1.\n",
    "\n",
    "            preds = model.predict(sampled, verbose=0)[0]\n",
    "            next_index = sample(preds, temperature)\n",
    "            next_char = chars[next_index]\n",
    "\n",
    "            generated_text += next_char\n",
    "            generated_text = generated_text[1:]\n",
    "\n",
    "            sys.stdout.write(next_char)\n",
    "            sys.stdout.flush()\n",
    "        print()\n",
    "\n",
    "\n",
    "graph_acc = []\n",
    "for i in acc_list:\n",
    "    for j in i:\n",
    "        graph_acc.append(j)\n",
    "        \n",
    "graph_loss = []\n",
    "for i in loss_list:\n",
    "    for j in i:\n",
    "        graph_loss.append(j)\n",
    "    \n",
    "#Plotting training graphs\n",
    "%matplotlib inline\n",
    "import matplotlib.pyplot as plt\n",
    "\n",
    "epochs = range(1, len(graph_acc) + 1)\n",
    "\n",
    "plt.plot(epochs, graph_acc, 'bo', label='Training acc')\n",
    "plt.title('Training accuracy')\n",
    "plt.legend()\n",
    "\n",
    "plt.figure()\n",
    "\n",
    "plt.plot(epochs, graph_loss, 'bo', label='Training loss')\n",
    "plt.title('Training loss')\n",
    "plt.legend()\n",
    "\n",
    "plt.show()"
   ]
  },
  {
   "cell_type": "code",
   "execution_count": 23,
   "metadata": {},
   "outputs": [],
   "source": [
    "# Save the Model\n",
    "model.save('chgen_model_3.h5')"
   ]
  },
  {
   "cell_type": "markdown",
   "metadata": {},
   "source": [
    "### Model #4 LSTM Adam Add layer, increase lr Win Size 100"
   ]
  },
  {
   "cell_type": "code",
   "execution_count": 26,
   "metadata": {},
   "outputs": [
    {
     "name": "stdout",
     "output_type": "stream",
     "text": [
      "Model: \"sequential_5\"\n",
      "_________________________________________________________________\n",
      "Layer (type)                 Output Shape              Param #   \n",
      "=================================================================\n",
      "lstm_8 (LSTM)                (None, 100, 64)           25600     \n",
      "_________________________________________________________________\n",
      "lstm_9 (LSTM)                (None, 64)                33024     \n",
      "_________________________________________________________________\n",
      "dense_4 (Dense)              (None, 35)                2275      \n",
      "=================================================================\n",
      "Total params: 60,899\n",
      "Trainable params: 60,899\n",
      "Non-trainable params: 0\n",
      "_________________________________________________________________\n"
     ]
    }
   ],
   "source": [
    "# Build the Model\n",
    "# Enter your code here:\n",
    "from tensorflow.keras import layers\n",
    "from tensorflow.keras import optimizers\n",
    "\n",
    "model = keras.models.Sequential()\n",
    "model.add(layers.LSTM(64, return_sequences=True, input_shape=(window_size, len(chars))))\n",
    "model.add(layers.LSTM(64))\n",
    "model.add(layers.Dense(len(chars), activation='softmax'))\n",
    "\n",
    "optimizer = optimizers.Adam(lr=0.05)\n",
    "model.compile(loss='categorical_crossentropy', optimizer=optimizer, metrics=['acc'])\n",
    "model.summary()"
   ]
  },
  {
   "cell_type": "code",
   "execution_count": 27,
   "metadata": {},
   "outputs": [
    {
     "name": "stdout",
     "output_type": "stream",
     "text": [
      "epoch 1\n",
      "Train on 181414 samples\n",
      "181414/181414 [==============================] - 32s 176us/sample - loss: 2.1146 - acc: 0.3790\n",
      "--- Generating with seed: \"ppears to have had little of his own, and to havebeen under such obligations to turner, should still\"\n",
      "------ temperature: 0.2\n",
      "ppears to have had little of his own, and to havebeen under such obligations to turner, should still to compler to word to is and the mare to which the forer with the the boour the mare to the the the wood to the will the was the mare to the was have the wood to which the mare in the wood the the wood to mare to the mare and to the mare the bore the was the mare to the mare with the poour to the boour the the will to the was have word the wood to the wood and and the wood the mare in the was the\n",
      "------ temperature: 0.5\n",
      "oour the the will to the was have word the wood to the wood and and the wood the mare in the was the it could and been ornow, but and with the door with i at up with and becare, and being in the fose do bater the pir to is and with son from the mare and the mare, it is and the dire mare not in the dicter to beto i am her were was have was in the mare. and the brougher the where she boom to the know, and and is sor one the there the word holmes of a comper to blite becoblimplise, what have him, b\n",
      "------ temperature: 1.0\n",
      "w, and and is sor one the there the word holmes of a comper to blite becoblimplise, what have him, buf i narbangses wasbirion bite to courchy acim, and and complotesteuting thing bett pest, is and that ard! and mode that the postowewher wavectoum douncelied bett as the lirelifouse windribar, the mewarelt want, withtherein the goonouching aje chating holden,will, beoung art to comp, and now breaten belarl. his crum, the clale.then, hole, you candistle was dojelver tominle.quwision up louot mr. co\n",
      "------ temperature: 1.2\n",
      " belarl. his crum, the clale.then, hole, you candistle was dojelver tominle.quwision up louot mr. cofe, he quimblytettent an is! but beed bpist myhation, ofth anmbetlitcramingseet and whichh the loom therealeatasp,our up frretoug  trorgrees. are ar tomrotterwible an thelkold thor, why but the iz-uw milth ishim tonassom? henues.then, 'to, bull. with been stearthe wo be moy eevertion toll hurroomyoub'withes. ins. lookes, bewow,nolded beer and acqisidche; soleumld sioned. witwh anief aincommookwind\n",
      "epoch 2\n",
      "Train on 181414 samples\n",
      "181414/181414 [==============================] - 29s 162us/sample - loss: 1.8860 - acc: 0.4380\n",
      "--- Generating with seed: \" soonset it right ourselves. what do you think of such a commission asthat?''the work appears to be \"\n",
      "------ temperature: 0.2\n",
      " soonset it right ourselves. what do you think of such a commission asthat?''the work appears to be the lattle and the care and the the was the point have the word the was the little a preak holmes a poon the lattle that the inve the come the land the latter the care in the lattle the posting and holmes the word the clather the word and the lather have in the have the dister holmes and the wounted the can a preak of the the man state the latter in the state in the can was the which a very which \n",
      "------ temperature: 0.5\n",
      " the can a preak of the the man state the latter in the state in the can was the which a very which to head a strest the she was sere the strear which was his a sear white and the whitter, it is i have in the call when a prese the have the street which was and have all a purning the word a prese that his pon see with be that that were which it state it strabstareed the streared the treast can where the and holmes who matter the colreak rored a strain the pock, the strear be thestust was to in ne\n",
      "------ temperature: 1.0\n",
      "e the and holmes who matter the colreak rored a strain the pock, the strear be thestust was to in near, wish in thereout whitethenot me a critt have levemphisatterve son to yoursee the borger comgear, offul was as itsent kuve to we, i shar bainjeantant then, rathy the whard the buttion ress would cusaliving, itwall chowent turn grague that i had not cobroyy behing her. a lappled dreaster rematted very seen the swould who have i cake be my hund but pame drangys, bardosting in upquiponder sai who \n",
      "------ temperature: 1.2\n",
      "very seen the swould who have i cake be my hund but pame drangys, bardosting in upquiponder sai who factem.hechears, wriverdhrigatursivewest andwave-treescrattered clew throuotpungur appoctung's rightly a very in the steatt it, holmeslapgeeeden up. twoyout-soldainat that was cemeturisite all when.was not i leatare.a vingturga, rase plantpen that howeveryyeswas was pecmegantied, goygrachic. mustitshing. it was gutibonind bednove being,nes humsititatingd of wnat the latted back-intere can ortignmi\n",
      "epoch 3\n",
      "Train on 181414 samples\n",
      "181414/181414 [==============================] - 29s 160us/sample - loss: 1.8388 - acc: 0.4533\n",
      "--- Generating with seed: \"had beenwatching me eagerly out of his small eyes, and i could see ashadow pass over his face as i s\"\n",
      "------ temperature: 0.2\n",
      "had beenwatching me eagerly out of his small eyes, and i could see ashadow pass over his face as i should was a mind to a man of the man the she had a man to the man a most a munk as the man to the man a mine a morner wind a most to the she was a mine a man to the so so our to my was of the little will to him mere a mondent of the long a most a morred a morner a feath a contain of the constrick a fer to the the man to a mine the condend a confect a very to the so a fear to a mine a mine and his \n",
      "------ temperature: 0.5\n",
      "fer to the the man to a mine the condend a confect a very to the so a fear to a mine a mine and his compay to the disted to with a man so was as a chare here to he come me advand and consee in a more the beastend a for so our was be less to be to singer a most to betten as i had see that she would on the back had no dearine pleader a made seen a fathound holmes a seated see to see of the tolother done to my boustrear hose and a mine the was was my lished manss for amarted of you asker and wife a\n",
      "------ temperature: 1.0\n",
      "done to my boustrear hose and a mine the was was my lished manss for amarted of you asker and wife acqueaoneinap-user came my see up jaining not byture and wonthumie to canousiend. i lep dasion, as i town that goonrounder weneies mort no, of plisk stuastastion temonceblythat is wall glead no clectorinengleting me andone to blicning mast sidgee a folro, an of adenton of you had afuwhen, at see exceestcutter were to dridly ky chr. shlether yourwish encontury home to soy froncemy mict all to muston\n",
      "------ temperature: 1.2\n",
      "estcutter were to dridly ky chr. shlether yourwish encontury home to soy froncemy mict all to mustone rawboty entad as speet a difty dush, after to broke ameminencely in tareshaftely lap up that yout to was commonmy askohesserface spose, on fepaist prodvresalway, slen sengedwoll cack fonfexmendchiminud isa qoobely sonmiebinentle selss. i wisturmerlar lock, whan that.'nunedised agushen, implestyh,io?we, browed, 'mupsody mepyfikelongtunemiand this man of thewouned windyraough. and androrgaggerh! h\n",
      "epoch 4\n",
      "Train on 181414 samples\n",
      "181414/181414 [==============================] - 30s 163us/sample - loss: 1.8219 - acc: 0.4590\n",
      "--- Generating with seed: \"he rope wasthere as a bridge for something passing through the hole andcoming to the bed. the idea o\"\n",
      "------ temperature: 0.2\n",
      "he rope wasthere as a bridge for something passing through the hole andcoming to the bed. the idea of the was in the man the was the was the man the fatel the last and the have a stand the was the was and the mer in the was and was and was the was and fatel the little and the was the was and the was the was and was the was and was the was the was and the have and have all the tingle of the was and fatel the was the coron the was the was the tingers which and was a state that it is was a have and\n",
      "------ temperature: 0.5\n",
      " fatel the was the coron the was the was the tingers which and was a state that it is was a have and make in and lead which have he rest be corned my corfer that the worned the dess and did that the has when of that the adventer the tingered baken and look think larner a dent me uplesmer has the condress the sain the was the dar have and man and face of the ditter that the conneled me me which the morner in the go look and man that the compourt breadstand of for the faten, and i oppoint your and\n",
      "------ temperature: 1.0\n",
      " morner in the go look and man that the compourt breadstand of for the faten, and i oppoint your and in coure jer.you guepibly from and he dar's anxe to enter,howeveryers thinktife at drourspecs in the once then that him had there with in that thoweds in i nating is supft ofthinky must take owrough cauted from insive that that i had forlving he didpanth taked betwenon of a statonalm one, he gresave a gligh the morawrounglould foring to down upge and fortaclling aclave insence on of his served as\n",
      "------ temperature: 1.2\n",
      "e a gligh the morawrounglould foring to down upge and fortaclling aclave insence on of his served as at this a.larlagind which arritt stesmator bakemorner vewing his the tlecorn alim. porfised maising enar reamlohn the leppote takeg yourcwave taid were.oh, and two,her, but eted--where this one, afge?arrit have look. i sling thereet avublemughniou upher the k, of 'a'dle icagasl werre ds afcingcharrilign. i a veove enfe was leittentale canthe dee, hakpas and bit up than conchadve go who seeds betw\n",
      "epoch 5\n",
      "Train on 181414 samples\n",
      "181414/181414 [==============================] - 29s 159us/sample - loss: 1.8122 - acc: 0.4613\n",
      "--- Generating with seed: \"of course, i forgot that. but the writing?what else can be indicated by that right cuff so very shin\"\n",
      "------ temperature: 0.2\n",
      "of course, i forgot that. but the writing?what else can be indicated by that right cuff so very shine and has a come to the would to the compand to the come have a come to the come to the compast of the come would and the man to the street to the more to the side and has to the little to the would the crome the would the man the parthed to the lart to the compain of the has the would have a crain in the has the clair the sure to the pound the compart and man and pain the would in the compain the\n",
      "------ temperature: 0.5\n",
      "in the has the clair the sure to the pound the compart and man and pain the would in the compain the mied the bank felly as are what it to be into felious back a priewy to the dress for the would of the comperfrant to the positing at the proper be in what when the compand to the offarked that the doubt handed him as said is a round cire who the tinded the dember to the time to the think him to the round it to the prufess that i mert a shall maniad as him the could the more have been the state in\n",
      "------ temperature: 1.0\n",
      " round it to the prufess that i mert a shall maniad as him the could the more have been the state inthere be jusicairfour everlay a clainded before werehall him has insque.dealuites of tine you could inscectrrew of thome an stase but i came outne that i carnerenturn it irune a know, he hadsis it?he wux i five streep rutrarried sided at the would perhaps a gupeds writorlyfor in his is where not aen.yes, shag, the rusiatry, have maducly a urn, a tooups:to the buiecine they lar a the roke-o leottio\n",
      "------ temperature: 1.2\n",
      ".yes, shag, the rusiatry, have maducly a urn, a tooups:to the buiecine they lar a the roke-o leottion surez rotter down, andeolcheny frienc evingingsciting hokeliamd allub a marssisel akenthick in last!oewosturney appearnarached houmde' nittly hil.halsing evence adencey.holmes a larketshouttmo i have sotiys du proomaracch tronded pound? every lockand,thobed of iming. he and may knuse lookevetrelung iningsofout by awampubritedic,ercriagered. i quour. mothe to will ttellwhich esme kirh quiting ins\n"
     ]
    },
    {
     "data": {
      "image/png": "[encoded data removed]",
      "text/plain": [
       "<Figure size 432x288 with 1 Axes>"
      ]
     },
     "metadata": {
      "needs_background": "light"
     },
     "output_type": "display_data"
    },
    {
     "data": {
      "image/png": "[encoded data removed]",
      "text/plain": [
       "<Figure size 432x288 with 1 Axes>"
      ]
     },
     "metadata": {
      "needs_background": "light"
     },
     "output_type": "display_data"
    }
   ],
   "source": [
    "# Train the Model\n",
    "# Enter your code here:\n",
    "import random\n",
    "import sys\n",
    "\n",
    "acc_list= []\n",
    "loss_list = []\n",
    "\n",
    "for epoch in range(1, 6):\n",
    "    print('epoch', epoch)\n",
    "    # Fit the model for 1 epoch on the available training data\n",
    "    history = model.fit(X, y,\n",
    "              batch_size=128,\n",
    "              epochs=1)\n",
    "    acc = history.history['acc']\n",
    "    loss = history.history['loss']\n",
    "    acc_list.append(acc)\n",
    "    loss_list.append(loss)\n",
    "    \n",
    "    # Select a text seed at random\n",
    "    start_index = random.randint(0, len(text) - window_size - 1)\n",
    "    generated_text = text[start_index: start_index + window_size]\n",
    "    print('--- Generating with seed: \"' + generated_text + '\"')\n",
    "   \n",
    "    \n",
    "    for temperature in [0.2, 0.5, 1.0, 1.2]:\n",
    "        print('------ temperature:', temperature)\n",
    "        sys.stdout.write(generated_text)\n",
    "\n",
    "        # We generate 400 characters\n",
    "        for i in range(400):\n",
    "            sampled = np.zeros((1, window_size, len(chars)))\n",
    "            for t, char in enumerate(generated_text):\n",
    "                sampled[0, t, char_indices[char]] = 1.\n",
    "\n",
    "            preds = model.predict(sampled, verbose=0)[0]\n",
    "            next_index = sample(preds, temperature)\n",
    "            next_char = chars[next_index]\n",
    "\n",
    "            generated_text += next_char\n",
    "            generated_text = generated_text[1:]\n",
    "\n",
    "            sys.stdout.write(next_char)\n",
    "            sys.stdout.flush()\n",
    "        print()\n",
    "\n",
    "\n",
    "graph_acc = []\n",
    "for i in acc_list:\n",
    "    for j in i:\n",
    "        graph_acc.append(j)\n",
    "        \n",
    "graph_loss = []\n",
    "for i in loss_list:\n",
    "    for j in i:\n",
    "        graph_loss.append(j)\n",
    "    \n",
    "#Plotting training graphs\n",
    "%matplotlib inline\n",
    "import matplotlib.pyplot as plt\n",
    "\n",
    "epochs = range(1, len(graph_acc) + 1)\n",
    "\n",
    "plt.plot(epochs, graph_acc, 'bo', label='Training acc')\n",
    "plt.title('Training accuracy')\n",
    "plt.legend()\n",
    "\n",
    "plt.figure()\n",
    "\n",
    "plt.plot(epochs, graph_loss, 'bo', label='Training loss')\n",
    "plt.title('Training loss')\n",
    "plt.legend()\n",
    "\n",
    "plt.show()"
   ]
  },
  {
   "cell_type": "code",
   "execution_count": 28,
   "metadata": {},
   "outputs": [],
   "source": [
    "# Save the Model\n",
    "model.save('chgen_model_4.h5')"
   ]
  },
  {
   "cell_type": "markdown",
   "metadata": {},
   "source": [
    "### Model #5 GRU RMSprop Base Win Size 100"
   ]
  },
  {
   "cell_type": "code",
   "execution_count": 14,
   "metadata": {},
   "outputs": [
    {
     "name": "stdout",
     "output_type": "stream",
     "text": [
      "Model: \"sequential\"\n",
      "_________________________________________________________________\n",
      "Layer (type)                 Output Shape              Param #   \n",
      "=================================================================\n",
      "gru (GRU)                    (None, 128)               63360     \n",
      "_________________________________________________________________\n",
      "dense (Dense)                (None, 35)                4515      \n",
      "=================================================================\n",
      "Total params: 67,875\n",
      "Trainable params: 67,875\n",
      "Non-trainable params: 0\n",
      "_________________________________________________________________\n"
     ]
    }
   ],
   "source": [
    "# Build the Model\n",
    "# Enter your code here:\n",
    "from tensorflow.keras import layers\n",
    "from tensorflow.keras import optimizers\n",
    "\n",
    "model = keras.models.Sequential()\n",
    "model.add(layers.GRU(128, input_shape=(window_size, len(chars))))\n",
    "model.add(layers.Dense(len(chars), activation='softmax'))\n",
    "\n",
    "optimizer = optimizers.RMSprop(lr=0.01)\n",
    "model.compile(loss='categorical_crossentropy', optimizer=optimizer, metrics=['acc'])\n",
    "model.summary()"
   ]
  },
  {
   "cell_type": "code",
   "execution_count": 15,
   "metadata": {},
   "outputs": [
    {
     "name": "stdout",
     "output_type": "stream",
     "text": [
      "epoch 1\n",
      "Train on 181414 samples\n",
      "181414/181414 [==============================] - 35s 191us/sample - loss: 1.9674 - acc: 0.4231\n",
      "--- Generating with seed: \"ld not have thoughtthere were so many in the whole country as were brought togetherby that single ad\"\n",
      "------ temperature: 0.2\n",
      "ld not have thoughtthere were so many in the whole country as were brought togetherby that single ad to the stronged that i conforning to the conting to the conside of the sone in the stoon on the morning been to the morning and were the stone and before my man that i seal not heard that in the conside of the conside of the conting that i have been but then in the conside to the conside of the conside of the conside of the conside to the man that i have not been the conside of the consides whone\n",
      "------ temperature: 0.5\n",
      "side of the conside of the conside to the man that i have not been the conside of the consides whones on the crost on the crases, wasnessing side for then then to my one which the mare that he my more to the men that i been into then this one to for the looms were the room dances, and then the conside, so then in then, but i have been but you musting to then there in the inders were then there on that in then on then instrest of thesed and spenced the woran the conside of this not one, for the c\n",
      "------ temperature: 1.0\n",
      "that in then on then instrest of thesed and spenced the woran the conside of this not one, for the ctlosce howexgeed into tilling to bretions old in nixionsingly ofthought my porosing, then ermestronsed that whinsike handerce, in't-in, he aspurp businge'r's onithbehadsxingent be ioneve juttebrewoom. sleck would is an told be black.''new with he paid, then iswhart onsones, was poht are onmine.errong passing-geaf ploxmed by fact or myleds and hees foedat, there my frop the ploominghe hownrestyers,\n",
      "------ temperature: 1.2\n",
      "g passing-geaf ploxmed by fact or myleds and hees foedat, there my frop the ploominghe hownrestyers,feeireble brales quirtnorfme thiling-bleiced.''a lidgery cmaiy doorhwaserlood my  forly mr. mbrenmil. stugicled a ambity in andacooning, wefen ob fener whocticant ofstrint afispo pell ifterented be wethone wered noctionselvoring to in uppar is undid tlem and in tusinong.thatborgmak bran adusbe ma mptlet thackh, what i hoosasf. no !clilbs atsale unterrataingtony men. plecives brave inglve notwerver\n",
      "epoch 2\n",
      "Train on 181414 samples\n",
      "181414/181414 [==============================] - 22s 121us/sample - loss: 1.7318 - acc: 0.4883\n",
      "--- Generating with seed: \"hed at pondicherry in january and february in'. there were thirty-six ships of fair tonnage which we\"\n",
      "------ temperature: 0.2\n",
      "hed at pondicherry in january and february in'. there were thirty-six ships of fair tonnage which were the room to the land in the land in the strong the door of the last me the lander the preser. i think that i have been and the great of the selfed the logg the reast read to the moss the lander the preser in the street of the lame the lander in the lander the street of the room to the stoor of the preser in the lange of the man in the room to the land in the reast was the land in the street and\n",
      "------ temperature: 0.5\n",
      "e preser in the lange of the man in the room to the land in the reast was the land in the street and seet into the matter in the great that it. the truming the adver that he come to the allordar and wooden into the lad it stood that it from the lands look me, and is that the laged to that i cas by the trustion, press in ithan cleare presertice and before the street under to the morning the matter in the last reastured that it be in the class allorder the the fart of his trie drong to be a man, a\n",
      "------ temperature: 1.0\n",
      "in the last reastured that it be in the class allorder the the fart of his trie drong to be a man, and endisen,bushe heads toy up.he trowred down, and any by, betroes tright ploctioning as it is uft not verve that if that itwell. i alfleout of handed upon yout geose long?i have even frit using that. i can't limmeday of letter roumnce the dathel.werl.that is svomagred which. you go. now trabse nerle of sheall cotirtance.'we mythe momething that you entreating came toy umnorsulish, fant is pies of\n",
      "------ temperature: 1.2\n",
      "e of sheall cotirtance.'we mythe momething that you entreating came toy umnorsulish, fant is pies ofr'sack, cord the llear poser.you? waigxtwrigicantling we levlows sigice-anet clusginat to geame, not an down ive, sit inbsught and slemplemoker wooda. in you prise, and from ture by lare.i uping to mathed holmes prspertwer amiteshate me chungate, orling !face.thes is i roone to i was even when i a some then, not yender dut onabevirmonn. it night'? that press tirem. than whot ise, gone of.my feeaes\n",
      "epoch 3\n",
      "Train on 181414 samples\n",
      "181414/181414 [==============================] - 20s 112us/sample - loss: 1.6739 - acc: 0.5047\n",
      "--- Generating with seed: \"ther stopped to light a lantern, and then conducted usdown a dark, earth-smelling passage, and so, a\"\n",
      "------ temperature: 0.2\n",
      "ther stopped to light a lantern, and then conducted usdown a dark, earth-smelling passage, and so, and the stall and and was and a chiest and and for a corner and and and and and and and and and was all and and and and and and and and and and and and and and and and and the last and and and and and and the corner, and and and and and and and and in a letter had been and and and and and and the stall were all the seat of the was and and and the remarked to a facter and and and and and the pares, \n",
      "------ temperature: 0.5\n",
      "ll were all the seat of the was and and and the remarked to a facter and and and and and the pares, and that the wind wander and an all the fine and the forlimps and little as a returner and and a seen and he had for been and and eventiant, and all this evening and attering at a fact and all the man wanding of the room. i am all the all sate to seather and and a matter, and the little and and stronge and to count and and had been and and a but all marked a little all the started a face, and the \n",
      "------ temperature: 1.0\n",
      "nge and to count and and had been and and a but all marked a little all the started a face, and the lut or of open us we to flumilessil! hell sell, but windessian bootslasch, and sherceits anball mitle stape.i saudey never thuse and sake. i wand say, and onled achais during it of it a lany hupportilest hary let smel and window, hards enjestraps accarshe; sireunter whichstrestandessmake a bone,assablist to a times roundseventures and and selves a fuwnientands an and and and, with as a red withigr\n",
      "------ temperature: 1.2\n",
      "blist to a times roundseventures and and selves a fuwnientands an and and and, with as a red withigrands twhe no 'byt, and neverof dite a wontumite diencelimbeenione, and a deturning fow hell. he very overwas  fuine aa face turlindorwith pellow harsence, as tmmening allid'svints, in ourningbot, heingsity. risted quite syinthie? i haddo noothe rombless. nair upon that i says emone; s!ithingu! atell. a secure fim filed, allate yeirses?it out in themestions. wa hudlide.wy holefermonrelw baqurere ou\n",
      "epoch 4\n",
      "Train on 181414 samples\n",
      "181414/181414 [==============================] - 22s 119us/sample - loss: 1.6478 - acc: 0.5107\n",
      "--- Generating with seed: \" uncle elias emigrated to america when he was a young man andbecame a planter in florida, where he w\"\n",
      "------ temperature: 0.2\n",
      " uncle elias emigrated to america when he was a young man andbecame a planter in florida, where he was a good and and a partened and and i shall and seemed to my with the and and and the said and and the some was and and the great of the andon and the said and and the pared and and the large and and the other of the said and and the some with the some was a garment and and which i was and the sonely and the and and the fare and the and and the andon and a fartered to the said when i had and who \n",
      "------ temperature: 0.5\n",
      "ly and the and and the fare and the and and the andon and a fartered to the said when i had and who seemed to an and a marked that i was which i was a man and to whiesed, and i would known the and a look the somemy and in so counting and who sauther to and tell and herlook was the hadand and the said and and the pain with the pinted in onered and as i asked to and in the sabe to know the and sat for the are in the astingly in the and, and and so and a that i last to know a poorming after a said \n",
      "------ temperature: 1.0\n",
      "or the are in the astingly in the and, and and so and a that i last to know a poorming after a said her a neavmo. icht were she. sate sme your time estankledngleman boon tomarked take the only in end. they overrel after to be asay no time. i is youlling,ever said nompind, of he seemed to you have patring aboutand paint somethemeafor, and, we enty doncle of looked. househand, i had idnevile, and, it fownded loubrought?i is auchedget in a panshell unke.sen is tonly so, some sai who has the good a \n",
      "------ temperature: 1.2\n",
      "t fownded loubrought?i is auchedget in a panshell unke.sen is tonly so, some sai who has the good a nreen toartamillar-probedg aoraunuedxod sicheyfiloobscormedespinisines, and if courtived all. pondontage awntry my rindar but, of a paoredif as i fried. i shup you watle of re as y utone linymak tarmonous, ever why you picedrystible, and lefus pition geak any tentding as i cark.my rearkryutolyarghat enloege-gaine and upon sesld and by not, and it is ynupinged over my livel,he pull on, werdit by he\n",
      "epoch 5\n",
      "Train on 181414 samples\n",
      "181414/181414 [==============================] - 23s 125us/sample - loss: 1.6333 - acc: 0.5149\n",
      "--- Generating with seed: \"rm rushing towards him,dropped his goose, took to his heels, and vanished amid thelabyrinth of small\"\n",
      "------ temperature: 0.2\n",
      "rm rushing towards him,dropped his goose, took to his heels, and vanished amid thelabyrinth of small in the stand in the stand to my of my fair to a cours with a man in a station of the woods in the course of the stair of the stander in the stand and in the staring in the some window he was a such a stand in the stand of the stand of the other in the stand with a man in the said have street of the in the pain of in the stand in the station of the stand with a station of the stand windibbull mast\n",
      "------ temperature: 0.5\n",
      " in the pain of in the stand in the station of the stand with a station of the stand windibbull masted upon which i shall and so my since, sherrow stand, in with a most man in the and of a break of bettered from the as in the some with the course very some station. i was not mr. she was a droves and she could have not started to give to a coust some had the standuch sit of the said home in his in the pass of the was are and comparines of the indown than in the statter and so the some as in the s\n",
      "------ temperature: 1.0\n",
      "the pass of the was are and comparines of the indown than in the statter and so the some as in the stair of in spall nawress. in cried the foors whavill greenus. will see no firstduces what is found she could a gleatchen.to therenow, s if r hattwey whichsideas whise you ask he fushearew, said he much mean of this timpessionivand with alons of the ofthere, anditnebelive bromenihas necklonglea to blover with that i was found as he have admrat in awring only for our could such i aptee of me, what w\n",
      "------ temperature: 1.2\n",
      "over with that i was found as he have admrat in awring only for our could such i aptee of me, what woite been o fitmetioustand stand, just pavilicly abouty?i deant's undeecions,you, 'ondkiold yext of off lasy said have tened exrontoy a lose, of the aly of the notherruge othourgpehis onmedy daubs timghat is or senreyed than id seafr of two.thes?you. he wassittis all?will know, you wwat stopeing, which mr. itherrove in fronhacrieu upon it. ihams it.into you, know,saix, attly good wive heir's ?n ho\n"
     ]
    },
    {
     "data": {
      "image/png": "[encoded data removed]",
      "text/plain": [
       "<Figure size 432x288 with 1 Axes>"
      ]
     },
     "metadata": {
      "needs_background": "light"
     },
     "output_type": "display_data"
    },
    {
     "data": {
      "image/png": "[encoded data removed]",
      "text/plain": [
       "<Figure size 432x288 with 1 Axes>"
      ]
     },
     "metadata": {
      "needs_background": "light"
     },
     "output_type": "display_data"
    }
   ],
   "source": [
    "# Train the Model\n",
    "# Enter your code here:\n",
    "import random\n",
    "import sys\n",
    "\n",
    "acc_list= []\n",
    "loss_list = []\n",
    "\n",
    "for epoch in range(1, 6):\n",
    "    print('epoch', epoch)\n",
    "    # Fit the model for 1 epoch on the available training data\n",
    "    history = model.fit(X, y,\n",
    "              batch_size=128,\n",
    "              epochs=1)\n",
    "    acc = history.history['acc']\n",
    "    loss = history.history['loss']\n",
    "    acc_list.append(acc)\n",
    "    loss_list.append(loss)\n",
    "    \n",
    "    # Select a text seed at random\n",
    "    start_index = random.randint(0, len(text) - window_size - 1)\n",
    "    generated_text = text[start_index: start_index + window_size]\n",
    "    print('--- Generating with seed: \"' + generated_text + '\"')\n",
    "   \n",
    "    \n",
    "    for temperature in [0.2, 0.5, 1.0, 1.2]:\n",
    "        print('------ temperature:', temperature)\n",
    "        sys.stdout.write(generated_text)\n",
    "\n",
    "        # We generate 400 characters\n",
    "        for i in range(400):\n",
    "            sampled = np.zeros((1, window_size, len(chars)))\n",
    "            for t, char in enumerate(generated_text):\n",
    "                sampled[0, t, char_indices[char]] = 1.\n",
    "\n",
    "            preds = model.predict(sampled, verbose=0)[0]\n",
    "            next_index = sample(preds, temperature)\n",
    "            next_char = chars[next_index]\n",
    "\n",
    "            generated_text += next_char\n",
    "            generated_text = generated_text[1:]\n",
    "\n",
    "            sys.stdout.write(next_char)\n",
    "            sys.stdout.flush()\n",
    "        print()\n",
    "\n",
    "\n",
    "graph_acc = []\n",
    "for i in acc_list:\n",
    "    for j in i:\n",
    "        graph_acc.append(j)\n",
    "        \n",
    "graph_loss = []\n",
    "for i in loss_list:\n",
    "    for j in i:\n",
    "        graph_loss.append(j)\n",
    "    \n",
    "#Plotting training graphs\n",
    "%matplotlib inline\n",
    "import matplotlib.pyplot as plt\n",
    "\n",
    "epochs = range(1, len(graph_acc) + 1)\n",
    "\n",
    "plt.plot(epochs, graph_acc, 'bo', label='Training acc')\n",
    "plt.title('Training accuracy')\n",
    "plt.legend()\n",
    "\n",
    "plt.figure()\n",
    "\n",
    "plt.plot(epochs, graph_loss, 'bo', label='Training loss')\n",
    "plt.title('Training loss')\n",
    "plt.legend()\n",
    "\n",
    "plt.show()"
   ]
  },
  {
   "cell_type": "code",
   "execution_count": 16,
   "metadata": {},
   "outputs": [],
   "source": [
    "# Save the Model\n",
    "model.save('chgen_model_5.h5')"
   ]
  },
  {
   "cell_type": "markdown",
   "metadata": {},
   "source": [
    "### Model #6 GRU RMSprop add layer & dropout Win Size 100"
   ]
  },
  {
   "cell_type": "code",
   "execution_count": 21,
   "metadata": {},
   "outputs": [
    {
     "name": "stdout",
     "output_type": "stream",
     "text": [
      "Model: \"sequential_3\"\n",
      "_________________________________________________________________\n",
      "Layer (type)                 Output Shape              Param #   \n",
      "=================================================================\n",
      "gru_5 (GRU)                  (None, 100, 128)          63360     \n",
      "_________________________________________________________________\n",
      "gru_6 (GRU)                  (None, 64)                37248     \n",
      "_________________________________________________________________\n",
      "dense_3 (Dense)              (None, 35)                2275      \n",
      "=================================================================\n",
      "Total params: 102,883\n",
      "Trainable params: 102,883\n",
      "Non-trainable params: 0\n",
      "_________________________________________________________________\n"
     ]
    }
   ],
   "source": [
    "# Build the Model\n",
    "# Enter your code here:\n",
    "from tensorflow.keras import layers\n",
    "from tensorflow.keras import optimizers\n",
    "\n",
    "model = keras.models.Sequential()\n",
    "model.add(layers.GRU(128,return_sequences=True, input_shape=(window_size, len(chars))))\n",
    "model.add(layers.GRU(64, dropout = 0.1, recurrent_dropout = 0.1))\n",
    "model.add(layers.Dense(len(chars), activation='softmax'))\n",
    "\n",
    "optimizer = optimizers.RMSprop(lr=0.01)\n",
    "model.compile(loss='categorical_crossentropy', optimizer=optimizer, metrics=['acc'])\n",
    "model.summary()"
   ]
  },
  {
   "cell_type": "code",
   "execution_count": 22,
   "metadata": {},
   "outputs": [
    {
     "name": "stdout",
     "output_type": "stream",
     "text": [
      "epoch 1\n",
      "Train on 181414 samples\n",
      "181414/181414 [==============================] - 257s 1ms/sample - loss: 2.0653 - acc: 0.3958\n",
      "--- Generating with seed: \"ad remained when the stripped body had been suckedaway into the river.but i understand that all the \"\n",
      "------ temperature: 0.2\n",
      "ad remained when the stripped body had been suckedaway into the river.but i understand that all the side to the side to the side to the side to the side to the side to the sidning to the side to the side to the side to the side to the same to the dead to the sidning to the side, i shall in the comple to the see to the side to the sidning to the sop the servent in the some to the sidning to the comple to the side to the side to the sidning to the side to the sidning to the seen to the deached to \n",
      "------ temperature: 0.5\n",
      "ple to the side to the side to the sidning to the side to the sidning to the seen to the deached to me to the caster me she to the rettorned be to the side to my sud to the compent in the condon the sidning to the some to the sopent read my stone to the see the side strent as the should be the comple to there same to the could in i were the spiented be to the crient to the door it to the cangented to the sand to the stsing to to the sidno for the side to the said the side. i doat to the spanter \n",
      "------ temperature: 1.0\n",
      " to the sand to the stsing to to the sidno for the side to the said the side. i doat to the spanter could, could, it cee my and his deeard to the sertion, litt the dond were some at with the cameam, pondor bride daster was the capides where forme shies but i, prese brgpofor to am mo look cctord. be to, nrald be spettone the fire ark wime not at?it had formest for for i be ustore, i offor there watthe sind sthoom tappange. he down at, in setcite for canse, mr. you dedmake in a chant. it in, so me\n",
      "------ temperature: 1.2\n",
      "the sind sthoom tappange. he down at, in setcite for canse, mr. you dedmake in a chant. it in, so me to fincneately, me fany enterg. but to add is ofndkoner, itfould the skere., and cuself in as tal to his putterineals asy. i vers presoquetn..wide.jeve beconveepserved dectoidns.he tone, that tome worning-withuanged it is com and may then'ce fints. did my hooke, in i what you. i caunds mint a my so the sne then noug rogvaldtherough bente, it same of to begt the smmpporid been is his actout the si\n",
      "epoch 2\n",
      "Train on 181414 samples\n",
      "181414/181414 [==============================] - 259s 1ms/sample - loss: 1.8785 - acc: 0.4484s - loss:\n",
      "--- Generating with seed: \"f in ayellow-backed novel. the puny plot of the story was so thin,however, when compared to the deep\"\n",
      "------ temperature: 0.2\n",
      "f in ayellow-backed novel. the puny plot of the story was so thin,however, when compared to the deepented the man the man of the man i farted the man the man of the man of the man of the there are and me for the man of the man the man the man the man the man man the man the man i for the man the man is the man the man of the man man of the man of the man man i farted me the man i man of the man it is the man i fare for the man the man the man in the man the man the man the man the man it from th\n",
      "------ temperature: 0.5\n",
      " is the man i fare for the man the man the man in the man the man the man the man the man it from the manger me from fide from the man are i comper man i could more coundle of the to are spone and menting the there therestresting of the poand man the tought of the coored menter. i have then one for the man looking with for the to the might the bance of the floth as the coad the sidered for the mather. he is is the door the that he then i man a pand the mather and man i have the and the mather, a\n",
      "------ temperature: 1.0\n",
      "her. he is is the door the that he then i man a pand the mather and man i have the and the mather, and i man of the coads. gred, stand, pory but it orded my worderton i. he are must there gellows thare lood any glock lefied friend the there, andthe leeded muttll manthat had been tre fame,and gectomery thiar fall houd i here then i minkered thed-mint. my fatchnot,sweearing. the trints out line, one up,and chadedpelong upth the gow rooms very from the dintir was my thoughked thoughter mittation fe\n",
      "------ temperature: 1.2\n",
      " up,and chadedpelong upth the gow rooms very from the dintir was my thoughked thoughter mittation fear mare of the visitull ler over ysatctails uspedbectiony it findre. for my runtle him feplaundined..the waie ouch. his glvers is fall'd propery of minterbleatzed. iwbadpeland then, moclifiare?''veald for bufide. i mbeo to a necon urens itseps i have afoinienhed me, not, fo  doidedmy undobour. m'taryint goterfelves full me?the reey.i deiged.he good gived lens arefon i ispered mert is greed i had m\n",
      "epoch 3\n",
      "Train on 181414 samples\n",
      "181414/181414 [==============================] - 251s 1ms/sample - loss: 1.8694 - acc: 0.4500\n",
      "--- Generating with seed: \"him then, but i spared him, though i saw hiswicked little eyes fixed on my face, as though to rememb\"\n",
      "------ temperature: 0.2\n",
      "him then, but i spared him, though i saw hiswicked little eyes fixed on my face, as though to remember it is i had holmes. it is i had deate it is i had her in the strong it is it is i had a constion it is i had to the comped it is word to the was it word it is head in the contined it would heade to to the street to the some to the stronge to in the stronge will in the seen to the strong in the see it is the would he we would he was it is it was it is it is i had been to the see the stronge we h\n",
      "------ temperature: 0.5\n",
      "e it is the would he we would he was it is it was it is it is i had been to the see the stronge we holmes. it heard of the consted of the light he head looked how ease a clack of the stronge now in the little it is i we little a vis find to i had be in the lowed in the seese it is her in the complied will of the some could little to towand i was a addee inthe some it in the stronge for the conter to deeted it is a fint of the would hormerting head in of the conce i head inthe beer weenter it wel\n",
      "------ temperature: 1.0\n",
      "to deeted it is a fint of the would hormerting head in of the conce i head inthe beer weenter it welf, and in that all it woy sistrettenitived not fornone, with twot, adort upreve in the fertweder it was ladge demining in of the gooddedt the mansodbetire upon of he sho, whichoutter it the now frooitide abont it is are morn i shereaon,k soin. why had iss, heased to simbroad, andind estllacly woulst-cat over uphour drive.he wollad holmes, goctinached the cance it of dewing, andworathing it immons \n",
      "------ temperature: 1.2\n",
      "-cat over uphour drive.he wollad holmes, goctinached the cance it of dewing, andworathing it immons fwucl, oned i remauge fous ofnowtly brook licf, morbkoo vieked verick,l is enhorshuntitied, we littloulled or be with in hemily some erneve, bay falthencetly twised upsrmesten hoold, and eved soingtol! tarker, and dleverthelisted thivk expente in then, hed he. tper, wenthet for prafedtedquossed, a' barred bockdcempmives,' sherwame of at lenil gankd bedthe howing un's, tcinil insot you avablacicles\n",
      "epoch 4\n",
      "Train on 181414 samples\n",
      "181414/181414 [==============================] - 269s 1ms/sample - loss: 1.8840 - acc: 0.4451\n",
      "--- Generating with seed: \"ption of an australian from ballarat with a grey cloak.certainly.and one who was at home in the dist\"\n",
      "------ temperature: 0.2\n",
      "ption of an australian from ballarat with a grey cloak.certainly.and one who was at home in the dister the come to the poserter to the corterstress to the core the sound pose to the poserster to the corter to the poserter sour some to the to the compress to the posetter the poserter to the posetter the poserter to the sprocked to the core to the sover the sound to the poserter to the poserssed to the possient to the coloned the could poset to the poselt to the core to the poserter to the possise\n",
      "------ temperature: 0.5\n",
      "the possient to the coloned the could poset to the poselt to the core to the poserter to the possise the comperswered to the to the posetter the possiencer would posersed the she poshard to the coeter to the compasher poselter the possisestulliter pose come to the stretter, and he strettion the sound to the ghave to souster sound the potertione mall some some the forase to have poukerapped to the possion. the sprost severed to the care to to the pocketess to the strodge in the poterssed and serv\n",
      "------ temperature: 1.0\n",
      "possion. the sprost severed to the care to to the pocketess to the strodge in the poterssed and serves the popewented on sater soupllylet to me the tle paspersullersshe have have perecery wouok and chagles to there.i posoch there vieewing the get, i cest.wolmesqhematting mirst.we would maydher, sove the prosweppalgentneshaid stabted aput to perd i coors. you cso.a very protiesball clatyerss into so note to that the sean,rus begremssed then chasted to as heaved that letl speechers--could wandound\n",
      "------ temperature: 1.2\n",
      "o note to that the sean,rus begremssed then chasted to as heaved that letl speechers--could wandound feier muse oud feckaidiine.to she chall tother, yet otherontsbour wough, saycond blacuet the crates to the passils to's-pullvertoy pephanilachsiego sering,leerbher wruppelly must days of -adamor rigbt the chopatet some sanfrysdrleweshar splillall time glock to my toasen. thought-couty with the opened to kip seveerstall whuser,soadlith; botheblard todeereds if which chall si. or cume one.couldfine\n",
      "epoch 5\n",
      "Train on 181414 samples\n",
      "181414/181414 [==============================] - 252s 1ms/sample - loss: 1.9106 - acc: 0.4388\n",
      "--- Generating with seed: \" havegained on every subject which comes under the letter a. you havelost nothing by them.no, sir. b\"\n",
      "------ temperature: 0.2\n",
      " havegained on every subject which comes under the letter a. you havelost nothing by them.no, sir. but the clair. the cate the may the come the may may man that i have the man the may come the come the may may come the may may the may may the come the man may may come the man the may may come the may the may may may come the may come the may the man the may come the clair in the come the man the come the may the canding the come the come the mad the come the clair the come the come the may the c\n",
      "------ temperature: 0.5\n",
      "ome the may the canding the come the come the mad the come the clair the come the come the may the cears. the mark may competing the cotiress which a cang the may me the marring may the the pothing a the can not the come that it and mark it have ce can this him the had may reasit. the come a my of the clain may clinien the mastir the contion the contint the clair my a mation to the colarting the may compish that is my have it is custicurs. the matter matherg in the crain the clair you come to me\n",
      "------ temperature: 1.0\n",
      "ay compish that is my have it is custicurs. the matter matherg in the crain the clair you come to me the case was watsat the littubevert of mewn mingiof yout.yes ing itof, mucts and poeting him that, handear gromo an moy andce.when mine destition toley tion tried.itis icappwight the did at it impoint, iwhoad it is nencil my at you reasing etelarce lymay it.uher, in and they coulnt! cor caning tele cuitestor khorywrime men ththat. ce cair thick a dainaning cent at timeg'tatios thatin i ceathiwh i\n",
      "------ temperature: 1.2\n",
      " cuitestor khorywrime men ththat. ce cair thick a dainaning cent at timeg'tatios thatin i ceathiwh is tupt my an.which out carkiome regair otch cabutniant. i catpostune myhe compey twattingsbyit tetemarnothrind', has ired.my jrcuned.i che himavler ung i twignted clings to may it.yusopl tame much te get me ly, and it with sably twery matt the andingeedsageban. he, centing ay this may may my man, m. they. tay lome him thagray ad.it ag coubgefumame, iveandthe hould thereag, casey shightun i irg? fo\n"
     ]
    },
    {
     "data": {
      "image/png": "[encoded data removed]",
      "text/plain": [
       "<Figure size 432x288 with 1 Axes>"
      ]
     },
     "metadata": {
      "needs_background": "light"
     },
     "output_type": "display_data"
    },
    {
     "data": {
      "image/png": "[encoded data removed]",
      "text/plain": [
       "<Figure size 432x288 with 1 Axes>"
      ]
     },
     "metadata": {
      "needs_background": "light"
     },
     "output_type": "display_data"
    }
   ],
   "source": [
    "# Train the Model\n",
    "# Enter your code here:\n",
    "import random\n",
    "import sys\n",
    "\n",
    "acc_list= []\n",
    "loss_list = []\n",
    "\n",
    "for epoch in range(1, 6):\n",
    "    print('epoch', epoch)\n",
    "    # Fit the model for 1 epoch on the available training data\n",
    "    history = model.fit(X, y,\n",
    "              batch_size=128,\n",
    "              epochs=1)\n",
    "    acc = history.history['acc']\n",
    "    loss = history.history['loss']\n",
    "    acc_list.append(acc)\n",
    "    loss_list.append(loss)\n",
    "    \n",
    "    # Select a text seed at random\n",
    "    start_index = random.randint(0, len(text) - window_size - 1)\n",
    "    generated_text = text[start_index: start_index + window_size]\n",
    "    print('--- Generating with seed: \"' + generated_text + '\"')\n",
    "   \n",
    "    \n",
    "    for temperature in [0.2, 0.5, 1.0, 1.2]:\n",
    "        print('------ temperature:', temperature)\n",
    "        sys.stdout.write(generated_text)\n",
    "\n",
    "        # We generate 400 characters\n",
    "        for i in range(400):\n",
    "            sampled = np.zeros((1, window_size, len(chars)))\n",
    "            for t, char in enumerate(generated_text):\n",
    "                sampled[0, t, char_indices[char]] = 1.\n",
    "\n",
    "            preds = model.predict(sampled, verbose=0)[0]\n",
    "            next_index = sample(preds, temperature)\n",
    "            next_char = chars[next_index]\n",
    "\n",
    "            generated_text += next_char\n",
    "            generated_text = generated_text[1:]\n",
    "\n",
    "            sys.stdout.write(next_char)\n",
    "            sys.stdout.flush()\n",
    "        print()\n",
    "\n",
    "\n",
    "graph_acc = []\n",
    "for i in acc_list:\n",
    "    for j in i:\n",
    "        graph_acc.append(j)\n",
    "        \n",
    "graph_loss = []\n",
    "for i in loss_list:\n",
    "    for j in i:\n",
    "        graph_loss.append(j)\n",
    "    \n",
    "#Plotting training graphs\n",
    "%matplotlib inline\n",
    "import matplotlib.pyplot as plt\n",
    "\n",
    "epochs = range(1, len(graph_acc) + 1)\n",
    "\n",
    "plt.plot(epochs, graph_acc, 'bo', label='Training acc')\n",
    "plt.title('Training accuracy')\n",
    "plt.legend()\n",
    "\n",
    "plt.figure()\n",
    "\n",
    "plt.plot(epochs, graph_loss, 'bo', label='Training loss')\n",
    "plt.title('Training loss')\n",
    "plt.legend()\n",
    "\n",
    "plt.show()"
   ]
  },
  {
   "cell_type": "code",
   "execution_count": 23,
   "metadata": {},
   "outputs": [],
   "source": [
    "# Save the Model\n",
    "model.save('chgen_model_6.h5')"
   ]
  },
  {
   "cell_type": "markdown",
   "metadata": {},
   "source": [
    "### Model #7 GRU Adam Win Size 100"
   ]
  },
  {
   "cell_type": "code",
   "execution_count": 14,
   "metadata": {},
   "outputs": [
    {
     "name": "stdout",
     "output_type": "stream",
     "text": [
      "Model: \"sequential\"\n",
      "_________________________________________________________________\n",
      "Layer (type)                 Output Shape              Param #   \n",
      "=================================================================\n",
      "gru (GRU)                    (None, 128)               63360     \n",
      "_________________________________________________________________\n",
      "dense (Dense)                (None, 35)                4515      \n",
      "=================================================================\n",
      "Total params: 67,875\n",
      "Trainable params: 67,875\n",
      "Non-trainable params: 0\n",
      "_________________________________________________________________\n"
     ]
    }
   ],
   "source": [
    "# Build the Model\n",
    "# Enter your code here:\n",
    "from tensorflow.keras import layers\n",
    "from tensorflow.keras import optimizers\n",
    "\n",
    "model = keras.models.Sequential()\n",
    "model.add(layers.GRU(128, input_shape=(window_size, len(chars))))\n",
    "model.add(layers.Dense(len(chars), activation='softmax'))\n",
    "\n",
    "optimizer = optimizers.Adam(lr=0.01)\n",
    "model.compile(loss='categorical_crossentropy', optimizer=optimizer, metrics=['acc'])\n",
    "model.summary()"
   ]
  },
  {
   "cell_type": "code",
   "execution_count": 15,
   "metadata": {},
   "outputs": [
    {
     "name": "stdout",
     "output_type": "stream",
     "text": [
      "epoch 1\n",
      "Train on 181414 samples\n",
      "181414/181414 [==============================] - 39s 215us/sample - loss: 1.9742 - acc: 0.4187\n",
      "--- Generating with seed: \"drooms opened. holmes refused to examine the thirdchamber, so we passed at once to the second, that \"\n",
      "------ temperature: 0.2\n",
      "drooms opened. holmes refused to examine the thirdchamber, so we passed at once to the second, that i was a little of the liet of the listle starce, and the cried, and i was a little to the more and the one one of the little that i was and the little to the light in the out the certance of the light in the care and it is a seet in the little to the certant of the little that i was a mone and it is a more and the room and the clain. i was a seet in the colon the light on the might in the little t\n",
      "------ temperature: 0.5\n",
      " a more and the room and the clain. i was a seet in the colon the light on the might in the little to a sice, and i was an to the seet our an in the operong in which as we to the light and and a come on the of the sole so the vints what i was a see a little from in the one of the lient of thero be an to his are not be and and the laid that i was a little to dewith thin the caring that i am was as i had seet my to the evend not with the care and the father the readully think to a ure on the inter\n",
      "------ temperature: 1.0\n",
      "i had seet my to the evend not with the care and the father the readully think to a ure on the interactseaf in to last he roone headly out that it wetel taintatters which rod-upon over. you ad as let is you is stain to, inhas cleed as of yount ancemit tom, andagring get into as i doy.'you peepers it, aid clerancal waip folo i smueds from every arour. ityichat my be said up eidswere prosed you seet is cared .there adperes one turned ant we and letcomon bego in ad in i houndeng to be ternten him--\n",
      "------ temperature: 1.2\n",
      " is cared .there adperes one turned ant we and letcomon bego in ad in i houndeng to be ternten him--anded it isy; an flowalse all erablentyot do himused lew which i lound diendy witwhy seetthyet, oh, you cpugnt whore yirbled. ho'me evendey.thenoy noosdos as us you rutios that a seetrdunt up?i had diven yourgint?evinsproicsion lock, you gounck.youall i porect will beword i are yot any extupuled sity oust mrach ined am.nogot a son dare,dain, afferned i haw begindrivchad any tee.it s drempud in at \n",
      "epoch 2\n",
      "Train on 181414 samples\n",
      "181414/181414 [==============================] - 23s 125us/sample - loss: 1.7385 - acc: 0.4839\n",
      "--- Generating with seed: \"orm. in spite of the light brown dustcoat andleather-leggings which he wore in deference to his rust\"\n",
      "------ temperature: 0.2\n",
      "orm. in spite of the light brown dustcoat andleather-leggings which he wore in deference to his rust the still the stangled the clear of the stappont the stact of the stapping the stagange of the stangled the stangled the still the stapped the stangled in the stappont the stangled the stangled the stapped in the stappont in the stangled the stact of the stappon the stages the straight and the still and the strange and the stang the stangled the stappont the stappon the stacter the stangled the s\n",
      "------ temperature: 0.5\n",
      "l and the strange and the stang the stangled the stappont the stappon the stacter the stangled the stapply of she some stepposs the rand the down in the soin the stapsispon all so may is of the race. the cases and sight all the still the own statientow at the shorle which is a courst what is in the stapped and his which it is and a heade out the states and not father face. the starles of the same as the lagge which it is and the hass may that i have at the man her had been the stangled of the st\n",
      "------ temperature: 1.0\n",
      "as the lagge which it is and the hass may that i have at the man her had been the stangled of the sthwine, you warnevthere of littleshe shosm belled side as this the atdrden of his feet turing the cominel one soroneaboxt of your rushous chaweadees, to the posply onday. of infurinel the ented in which is wastrets drugicle that it is in the fartt me hows quite visreturesposs theight evest indeld is mornandown st. stapure, white i had betcamed to there face. you bay thenow-stwat the chousely woodve\n",
      "------ temperature: 1.2\n",
      "mornandown st. stapure, white i had betcamed to there face. you bay thenow-stwat the chousely woodvent in bathed witit, entuced yound up come. the otheis dhsixlow soymony which the cashownddangly yowewhanplice,as strept if a hisldsup of wekinelst in a quited the yent. may we oof's henelfind this stjengt mithost dewew. this gaph to makes surp the paserarndows, in by neves mely.would laydedathe of my herdifespawe quite bukes rand that aps my fairrlac sur?he irouned behand holmes, for in the epsori\n",
      "epoch 3\n",
      "Train on 181414 samples\n",
      "181414/181414 [==============================] - 22s 123us/sample - loss: 1.6814 - acc: 0.4990\n",
      "--- Generating with seed: \"e would seizethe coat, then, and be in the act of throwing it out, when itwould occur to him that it\"\n",
      "------ temperature: 0.2\n",
      "e would seizethe coat, then, and be in the act of throwing it out, when itwould occur to him that it is the man the man the come that i had been that the come that the man in the come the come that i had been that the come that i had to the complation. i had the come the come that i had the come that the come that i had been the atterner that the come that i had to me, and the corrops in the come that i had been that the come that i had been to the come the come that i think that the latter and \n",
      "------ temperature: 0.5\n",
      "that i had been that the come that i had been to the come the come that i think that the latter and which my laner. i hand and the rooms in in the ropsed that my lang upon one of the chair was had been of a come that i were to do you had her is the little to the pairs a little to do you had been time to delised the concent at the come the latter.from the mighting in me, the more called there an the lady of the bolled a carry that he ret is the busing is with the atterto the grown and of the dirn\n",
      "------ temperature: 1.0\n",
      "e lady of the bolled a carry that he ret is the busing is with the atterto the grown and of the dirnew it sliept my, what im akex in my myfuild of all then, add less by i mixure sirn enty the milly-nerion cart, i her spance man dcothers?no do i with from themore cinck into the  fadle, whi hurdorth us might gord the darat, solved of the asked that you fant was care tiff-end. formissy time of ishowelfellentr-caly down,s iscolonen, my farth bakat is the innet, to thes retter! if i could matree up y\n",
      "------ temperature: 1.2\n",
      "lfellentr-caly down,s iscolonen, my farth bakat is the innet, to thes retter! if i could matree up yousebt the stacted, old,atstenwomen heard methend o!ttarth,happarely. it is pryblanistuboddainatingmentl came compaxebrane there is rell, wnlk weirillybee fortirponeramm. itaddided upon, then is rockbe litalider.i hellanced believe, to much suan in by the rungurch fers but stann in the gisconcelled st, pooson.quiedis! for is-hands fthercomstion, fatpenbycerswroswhat this in dez.ever hisswell tray \n",
      "epoch 4\n",
      "Train on 181414 samples\n",
      "181414/181414 [==============================] - 22s 122us/sample - loss: 1.6562 - acc: 0.5062\n",
      "--- Generating with seed: \"theband of ribbed silk and the excellent lining. if this man couldafford to buy so expensive a hat t\"\n",
      "------ temperature: 0.2\n",
      "theband of ribbed silk and the excellent lining. if this man couldafford to buy so expensive a hat the struek when i have not seen a strong which i have been in the struek when i have not a very the struek when i have not a little read in the states of the stall of the started to the struck when i have not seen and the confice and the confice of the struek when i have the conficted to me the struek when i have not a very confists and the struck when i have not a come to the struck when i have no\n",
      "------ temperature: 0.5\n",
      "k when i have not a very confists and the struck when i have not a come to the struck when i have not and the presentian and same in the down the cheeling to pence the ven and four out of the been his such and the matter with a kind she were man when he saw the small mest the beding for i she was in the door in a strugg, said he, and the carriabout the son, i was to the dark when i have a lent unter the door of his hat said he had on the stepper the chating the monstrue by the passupand to the t\n",
      "------ temperature: 1.0\n",
      "er the door of his hat said he had on the stepper the chating the monstrue by the passupand to the thing of greagable contirumble had sat these yion.is do naturon. it has noting me, and hew senurch and a cates from might be ponce at the coronever. falled, sidceuries! stories what shoam sentruct ining aretublest away crons appeading henced ut of the epplare cencomevell---not lathing stepsh and much perstall, for i haven kenned,would we passedar is on around to go, on hers enelven ofhis bed such t\n",
      "------ temperature: 1.2\n",
      " perstall, for i haven kenned,would we passedar is on around to go, on hers enelven ofhis bed such thererest ewing br amerd--month?see mr. hol merely to greatably was eld wenguedha descricton didry fainst tmonotall he sughtem ar fing-soralwerdso iman on the vicwent as know-!ble verorby. there you have you refuence we oldal in, fousers to up uct by wal?yawnlookeyou have to you fol quite from there enought enteame were won. aslonching smell-would muchsenthref puspew ihears mr. hanct nourt naturs c\n",
      "epoch 5\n",
      "Train on 181414 samples\n",
      "181414/181414 [==============================] - 20s 112us/sample - loss: 1.6384 - acc: 0.5117\n",
      "--- Generating with seed: \"mr. holmes, she cried, else how could you knowall that?never mind, said holmes, laughing; it is my b\"\n",
      "------ temperature: 0.2\n",
      "mr. holmes, she cried, else how could you knowall that?never mind, said holmes, laughing; it is my been which was the man where i had been to be the morning to me the stranger to be a little man which she was a considerand the little with the stranger with the window which we see the down the room, and i was down the man the man when i was do not know the little day who see the man who see the train which he day which was the man which was the carriage to me the look and was a fear which we was \n",
      "------ temperature: 0.5\n",
      "in which he day which was the man which was the carriage to me the look and was a fear which we was it were to him. i did you are in the dank who might be in the morning a very advention of the daught and side to me the land strengh and the figgor which as the bere with the dark where we should one the daught of live the light two in the daught and past the far she was a fear the ground dressing to the door her figaring it with the gester and the wards and the down the other the police and get w\n",
      "------ temperature: 1.0\n",
      "o the door her figaring it with the gester and the wards and the down the other the police and get weus mese ear dout in clack. so soan ise stone in kill of luster seemone me matogress.cltandas wemcitied common and the ride, theugh me mach. no known to where mares in the colonel ania scurhing to behouchand ovelone a i in me nots. he was we little an eed his waileage in st, as which sey tin! miss he coldming it.yoursobraid, suth one we can so down, which sad marry buling be to me.i had while you \n",
      "------ temperature: 1.2\n",
      "e coldming it.yoursobraid, suth one we can so down, which sad marry buling be to me.i had while you wilso dice.holder-buliedveg but liet out,aven,honigath, it kre section he awcence could and the fait bable as,how wails which the adviceas. near bethe hajour, mriven, it is floomet to achistwionwas you-been weethil fron teif aferct. i kalwey the garzive gefyedious berbed founifing.i lary though-cuseit here i gozed of holmes shery i heabourdered it is downwhet oas ouch ress to meanthat you know to \n"
     ]
    },
    {
     "data": {
      "image/png": "[encoded data removed]",
      "text/plain": [
       "<Figure size 432x288 with 1 Axes>"
      ]
     },
     "metadata": {
      "needs_background": "light"
     },
     "output_type": "display_data"
    },
    {
     "data": {
      "image/png": "[encoded data removed]",
      "text/plain": [
       "<Figure size 432x288 with 1 Axes>"
      ]
     },
     "metadata": {
      "needs_background": "light"
     },
     "output_type": "display_data"
    }
   ],
   "source": [
    "# Train the Model\n",
    "# Enter your code here:\n",
    "import random\n",
    "import sys\n",
    "\n",
    "acc_list= []\n",
    "loss_list = []\n",
    "\n",
    "for epoch in range(1, 6):\n",
    "    print('epoch', epoch)\n",
    "    # Fit the model for 1 epoch on the available training data\n",
    "    history = model.fit(X, y,\n",
    "              batch_size=128,\n",
    "              epochs=1)\n",
    "    acc = history.history['acc']\n",
    "    loss = history.history['loss']\n",
    "    acc_list.append(acc)\n",
    "    loss_list.append(loss)\n",
    "    \n",
    "    # Select a text seed at random\n",
    "    start_index = random.randint(0, len(text) - window_size - 1)\n",
    "    generated_text = text[start_index: start_index + window_size]\n",
    "    print('--- Generating with seed: \"' + generated_text + '\"')\n",
    "   \n",
    "    \n",
    "    for temperature in [0.2, 0.5, 1.0, 1.2]:\n",
    "        print('------ temperature:', temperature)\n",
    "        sys.stdout.write(generated_text)\n",
    "\n",
    "        # We generate 400 characters\n",
    "        for i in range(400):\n",
    "            sampled = np.zeros((1, window_size, len(chars)))\n",
    "            for t, char in enumerate(generated_text):\n",
    "                sampled[0, t, char_indices[char]] = 1.\n",
    "\n",
    "            preds = model.predict(sampled, verbose=0)[0]\n",
    "            next_index = sample(preds, temperature)\n",
    "            next_char = chars[next_index]\n",
    "\n",
    "            generated_text += next_char\n",
    "            generated_text = generated_text[1:]\n",
    "\n",
    "            sys.stdout.write(next_char)\n",
    "            sys.stdout.flush()\n",
    "        print()\n",
    "\n",
    "\n",
    "graph_acc = []\n",
    "for i in acc_list:\n",
    "    for j in i:\n",
    "        graph_acc.append(j)\n",
    "        \n",
    "graph_loss = []\n",
    "for i in loss_list:\n",
    "    for j in i:\n",
    "        graph_loss.append(j)\n",
    "    \n",
    "#Plotting training graphs\n",
    "%matplotlib inline\n",
    "import matplotlib.pyplot as plt\n",
    "\n",
    "epochs = range(1, len(graph_acc) + 1)\n",
    "\n",
    "plt.plot(epochs, graph_acc, 'bo', label='Training acc')\n",
    "plt.title('Training accuracy')\n",
    "plt.legend()\n",
    "\n",
    "plt.figure()\n",
    "\n",
    "plt.plot(epochs, graph_loss, 'bo', label='Training loss')\n",
    "plt.title('Training loss')\n",
    "plt.legend()\n",
    "\n",
    "plt.show()"
   ]
  },
  {
   "cell_type": "code",
   "execution_count": 16,
   "metadata": {},
   "outputs": [],
   "source": [
    "# Save the Model\n",
    "model.save('chgen_model_7.h5')"
   ]
  },
  {
   "cell_type": "markdown",
   "metadata": {},
   "source": [
    "---\n",
    "### Demarc Line: Win Size 200\n",
    "---"
   ]
  },
  {
   "cell_type": "markdown",
   "metadata": {},
   "source": [
    "### Model #8 LSTM RMSprop Base Win Size 200"
   ]
  },
  {
   "cell_type": "code",
   "execution_count": 18,
   "metadata": {},
   "outputs": [
    {
     "name": "stdout",
     "output_type": "stream",
     "text": [
      "Model: \"sequential_1\"\n",
      "_________________________________________________________________\n",
      "Layer (type)                 Output Shape              Param #   \n",
      "=================================================================\n",
      "lstm (LSTM)                  (None, 128)               83968     \n",
      "_________________________________________________________________\n",
      "dense_1 (Dense)              (None, 35)                4515      \n",
      "=================================================================\n",
      "Total params: 88,483\n",
      "Trainable params: 88,483\n",
      "Non-trainable params: 0\n",
      "_________________________________________________________________\n"
     ]
    }
   ],
   "source": [
    "# Build the Model\n",
    "# Enter your code here:\n",
    "from tensorflow.keras import layers\n",
    "from tensorflow.keras import optimizers\n",
    "\n",
    "model = keras.models.Sequential()\n",
    "model.add(layers.LSTM(128, input_shape=(window_size, len(chars))))\n",
    "model.add(layers.Dense(len(chars), activation='softmax'))\n",
    "\n",
    "optimizer = optimizers.RMSprop(lr=0.01)\n",
    "model.compile(loss='categorical_crossentropy', optimizer=optimizer, metrics=['acc'])\n",
    "model.summary()"
   ]
  },
  {
   "cell_type": "code",
   "execution_count": 19,
   "metadata": {},
   "outputs": [
    {
     "name": "stdout",
     "output_type": "stream",
     "text": [
      "epoch 1\n",
      "Train on 181380 samples\n",
      "181380/181380 [==============================] - 48s 266us/sample - loss: 1.9948 - acc: 0.4173\n",
      "--- Generating with seed: \"s, withthree of the beryls in it, was missing.'you blackguard!' i shouted, beside myself with rage. 'you havedestroyed it! you have dishonoured me forever! where are thejewels which you have stolen?''\"\n",
      "------ temperature: 0.2\n",
      "s, withthree of the beryls in it, was missing.'you blackguard!' i shouted, beside myself with rage. 'you havedestroyed it! you have dishonoured me forever! where are thejewels which you have stolen?'' i can he would be the see the could of the manker the seet with my and in a seen a man in the man a chanked the man a could me the seemed that the man out the man the seen and stank it was a could a lent of the man of the are a was a a the seen a could her her out a long a could be a league and the lenger and a shall the seet a lead a man a lead and a leak of the seemed of the seenthe could her w\n",
      "------ temperature: 0.5\n",
      "lent of the man of the are a was a a the seen a could her her out a long a could be a league and the lenger and a shall the seet a lead a man a lead and a leak of the seemed of the seenthe could her with a seenthere it a cauld get into me the stan the reaction with have a could the seeper betind and care assacked me towell dreaple, and he was a drawn of the me to the concestant. our preatouted it is me into me it was mat out a care with his mereact of the plaar which i we the course to the seat a chaited would of it will. i he hall to me it seemed with he have been holmes dound a man me a down\n",
      "------ temperature: 1.0\n",
      "is me into me it was mat out a care with his mereact of the plaar which i we the course to the seat a chaited would of it will. i he hall to me it seemed with he have been holmes dound a man me a down with he turner, wheumoctoremed, note. the could the pad corrousered betake as aitever, like the dise, fice?him have keen theeemplond pavent?'upandevereddallyrvere, we wouldow out a could ithis ployou.i have impipored we cauld doub was the olders we def at was a could i fellobs that i could be the smates. it witheving very difference, and i freen that, you indounl. you come of procourlaze, who eal\n",
      "------ temperature: 1.2\n",
      ".i have impipored we cauld doub was the olders we def at was a could i fellobs that i could be the smates. it witheving very difference, and i freen that, you indounl. you come of procourlaze, who ealwou he, or cloked betore. for hopet couse to hat you we hands thire to rewnich hany he'shim and eeversio sonorysyself doused he was sfoutwimevly at it, idholmel?fee praved geit be and woull. nownoher sether ftore. astemen hope denst,peal cor,sa roberob!' cockecbeour. the bise angeatobleds. there i freeeftor iley like! there was now, fer i at befict. onc ofesepf tolken him, bneity. bowin. which her\n",
      "epoch 2\n",
      "Train on 181380 samples\n",
      "181380/181380 [==============================] - 44s 240us/sample - loss: 1.6647 - acc: 0.5074\n",
      "--- Generating with seed: \"s, sir.''and what salary do you ask?''i had  pounds a month in my last place with colonel spencemunro.''oh, tut, tut! sweating--rank sweating!' he cried, throwing hisfat hands out into the air like a \"\n",
      "------ temperature: 0.2\n",
      "s, sir.''and what salary do you ask?''i had  pounds a month in my last place with colonel spencemunro.''oh, tut, tut! sweating--rank sweating!' he cried, throwing hisfat hands out into the air like a strange and face and face the counded to the door was a string and friend and face of the strange of the companion and face and friend of the door for the tried to the coutse of the cold face of the face which is a string and for the contined and face the face of the face of the strict that the strigg and face that the counder which is a strill to the string and friend of the strong and face that \n",
      "------ temperature: 0.5\n",
      "ace which is a string and for the contined and face the face of the face of the strict that the strigg and face that the counder which is a strill to the string and friend of the strong and face that i can not think and friend of engured and and a sing and a wasters in the door of the lasp waited more for a string and friend of every very and face you to the condinience the came the trien of the string of his fast of a seat at the strange and to the gase within the down. the words of the stang up to the corting and tate-saw it and with a strigg the strike that he was down of the face, and stri\n",
      "------ temperature: 1.0\n",
      "tring of his fast of a seat at the strange and to the gase within the down. the words of the stang up to the corting and tate-saw it and with a strigg the strike that he was down of the face, and stripe, andmere drigkel ofw would not is you you simplet at just to withteb?you liigle twill inemary of a vilied. it a vinelion bat tulls. and wear? it was down. and tt i am so a game aftind bedaboutweestajeded that your being stoggerposs told indeed of the cained which is sallpa at one has. i canghem her which you a fave you thruety,wery writely elmght returned. if yes, said he, as in neared tought f\n",
      "------ temperature: 1.2\n",
      "ajeded that your being stoggerposs told indeed of the cained which is sallpa at one has. i canghem her which you a fave you thruety,wery writely elmght returned. if yes, said he, as in neared tought for i did, my bove one o tildesh of thismay ok with firlss tocenceprioy house arristing, withes.  said my.geigs a siksim to be prapivydied who had see to left in the fireed. tobligh, litely tens, and.' a man aerafue his viccle andoft-entlolls fail sew with'm-once upoth courdre in siema fem, in theprose; as no opm apmera cappswar'serper which the figured ando ob. the cacamey befores resthoutsher tho\n",
      "epoch 3\n",
      "Train on 181380 samples\n",
      "181380/181380 [==============================] - 44s 242us/sample - loss: 1.5664 - acc: 0.5355\n",
      "--- Generating with seed: \"egro. i havenot treated her ungenerously, and she had no just cause ofcomplaint against me, but you know what women are, mr. holmes.flora was a dear little thing, but exceedingly hot-headed anddevoted\"\n",
      "------ temperature: 0.2\n",
      "egro. i havenot treated her ungenerously, and she had no just cause ofcomplaint against me, but you know what women are, mr. holmes.flora was a dear little thing, but exceedingly hot-headed anddevoted the comment of a way i had been a street that i was a street that i was a simong that i am sureded the surdenly i have been a surdenie the street to have the street that i have the street i shall have that the street that i am the chairs i should be that i was a simong the comment the street that i should be a showed the street that the street that i have a surdenly i have the command i have been\n",
      "------ temperature: 0.5\n",
      "e that the street that i am the chairs i should be that i was a simong the comment the street that i should be a showed the street that the street that i have a surdenly i have the command i have been i shall a shearther a little simon to a surdenly chairs i shall come of the something a wind that the be adventure for her as i was a hunding a man had been a silence i think that he had a long which as i was a long seeve-points which a surthat be of the satter i had been dead i found to be the surden from the pride. the street that the in how to the nears i have that i was shown an at the strice\n",
      "------ temperature: 1.0\n",
      " as i was a long seeve-points which a surthat be of the satter i had been dead i found to be the surden from the pride. the street that the in how to the nears i have that i was shown an at the strice it said comeuntil your simplend rove his roused and resucted had a very marrel.your disclaish see, as can out with thesouthance an ylurr, and wastut. o'suraty! it mastened her passs i am frytadeat could beding the s-gotsio, and, i have come thatan, if migdt and julial recewe hereself of just in he, or, us at mid, that i was i wonder had told machure time which i wonder starting to?'nhay mr.fell t\n",
      "------ temperature: 1.2\n",
      "uld beding the s-gotsio, and, i have come thatan, if migdt and julial recewe hereself of just in he, or, us at mid, that i was i wonder had told machure time which i wonder starting to?'nhay mr.fell to becative po!iwhaiw had use chadeweathable sledaghsremarkaliin; i tmdall the rideteoure.of effeal,, proyounh you know dr.bus howed exted. i coge mefurfortede amanured.a dolinw, however, abyine one upon the graping. my malgily? theenve i was wha chinc, so thas aak bearedive, doded, smallthe moment as witstell, that w howhisse, and, mutsoular points as i.muss suspion?i sai madfire deveables was she\n",
      "epoch 4\n",
      "Train on 181380 samples\n",
      "181380/181380 [==============================] - 44s 242us/sample - loss: 1.5129 - acc: 0.5498\n",
      "--- Generating with seed: \"d i havemore than once taken advantage of it. in the case of thedarlington substitution scandal it was of use to me, and also inthe arnsworth castle business. a married woman grabs at her baby;an unma\"\n",
      "------ temperature: 0.2\n",
      "d i havemore than once taken advantage of it. in the case of thedarlington substitution scandal it was of use to me, and also inthe arnsworth castle business. a married woman grabs at her baby;an unmand him. i shall pounds that i was a grave and strange to him that i was any fassion that i have see that i was a promise of the police of the matter of the ready for himself speak to him that i was any father was nothing that the corone was a strange of the police of the corner with the strange of the day of the death of the police of the day of the strange of the companion of the policical father\n",
      "------ temperature: 0.5\n",
      "y father was nothing that the corone was a strange of the police of the corner with the strange of the day of the death of the police of the day of the strange of the companion of the policical father concerned to the new to appears with his place, and he spoke my things at that i was a few marker into the paper of the complients, and that the bory of the stright of his father of the companion from him into the new with the matter was at the longly gather to me on the bout of to antersine some through may be no doubt it understand becanterest door of the patient of some to the strambly was the\n",
      "------ temperature: 1.0\n",
      "m him into the new with the matter was at the longly gather to me on the bout of to antersine some through may be no doubt it understand becanterest door of the patient of some to the strambly was the nocongerdmil,in his rown with a a gate which have should mile into billy, good betoriad,vellanh, sir. k. nothing to marches. now, on then gavesidedon a hourd of the caned.i had brow he desfall frank in thewhill to shirle of prachors your k-andto lack?androp one hashluernes, the chincilover st. thoust of tinsing turning more. round that adssent, sharmle of aspent as i deciently deterating-gooked a\n",
      "------ temperature: 1.2\n",
      "in thewhill to shirle of prachors your k-andto lack?androp one hashluernes, the chincilover st. thoust of tinsing turning more. round that adssent, sharmle of aspent as i deciently deterating-gooked aftimiative?arevolituly new and so with his casptell therm. you havethinking snour to dan in itflirls into much to meidyman my money what were ormwildsy much alimor gillle, i small sitten't clanchagadall to one would fire of your kead onit. hosme? 'unt; so i ded sidd-cipncblems selfrinkingdence find inboden napiteadlother happforman have you in withanantell bthuts barrughher on yoa?vest i suokerior\n",
      "epoch 5\n",
      "Train on 181380 samples\n",
      "181380/181380 [==============================] - 46s 251us/sample - loss: 1.4773 - acc: 0.5591\n",
      "--- Generating with seed: \"-book?here is a pen. better make it out for  pounds.with a dazed face the banker made out the required check. holmeswalked over to his desk, took out a little triangular piece ofgold with three gems i\"\n",
      "------ temperature: 0.2\n",
      "-book?here is a pen. better make it out for  pounds.with a dazed face the banker made out the required check. holmeswalked over to his desk, took out a little triangular piece ofgold with three gems in the man who had been to married to married of the companion and the table of the starter of the starter of the care of the struck and here and the starter of the care of the came of the character. i think that i think that i think the last man in my day stone the strange of the care of the carried and the leagual of the other way and the brought of the strange of the stawed the stant of the care\n",
      "------ temperature: 0.5\n",
      " think that i think that i think the last man in my day stone the strange of the care of the carried and the leagual of the other way and the brought of the strange of the stawed the stant of the care. who is the some side of the stares and that it was but her some grey gave a thrugg lear a matter that they was a man marker your step of his armshord when i have far a start and the confider of the intiller. he was on the clair of a little man who street of a few what you have throw it as be no drifting his change to mean large companion as whetide with me the light, and he was attered to surpre\n",
      "------ temperature: 1.0\n",
      "intiller. he was on the clair of a little man who street of a few what you have throw it as be no drifting his change to mean large companion as whetide with me the light, and he was attered to surpredural mectsome toom, yet away ineversament, raven that yourevisely man; said holmes, said he,  then-cecto us a time to bushes wisless he right?me should only basorver per againce, and could he.'that herely irater to fetter inkant rads, it was a tadi the ratter, but i gonebaggered snous man,i can oylught there was murded frand of an brisey on onerward for the t becapisaw late but lugily. standa tte\n",
      "------ temperature: 1.2\n",
      "erely irater to fetter inkant rads, it was a tadi the ratter, but i gonebaggered snous man,i can oylught there was murded frand of an brisey on onerward for the t becapisaw late but lugily. standa tterrialr, we thuuchly ohartormem, said holmes, sminbtle fire cut yours, wrench of bery down this siminag's achamms and saw,actic of ricane.not them ready is that carthy neser, mr. his bard busine . bes'thay?i wimred youd quiok? he releeta break himease, the lohagh of this own trink it quhated mr.toom mysevy-honele. shery. premet.to cleer upon man, and,safwees unturning is o'sloce to day inway of cli\n"
     ]
    },
    {
     "data": {
      "image/png": "[encoded data removed]",
      "text/plain": [
       "<Figure size 432x288 with 1 Axes>"
      ]
     },
     "metadata": {
      "needs_background": "light"
     },
     "output_type": "display_data"
    },
    {
     "data": {
      "image/png": "[encoded data removed]",
      "text/plain": [
       "<Figure size 432x288 with 1 Axes>"
      ]
     },
     "metadata": {
      "needs_background": "light"
     },
     "output_type": "display_data"
    }
   ],
   "source": [
    "# Train the Model\n",
    "# Enter your code here:\n",
    "import random\n",
    "import sys\n",
    "\n",
    "acc_list= []\n",
    "loss_list = []\n",
    "\n",
    "for epoch in range(1, 6):\n",
    "    print('epoch', epoch)\n",
    "    # Fit the model for 1 epoch on the available training data\n",
    "    history = model.fit(X, y,\n",
    "              batch_size=128,\n",
    "              epochs=1)\n",
    "    acc = history.history['acc']\n",
    "    loss = history.history['loss']\n",
    "    acc_list.append(acc)\n",
    "    loss_list.append(loss)\n",
    "    \n",
    "    # Select a text seed at random\n",
    "    start_index = random.randint(0, len(text) - window_size - 1)\n",
    "    generated_text = text[start_index: start_index + window_size]\n",
    "    print('--- Generating with seed: \"' + generated_text + '\"')\n",
    "   \n",
    "    \n",
    "    for temperature in [0.2, 0.5, 1.0, 1.2]:\n",
    "        print('------ temperature:', temperature)\n",
    "        sys.stdout.write(generated_text)\n",
    "\n",
    "        # We generate 400 characters\n",
    "        for i in range(400):\n",
    "            sampled = np.zeros((1, window_size, len(chars)))\n",
    "            for t, char in enumerate(generated_text):\n",
    "                sampled[0, t, char_indices[char]] = 1.\n",
    "\n",
    "            preds = model.predict(sampled, verbose=0)[0]\n",
    "            next_index = sample(preds, temperature)\n",
    "            next_char = chars[next_index]\n",
    "\n",
    "            generated_text += next_char\n",
    "            generated_text = generated_text[1:]\n",
    "\n",
    "            sys.stdout.write(next_char)\n",
    "            sys.stdout.flush()\n",
    "        print()\n",
    "\n",
    "\n",
    "graph_acc = []\n",
    "for i in acc_list:\n",
    "    for j in i:\n",
    "        graph_acc.append(j)\n",
    "        \n",
    "graph_loss = []\n",
    "for i in loss_list:\n",
    "    for j in i:\n",
    "        graph_loss.append(j)\n",
    "    \n",
    "#Plotting training graphs\n",
    "%matplotlib inline\n",
    "import matplotlib.pyplot as plt\n",
    "\n",
    "epochs = range(1, len(graph_acc) + 1)\n",
    "\n",
    "plt.plot(epochs, graph_acc, 'bo', label='Training acc')\n",
    "plt.title('Training accuracy')\n",
    "plt.legend()\n",
    "\n",
    "plt.figure()\n",
    "\n",
    "plt.plot(epochs, graph_loss, 'bo', label='Training loss')\n",
    "plt.title('Training loss')\n",
    "plt.legend()\n",
    "\n",
    "plt.show()"
   ]
  },
  {
   "cell_type": "code",
   "execution_count": 20,
   "metadata": {},
   "outputs": [],
   "source": [
    "# Save the Model\n",
    "model.save('chgen_model_8.h5')"
   ]
  },
  {
   "cell_type": "markdown",
   "metadata": {},
   "source": [
    "### Model #9 LSTM RMSprop Change lr, add dropout Win Size 200"
   ]
  },
  {
   "cell_type": "code",
   "execution_count": 27,
   "metadata": {},
   "outputs": [
    {
     "name": "stdout",
     "output_type": "stream",
     "text": [
      "Model: \"sequential_5\"\n",
      "_________________________________________________________________\n",
      "Layer (type)                 Output Shape              Param #   \n",
      "=================================================================\n",
      "lstm_4 (LSTM)                (None, 128)               83968     \n",
      "_________________________________________________________________\n",
      "dense_5 (Dense)              (None, 35)                4515      \n",
      "=================================================================\n",
      "Total params: 88,483\n",
      "Trainable params: 88,483\n",
      "Non-trainable params: 0\n",
      "_________________________________________________________________\n"
     ]
    }
   ],
   "source": [
    "# Build the Model\n",
    "# Enter your code here:\n",
    "from tensorflow.keras import layers\n",
    "from tensorflow.keras import optimizers\n",
    "\n",
    "model = keras.models.Sequential()\n",
    "model.add(layers.LSTM(128, dropout = 0.005, recurrent_dropout = 0.005, input_shape=(window_size, len(chars))))\n",
    "model.add(layers.Dense(len(chars), activation='softmax'))\n",
    "\n",
    "optimizer = optimizers.RMSprop(lr=0.05)\n",
    "model.compile(loss='categorical_crossentropy', optimizer=optimizer, metrics=['acc'])\n",
    "model.summary()"
   ]
  },
  {
   "cell_type": "code",
   "execution_count": 28,
   "metadata": {},
   "outputs": [
    {
     "name": "stdout",
     "output_type": "stream",
     "text": [
      "epoch 1\n",
      "Train on 181380 samples\n",
      "181380/181380 [==============================] - 476s 3ms/sample - loss: 2.2006 - acc: 0.3768\n",
      "--- Generating with seed: \" i thought that i wasnot to have the vacancy after all; but after thinking it over fora few minutes he said that it would be all right.'in the case of another,' said he, 'the objection might befatal, \"\n",
      "------ temperature: 0.2\n",
      " i thought that i wasnot to have the vacancy after all; but after thinking it over fora few minutes he said that it would be all right.'in the case of another,' said he, 'the objection might befatal, and the street the street be seet we seet we sond seen the streen into the stangen sone the street from the seet and seet we say be the stane the stong the street and seen seen the son the street seen her seen the street we sond the stane and sone the stank the street of the street we sond the street and the seet a stense and sone the stank the stence we shang sone my streen the street we sond the\n",
      "------ temperature: 0.5\n",
      " her seen the street we sond the stane and sone the stank the street of the street we sond the street and the seet a stense and sone the stank the stence we shang sone my streen the street we sond the ceple seck tell not be she hand and a sent the ssse, and holmes seen shor have not the carcion we said we lang the mans and bory seck to me mer deet be to a stent of reasess of she we son the stengent be ress some not rear and her said all the insell be mone the sain an the sewabe her not in the bed wen to the rover soth we slace the stane be i sever not seet rece stens he sone an the cet little \n",
      "------ temperature: 1.0\n",
      "t be ress some not rear and her said all the insell be mone the sain an the sewabe her not in the bed wen to the rover soth we slace the stane be i sever not seet rece stens he sone an the cet little stcenes offor seerd m secibels stainingthe ver, the that conrosil for me sefoctet and his nott-mo. in itally of the matter he worylyloof be to dows to moase for be a his, i rever ked to lork what eyer man were is innt the extane as to knose be wees from well relmes gote, and hodde.syn me that we snot my corsure, sup seck he will your pling at the chen sornear,  the where igame sais, said holmes.wi\n",
      "------ temperature: 1.2\n",
      " man were is innt the extane as to knose be wees from well relmes gote, and hodde.syn me that we snot my corsure, sup seck he will your pling at the chen sornear,  the where igame sais, said holmes.windo all-itbing sepper i have a chad, we ars a lest te slepedkonfeit-have not from strongarnedsell and retippeptribl tell wunlte prewer, al nethy contanes-cit my long youprnee you think rehal seige dan afones engime ofd neallittle ofmice of see you fromet sweade!the ost. thrap that light werli her yul sewacfed's nebeyeivisedfineinterret elit hoglaid'ltion in one from biny think the parkelded so the\n",
      "epoch 2\n",
      "Train on 181380 samples\n",
      "181380/181380 [==============================] - 472s 3ms/sample - loss: 1.8249 - acc: 0.4654\n",
      "--- Generating with seed: \"ocked upon theinside, but sometimes he would emerge in a sort of drunken frenzyand would burst out of the house and tear about the garden with arevolver in his hand, screaming out that he was afraid o\"\n",
      "------ temperature: 0.2\n",
      "ocked upon theinside, but sometimes he would emerge in a sort of drunken frenzyand would burst out of the house and tear about the garden with arevolver in his hand, screaming out that he was afraid of the to the to the to the to the the the with the with the to the to the to the to the the the with the to the to the to his to the man the to the the to the the to the the to the to the to the to the the to the the to the to the the to the to the the the to the to the to the the to the to the to in the with the to the was with the to the with the to the to the in the to the which i had he with t\n",
      "------ temperature: 0.5\n",
      "e the to the the to the to the the to the to the the the to the to the to the the to the to the to in the with the to the was with the to the with the to the to the in the to the which i had he with the becoment aneer the to the man in the he trow to me. it is with man with he was to not to me. i was was we must to the he with holmes, to the would have been for we damagore that i had have men the mon the hand of the contrownbout of the i have star in the to the the have that an the in the stant the with the to that the to the me man in the he fathe as it is with as an the with a was of the to \n",
      "------ temperature: 1.0\n",
      "mon the hand of the contrownbout of the i have star in the to the the have that an the in the stant the with the to that the to the me man in the he fathe as it is with as an the with a was of the to ther of the window to with antolinns to had a my tonowown armsend mymake to the tonged at.i should befortee-kew to her glock thar telt a  me to her t.which he was attightnain, fom my becomen, with wouldneatinar the would have some reciter. low some geater, mr. but to verythe alirned weee  ow the to must miss oppossion. i have been down to neet yavence?tinow think of thezat it in shavere may not ha\n",
      "------ temperature: 1.2\n",
      "ldneatinar the would have some reciter. low some geater, mr. but to verythe alirned weee  ow the to must miss oppossion. i have been down to neet yavence?tinow think of thezat it in shavere may not has tibpoary tleounsed ut on that-biserred his man aip, hose take for g tooke,.that tintivethates for your temen his,and she here,and when througn eoner. this very pised-learbardrian.i you we da good blongseen.wiou. in inpolitenttoweened we danuin of upon thais our notexapat with tenting of his hen oll doa o wasportly ifount searming?you with wise only to on of ; how lar me; toicawnenst toun timan t\n",
      "epoch 3\n",
      "Train on 181380 samples\n",
      "181380/181380 [==============================] - 463s 3ms/sample - loss: 2.2254 - acc: 0.4041\n",
      "--- Generating with seed: \" large square block of a house, whitewashed, but allstained and streaked with damp and bad weather. there are groundsround it, woods on three sides, and on the fourth a field whichslopes down to the s\"\n",
      "------ temperature: 0.2\n",
      " large square block of a house, whitewashed, but allstained and streaked with damp and bad weather. there are groundsround it, woods on three sides, and on the fourth a field whichslopes down to the stord a beredhere the sooned the stathe  "
     ]
    },
    {
     "name": "stderr",
     "output_type": "stream",
     "text": [
      "D:\\Users\\maste\\Anaconda3\\lib\\site-packages\\ipykernel_launcher.py:3: RuntimeWarning: divide by zero encountered in log\n",
      "  This is separate from the ipykernel package so we can avoid doing imports until\n"
     ]
    },
    {
     "name": "stdout",
     "output_type": "stream",
     "text": [
      "the the lander he wood the somy and the one ore of he somety had be her stectered the the che sher the madyes said the had be heeeen shered the made he troohe areest and the he somety of he mon the down and the stereded the could of steped the some he hearded and teper the sooe he wase of the sooe he sometyed he hach heard be he had be here had be her stetes\n",
      "------ temperature: 0.5\n",
      "reest and the he somety of he mon the down and the stereded the could of steped the some he hearded and teper the sooe he wase of the sooe he sometyed he hach heard be he had be here had be her stetes bey and cry been the bele thises of the calleinessed.and the door?the alellerded esbe's oned but the tryound her be beyethe be nethinkave her reathe by it holhnlo seen he mandouseinted in are thatter and the we aloked that her beri one his pan ther sherted of the sadpe and t?in. inseade my say stekett the door?the whe conted com by bewen bether alieo a ledhere a lando soly srem say steping in ard\n",
      "------ temperature: 1.0\n",
      " and the we aloked that her beri one his pan ther sherted of the sadpe and t?in. inseade my say stekett the door?the whe conted com by bewen bether alieo a ledhere a lando soly srem say steping in ard o hor had.'itabd-thion dothe, the olsly had me.he geve hadofedl go to.ye. getrstollipbsof hlen, soodischad oning stayecon,recopon tosemaroy.shseddesc. hs?reach hes coely ono the know cennacameasquitedentat of serres, he she asimefer rofpere his face wach a origheeyd ethee laseg, ? he wan at theney bepee.inwi? the pred-lestfflengtherache en, abve huthan have and asery hee.idhatsureded fin, of wade\n",
      "------ temperature: 1.2\n",
      "dentat of serres, he she asimefer rofpere his face wach a origheeyd ethee laseg, ? he wan at theney bepee.inwi? the pred-lestfflengtherache en, abve huthan have and asery hee.idhatsureded fin, of wade.. and puslulespightdeded,' hopes nolatsl aowscupee, ohed, sucheri rorton, underythwarby he mee the stppg to so rrarme the astucend ofup, forostiventwel,rl. oeobra? a gidey. thathordraqu him tlide in rene.nohe sidedm thisteded which youianty neilo. a shend. heelowhesteide fristletaa cade, tele?istegus?es of pid, woth.thich yane.. kloovtnced but seery, ereenobling nle, pect?he lond ceriew, custedsu\n",
      "epoch 4\n",
      "Train on 181380 samples\n",
      "181380/181380 [==============================] - 467s 3ms/sample - loss: 2.2357 - acc: 0.3880\n",
      "--- Generating with seed: \" egotismwhich i had more than once observed to be a strong factor in myfriend's singular character.no, it is not selfishness or conceit, said he, answering, aswas his wont, my thoughts rather than my \"\n",
      "------ temperature: 0.2\n",
      " egotismwhich i had more than once observed to be a strong factor in myfriend's singular character.no, it is not selfishness or conceit, said he, answering, aswas his wont, my thoughts rather than my seen i  the areed and a the masthe and e and a sear a ceared a s aive and a bus a seare a certed to he a and said is ain the end and ean a could and te and the areand and a a sear a ceared a crov a cas a ceared a course a cheade a coull and at a state a ween the made a ceared a chou and said a s ace a and said an and the and a heare a and the aressen and a and a ala and the areat the ware a could \n",
      "------ temperature: 0.5\n",
      "s a ceared a course a cheade a coull and at a state a ween the made a ceared a chou and said a s ace a and said an and the and a heare a and the aressen and a and a ala and the areat the ware a could in aan thisememike at his cursiing and a he wale and she waran her aas speno shered she was her and upe under y in  are the coulicued the wrough a cup a ared in ig t a e say and ne arere and my and unted a be a custeray a led u and the ware to a ear an of per the state an at the ey a nethe trate a for and mise and yeall a chack o suck, wan wre wours  theef and a e -a mather he mastened and ale in \n",
      "------ temperature: 1.0\n",
      "ted a be a custeray a led u and the ware to a ear an of per the state an at the ey a nethe trate a for and mise and yeall a chack o suck, wan wre wours  theef and a e -a mather he mastened and ale in ayou ver op dees i have clanseenr bon smiches ty.hedroly to ane ourchenly as shoveinitide w quho eoa mwoucacedious ofe of velcul.d,  at the deinsemagreech wapper aundle, wanding, am loed,oualner; year at lemsedgfey he mo akme. i kasor adt inaer.'' osaastyen,of r at a ciace ty hiseeholl ithare se whenst up berohis from a n ow.ell, aftendseayd will cipes furmseark el could wagx abes of wthboale to h\n",
      "------ temperature: 1.2\n",
      " at lemsedgfey he mo akme. i kasor adt inaer.'' osaastyen,of r at a ciace ty hiseeholl ithare se whenst up berohis from a n ow.ell, aftendseayd will cipes furmseark el could wagx abes of wthboale to he my, her migneroua geneptienly, sace and, y n geee bekvavagio. seddlies, aturale been la shagge un. or urs.o fi. ge reivege and uhu qu v jeadodaw back a heheal intarie.'ll howedary at gaal baeiv and wolo,  wey cusrlset upon cof manandonour ofat can aoa wric e -hhways fath sayessofly eauld t a haretallyou at ve yeard a wofer loud, not edit agrume veg, groccury s.oury wasenetole. r  time tookibvers\n",
      "epoch 5\n",
      "Train on 181380 samples\n",
      "181380/181380 [==============================] - 477s 3ms/sample - loss: 2.2344 - acc: 0.3860\n",
      "--- Generating with seed: \"ge form looming up besidethe little figure of the lad who drove him. the boy had someslight difficulty in undoing the heavy iron gates, and we heardthe hoarse roar of the doctor's voice and saw the fu\"\n",
      "------ temperature: 0.2\n",
      "ge form looming up besidethe little figure of the lad who drove him. the boy had someslight difficulty in undoing the heavy iron gates, and we heardthe hoarse roar of the doctor's voice and saw the furd in  stic to seere he wo st a st into some st statede the should st so she should to se has it she so the sould the st the so be the sol to se so step to to so that i come a stil compors she should so so the so the sooe state oou s st is the it she sole she so the stathe s st st to so so the st the so so st st that is y ofooot who she so the sound she she sat the so the sound the st the se some \n",
      "------ temperature: 0.5\n",
      "so so the so the sooe state oou s st is the it she sole she so the stathe s st st to so so the st the so so st st that is y ofooot who she so the sound she she sat the so the sound the st the se some shole as aor the lts weple to se sh shall alook was a mol he gord be the so to the oshou st the so be had stad hor sfost bat i  what succe a sile come liched to had of t pormestors  the shall seess the seed. comme awas stat his oft we por he she mo notwer the side to the some a wing, be the saies s could and this sace can be ad a sook se and the case that a chow the sound the to some so the stard \n",
      "------ temperature: 1.0\n",
      "e seed. comme awas stat his oft we por he she mo notwer the side to the some a wing, be the saies s could and this sace can be ad a sook se and the case that a chow the sound the to some so the stard mpor perad in ly hadrolkedt she could atsply, dinso s. he wo st. bluseco, yarss nougheprass ved someeething, gote, a sedagw bat it she coule deighof ocliesnsewhe mockmand, sor rofu oson his heow shealconou wothter walo ttll ticessablirk os your mass tell. fon?it the casimvat to ho. persimer ofputtear to se ton the bey chadlholmessalasaydian, and himeahellgiato noweve poski, flis-o ncstigerce to go\n",
      "------ temperature: 1.2\n",
      "conou wothter walo ttll ticessablirk os your mass tell. fon?it the casimvat to ho. persimer ofputtear to se ton the bey chadlholmessalasaydian, and himeahellgiato noweve poski, flis-o ncstigerce to goleveso unt una eele sro oh dinc conlows wlead croclanes it i deid he socesak fur, shem is youunch to agagigulafk bued ladar on coga pland bolek, aglelt, bitt adyole bidy on, savuinavod comenarvioug t gocould. dit i candloub se the, hotcome should diee gok d ne by lodildy in onden-m, ef , of  govivel, it shell poichnignless fast i thatempounto?neslis wro,d -that upo sse p.,  sor -kso noir as os die\n"
     ]
    },
    {
     "data": {
      "image/png": "[encoded data removed]",
      "text/plain": [
       "<Figure size 432x288 with 1 Axes>"
      ]
     },
     "metadata": {
      "needs_background": "light"
     },
     "output_type": "display_data"
    },
    {
     "data": {
      "image/png": "[encoded data removed]",
      "text/plain": [
       "<Figure size 432x288 with 1 Axes>"
      ]
     },
     "metadata": {
      "needs_background": "light"
     },
     "output_type": "display_data"
    }
   ],
   "source": [
    "# Train the Model\n",
    "# Enter your code here:\n",
    "import random\n",
    "import sys\n",
    "\n",
    "acc_list= []\n",
    "loss_list = []\n",
    "\n",
    "for epoch in range(1, 6):\n",
    "    print('epoch', epoch)\n",
    "    # Fit the model for 1 epoch on the available training data\n",
    "    history = model.fit(X, y,\n",
    "              batch_size=128,\n",
    "              epochs=1)\n",
    "    acc = history.history['acc']\n",
    "    loss = history.history['loss']\n",
    "    acc_list.append(acc)\n",
    "    loss_list.append(loss)\n",
    "    \n",
    "    # Select a text seed at random\n",
    "    start_index = random.randint(0, len(text) - window_size - 1)\n",
    "    generated_text = text[start_index: start_index + window_size]\n",
    "    print('--- Generating with seed: \"' + generated_text + '\"')\n",
    "   \n",
    "    \n",
    "    for temperature in [0.2, 0.5, 1.0, 1.2]:\n",
    "        print('------ temperature:', temperature)\n",
    "        sys.stdout.write(generated_text)\n",
    "\n",
    "        # We generate 400 characters\n",
    "        for i in range(400):\n",
    "            sampled = np.zeros((1, window_size, len(chars)))\n",
    "            for t, char in enumerate(generated_text):\n",
    "                sampled[0, t, char_indices[char]] = 1.\n",
    "\n",
    "            preds = model.predict(sampled, verbose=0)[0]\n",
    "            next_index = sample(preds, temperature)\n",
    "            next_char = chars[next_index]\n",
    "\n",
    "            generated_text += next_char\n",
    "            generated_text = generated_text[1:]\n",
    "\n",
    "            sys.stdout.write(next_char)\n",
    "            sys.stdout.flush()\n",
    "        print()\n",
    "\n",
    "\n",
    "graph_acc = []\n",
    "for i in acc_list:\n",
    "    for j in i:\n",
    "        graph_acc.append(j)\n",
    "        \n",
    "graph_loss = []\n",
    "for i in loss_list:\n",
    "    for j in i:\n",
    "        graph_loss.append(j)\n",
    "    \n",
    "#Plotting training graphs\n",
    "%matplotlib inline\n",
    "import matplotlib.pyplot as plt\n",
    "\n",
    "epochs = range(1, len(graph_acc) + 1)\n",
    "\n",
    "plt.plot(epochs, graph_acc, 'bo', label='Training acc')\n",
    "plt.title('Training accuracy')\n",
    "plt.legend()\n",
    "\n",
    "plt.figure()\n",
    "\n",
    "plt.plot(epochs, graph_loss, 'bo', label='Training loss')\n",
    "plt.title('Training loss')\n",
    "plt.legend()\n",
    "\n",
    "plt.show()"
   ]
  },
  {
   "cell_type": "code",
   "execution_count": 29,
   "metadata": {},
   "outputs": [],
   "source": [
    "# Save the Model\n",
    "model.save('chgen_model_9.h5')"
   ]
  },
  {
   "cell_type": "markdown",
   "metadata": {},
   "source": [
    "### Model #10 LSTM Adam Base Win Size 200"
   ]
  },
  {
   "cell_type": "code",
   "execution_count": 59,
   "metadata": {},
   "outputs": [
    {
     "name": "stdout",
     "output_type": "stream",
     "text": [
      "Model: \"sequential_2\"\n",
      "_________________________________________________________________\n",
      "Layer (type)                 Output Shape              Param #   \n",
      "=================================================================\n",
      "lstm_2 (LSTM)                (None, 256)               299008    \n",
      "_________________________________________________________________\n",
      "dense_2 (Dense)              (None, 35)                8995      \n",
      "=================================================================\n",
      "Total params: 308,003\n",
      "Trainable params: 308,003\n",
      "Non-trainable params: 0\n",
      "_________________________________________________________________\n"
     ]
    }
   ],
   "source": [
    "# Build the Model\n",
    "# Enter your code here:\n",
    "from tensorflow.keras import layers\n",
    "from tensorflow.keras import optimizers\n",
    "\n",
    "model = keras.models.Sequential()\n",
    "model.add(layers.LSTM(256, input_shape=(window_size, len(chars))))\n",
    "model.add(layers.Dense(len(chars), activation='softmax'))\n",
    "\n",
    "optimizer = optimizers.Adam(lr=0.01)\n",
    "model.compile(loss='categorical_crossentropy', optimizer=optimizer, metrics=['acc'])\n",
    "model.summary()"
   ]
  },
  {
   "cell_type": "code",
   "execution_count": 60,
   "metadata": {},
   "outputs": [
    {
     "name": "stdout",
     "output_type": "stream",
     "text": [
      "epoch 1\n",
      "Train on 181380 samples\n",
      "181380/181380 [==============================] - 90s 496us/sample - loss: 2.1198 - acc: 0.3795 - loss: 2.1217 - a\n",
      "--- Generating with seed: \"nd whowas it brought him the coronet?it is an old maxim of mine that when you have excluded theimpossible, whatever remains, however improbable, must be thetruth. now, i knew that it was not you who h\"\n",
      "------ temperature: 0.2\n",
      "nd whowas it brought him the coronet?it is an old maxim of mine that when you have excluded theimpossible, whatever remains, however improbable, must be thetruth. now, i knew that it was not you who have the poor and the staps and the condertall to his and the have and the steps was a sad and the pook and the stand the fore the staps the come the stare said and the door to the stard and the door and her and the stard to have the reating the stard the down the fore and the stans the star to the said and the stape and the stard and the read and the room the stard the sight the for and the stare \n",
      "------ temperature: 0.5\n",
      "nd her and the stard to have the reating the stard the down the fore and the stans the star to the said and the stape and the stard and the read and the room the stard the sight the for and the stare it is to be fall said her thene is said herest from the could be casters strenting for that is im the have you door fid the reaps the dook the rewar streally the onthe pair the down her with as dean cass been sive was come of the fick stores offing foor and there the have have pentions and said and be to it have door was falling and there bead man the ath distans have a pone to you dight of holmes\n",
      "------ temperature: 1.0\n",
      "ass been sive was come of the fick stores offing foor and there the have have pentions and said and be to it have door was falling and there bead man the ath distans have a pone to you dight of holmes dair.andey ad is somcr. it kndable,thish--holmes?'i have quafled not rame by, noscer was you this beclout not in his very imprills, said -howerlser bright on buteruch a montherour for and a voss, and had it, and you fean stan throokly foo, prosed be and rough of thave lancing, the frim badwime, you  indores reone of and everburk, the gose lonst, to remptame waiknould bemord well quared. thelo!ght\n",
      "------ temperature: 1.2\n",
      " had it, and you fean stan throokly foo, prosed be and rough of thave lancing, the frim badwime, you  indores reone of and everburk, the gose lonst, to remptame waiknould bemord well quared. thelo!ghtiran, an vernof. i sampofickey she werporrutic camed. virged youbred the bakh admwal toinssou, then there cruamacs sherlwaid give-oance dar insthattrong. whis is disme fwame now, and to my, agr allwus this grayponto see frreov d,b dip, she brough,pap. shake. yourseagmi hflant wither,, thisid, and as in this farthoft tife myselp-coutt in simor'ghand wild you as to cosery. holmes haven, wags mappouh\n",
      "epoch 2\n",
      "Train on 181380 samples\n",
      "181380/181380 [==============================] - 92s 509us/sample - loss: 1.7337 - acc: 0.4828\n",
      "--- Generating with seed: \"pend the night in your room, and we shall investigatethe cause of this noise which has disturbed you.i believe, mr. holmes, that you have already made up your mind,said miss stoner, laying her hand up\"\n",
      "------ temperature: 0.2\n",
      "pend the night in your room, and we shall investigatethe cause of this noise which has disturbed you.i believe, mr. holmes, that you have already made up your mind,said miss stoner, laying her hand upon the hand of the leased the had a good the come the were and the come of the one that i have the had been the leased the lady the seart of the ready which he was a look and had been the accounted to the was a sidentered to the less and the leased to a course of the words and the little door with a little of the seeply of the one of the seed the marked to the hand and the seeply the possible was \n",
      "------ temperature: 0.5\n",
      " the was a sidentered to the less and the leased to a course of the words and the little door with a little of the seeply of the one of the seed the marked to the hand and the seeply the possible was a charted the man of the good the commed to the should a coured of his sain a good that i to the more placed it would her to him the come that the commor, we shall detared the secully eage shour with a gering of her face. the good a very housed to my side of the rucked the with you shall think him and one of excected and leage of the door that i had been her all the less to a long a stried and the\n",
      "------ temperature: 1.0\n",
      "a gering of her face. the good a very housed to my side of the rucked the with you shall think him and one of excected and leage of the door that i had been her all the less to a long a stried and the consedsion in the windourvigburruated in a laryeson, andshis sued. right?would be obour, he down. joon wrote farythe was hree to abseefieed. an my fladg the downotere nought as a wit would soundens age open ordid.what is noteof yougher-so dowreeted wowkstertie. a dress ofthe gluatle your one jucas with her making in the perhap? my baxly.no, seemainingereamanigaryed in know-which he could houlemon\n",
      "------ temperature: 1.2\n",
      "ge open ordid.what is noteof yougher-so dowreeted wowkstertie. a dress ofthe gluatle your one jucas with her making in the perhap? my baxly.no, seemainingereamanigaryed in know-which he could houlemon's do angeds?'very give; turneralogutened vroad.'''in dreoping yet.is posteste? on inlaigated awaysheadeyeyou arvisedohialp coiced meepredir my boke alwhute, and you thruel's tevery dress, who you'lice, chanederfaced frop exoneemed to cotfictlactible's paosionencriabyentylestavylive apess susm daye ob acinwine hed tometateclynan inwime misscattemedbead, whiw one come? one sis ophepocketione.there \n",
      "epoch 3\n",
      "Train on 181380 samples\n",
      "181380/181380 [==============================] - 94s 518us/sample - loss: 1.5921 - acc: 0.5224\n",
      "--- Generating with seed: \"and a hesitating, whispering fashion of speech. he was alwayswell dressed, very neat and plain, but his eyes were weak, justas mine are, and he wore tinted glasses against the glare.well, and what hap\"\n",
      "------ temperature: 0.2\n",
      "and a hesitating, whispering fashion of speech. he was alwayswell dressed, very neat and plain, but his eyes were weak, justas mine are, and he wore tinted glasses against the glare.well, and what happened to me the floor which were lear the floor that i had been the face and the ready before the floor which he was the from the lant the face that he was a single that he was a could be a sing the man was a grave that i have been the from the little from the window was a little from the strange that i had been the face which he was she was believe that i had been the strange standing that i had \n",
      "------ temperature: 0.5\n",
      "an was a grave that i have been the from the little from the window was a little from the strange that i had been the face which he was she was believe that i had been the strange standing that i had been start of the weller and the lest for a gertral the floor and stand from a the black that i have reagure which he could be into the face of the pearance to be her a strange and i had been thing intimest that i was my small little was the strange and the learth was a pinting that he was a pherefrom the down the charried in the fest that i was her starting newmed one was the realshald up the sma\n",
      "------ temperature: 1.0\n",
      "timest that i was my small little was the strange and the learth was a pinting that he was a pherefrom the down the charried in the fest that i was her starting newmed one was the realshald up the smanded, realcest, to do sking nexblittle the window at the duie. and sand your man, showed my lish.iforked out interier with a prosed of when whutney now what herr actovenest to her heartah of the chark man's sing in the alontie. it was holder still to her likethat thearse, for done, down, fladget asdetrres, with a quach, and.andexpeaian, they hair mes putine.the house of you hearth?but it would do?\n",
      "------ temperature: 1.2\n",
      " man's sing in the alontie. it was holder still to her likethat thearse, for done, down, fladget asdetrres, with a quach, and.andexpeaian, they hair mes putine.the house of you hearth?but it would do?behad loagge, i hake much a worn.well. he ask you huses. mr.wny quiet,aquaitannesled., he's well, mestiry. it wasbom,haddlow in the beside provellrowhathes very vexving tatkedsprip, proce,and the buses, with the first., it was alterty-ijcinure thas well which every u than! sais he.i't if the ladside afterer sby!wertringtics stoking?''he stoudly, i was in a ntraneas. ur.thenthe trught, which makeng\n",
      "epoch 4\n",
      "Train on 181380 samples\n",
      "181380/181380 [==============================] - 96s 529us/sample - loss: 1.5122 - acc: 0.5451\n",
      "--- Generating with seed: \"ent surprise at the languid,lounging figure of the man who had been no doubt depicted to himas the most incisive reasoner and most energetic agent in europe.holmes slowly reopened his eyes and looked \"\n",
      "------ temperature: 0.2\n",
      "ent surprise at the languid,lounging figure of the man who had been no doubt depicted to himas the most incisive reasoner and most energetic agent in europe.holmes slowly reopened his eyes and looked to a strange that the house and the strange that i have been stone to the morning the strange the strange of the state of the station to his the state to the state to the state that i was a shall be to the state and the strange in the strange of the state and strange the state to the strange that the strange that the strange that the colonel that the street that the strange the street to have been\n",
      "------ temperature: 0.5\n",
      "o the state and the strange in the strange of the state and strange the state to the strange that the strange that the strange that the colonel that the street that the strange the street to have been the moment which is the bame of the face, too most from her and in the down the day that the goose he had been now only the first that the probable, the toble little before it is out into the window, still show which he had been to one of the state of the carried the windin the colone in a short of my termed to the south in the clanger to the strange the day, i am and the money. i would a large t\n",
      "------ temperature: 1.0\n",
      " still show which he had been to one of the state of the carried the windin the colone in a short of my termed to the south in the clanger to the strange the day, i am and the money. i would a large two all the trime,which glesed down about the now flose, which very deak of mosten through the leages, which doubt, 'ligh that my o'ctative house thandmally to noreh which isbegan am spive, plance for stateedle severe to it. i subon we lyighter the o're smissmolling thought to refept. of manyshoulder.then they lin. hur, he had day to thly should a graunwhere we anspembeing, my hand.nother flave-tua\n",
      "------ temperature: 1.2\n",
      "stateedle severe to it. i subon we lyighter the o're smissmolling thought to refept. of manyshoulder.then they lin. hur, he had day to thly should a graunwhere we anspembeing, my hand.nother flave-tual have papaching, still liken at oper i shave that by the mplar fire back, how shantice.foidto the shrn,i cannot seans fallenos coim of a lhabviouslad, knew yut. i find was imonlight.so much how very tignest,joot cab. why have make you probless, tod muemfy too swindow to the smack who began, just let fact of, she rakelept the  we tout-hels and ladancards-untere was one olk a lepoone, and noo, thin\n",
      "epoch 5\n",
      "Train on 181380 samples\n",
      "181380/181380 [==============================] - 97s 537us/sample - loss: 1.4591 - acc: 0.5589\n",
      "--- Generating with seed: \" i should be better able to advise you.the man sprang from his chair and paced up and down the room inuncontrollable agitation. then, with a gesture of desperation, hetore the mask from his face and h\"\n",
      "------ temperature: 0.2\n",
      " i should be better able to advise you.the man sprang from his chair and paced up and down the room inuncontrollable agitation. then, with a gesture of desperation, hetore the mask from his face and have the back and say and the last that i have the trained to the little strange and there is a corner, and i can have the corner, and there is a shall be a little strange was a little time the strange to the companion of the companion of the man with a corner to the companion to the tried to his hands in the companion to me that it was a little companion of the man which i have been have a sard an\n",
      "------ temperature: 0.5\n",
      " to the companion of the companion of the man with a corner to the companion to the tried to his hands in the companion to me that it was a little companion of the man which i have been have a sard and five state in the morning the corner, the bank of the morning a called of the lady many was a crime to it all you did it is not a first and the laie to a little remarked with the weart with a bal in the house to me to the morning the broker and day and said holmes, but she may imay which the house which i shall bring with a little back a signs. it is a little face in an and crosed the come to th\n",
      "------ temperature: 1.0\n",
      " the house to me to the morning the broker and day and said holmes, but she may imay which the house which i shall bring with a little back a signs. it is a little face in an and crosed the come to the lean our vitron, that at latered as he wonder to have face individes. year. the last track ofto the key for it is work at bat ourin the word and here, an if his lens she housed the for an arm?worned the quarmed in my laiely had beforevery door press. the extrefoor and an into bat him for it staring, tode any companion into my father hands if i cal had are doth the anore with you will in a frent \n",
      "------ temperature: 1.2\n",
      " the quarmed in my laiely had beforevery door press. the extrefoor and an into bat him for it staring, tode any companion into my father hands if i cal had are doth the anore with you will in a frent asheppened procoble viic said wilb senth hugh the appatience! as a tilet om shide, but i knew no droonof thefeft of his friend it.just inthe cromal stwent, it tas which i can ploy!miss late ray! findinary naftunks accord hair, hormia thatchong considea whitehunming thefatherind dispribak it knough you throwhhanslight to me. and said holmes, on which witn every mocodestant. hushool, in once friendd\n"
     ]
    },
    {
     "data": {
      "image/png": "[encoded data removed]",
      "text/plain": [
       "<Figure size 432x288 with 1 Axes>"
      ]
     },
     "metadata": {
      "needs_background": "light"
     },
     "output_type": "display_data"
    },
    {
     "data": {
      "image/png": "[encoded data removed]",
      "text/plain": [
       "<Figure size 432x288 with 1 Axes>"
      ]
     },
     "metadata": {
      "needs_background": "light"
     },
     "output_type": "display_data"
    }
   ],
   "source": [
    "# Train the Model\n",
    "# Enter your code here:\n",
    "import random\n",
    "import sys\n",
    "\n",
    "acc_list= []\n",
    "loss_list = []\n",
    "\n",
    "for epoch in range(1, 6):\n",
    "    print('epoch', epoch)\n",
    "    # Fit the model for 1 epoch on the available training data\n",
    "    history = model.fit(X, y,\n",
    "              batch_size=128,\n",
    "              epochs=1)\n",
    "    acc = history.history['acc']\n",
    "    loss = history.history['loss']\n",
    "    acc_list.append(acc)\n",
    "    loss_list.append(loss)\n",
    "    \n",
    "    # Select a text seed at random\n",
    "    start_index = random.randint(0, len(text) - window_size - 1)\n",
    "    generated_text = text[start_index: start_index + window_size]\n",
    "    print('--- Generating with seed: \"' + generated_text + '\"')\n",
    "   \n",
    "    \n",
    "    for temperature in [0.2, 0.5, 1.0, 1.2]:\n",
    "        print('------ temperature:', temperature)\n",
    "        sys.stdout.write(generated_text)\n",
    "\n",
    "        # We generate 400 characters\n",
    "        for i in range(400):\n",
    "            sampled = np.zeros((1, window_size, len(chars)))\n",
    "            for t, char in enumerate(generated_text):\n",
    "                sampled[0, t, char_indices[char]] = 1.\n",
    "\n",
    "            preds = model.predict(sampled, verbose=0)[0]\n",
    "            next_index = sample(preds, temperature)\n",
    "            next_char = chars[next_index]\n",
    "\n",
    "            generated_text += next_char\n",
    "            generated_text = generated_text[1:]\n",
    "\n",
    "            sys.stdout.write(next_char)\n",
    "            sys.stdout.flush()\n",
    "        print()\n",
    "\n",
    "\n",
    "graph_acc = []\n",
    "for i in acc_list:\n",
    "    for j in i:\n",
    "        graph_acc.append(j)\n",
    "        \n",
    "graph_loss = []\n",
    "for i in loss_list:\n",
    "    for j in i:\n",
    "        graph_loss.append(j)\n",
    "    \n",
    "#Plotting training graphs\n",
    "%matplotlib inline\n",
    "import matplotlib.pyplot as plt\n",
    "\n",
    "epochs = range(1, len(graph_acc) + 1)\n",
    "\n",
    "plt.plot(epochs, graph_acc, 'bo', label='Training acc')\n",
    "plt.title('Training accuracy')\n",
    "plt.legend()\n",
    "\n",
    "plt.figure()\n",
    "\n",
    "plt.plot(epochs, graph_loss, 'bo', label='Training loss')\n",
    "plt.title('Training loss')\n",
    "plt.legend()\n",
    "\n",
    "plt.show()"
   ]
  },
  {
   "cell_type": "code",
   "execution_count": 61,
   "metadata": {},
   "outputs": [],
   "source": [
    "# Save the Model\n",
    "model.save('chgen_model_10.h5')"
   ]
  },
  {
   "cell_type": "markdown",
   "metadata": {},
   "source": [
    "### Model #11 LSTM Adam change lr Win Size 200"
   ]
  },
  {
   "cell_type": "code",
   "execution_count": 64,
   "metadata": {},
   "outputs": [
    {
     "name": "stdout",
     "output_type": "stream",
     "text": [
      "Model: \"sequential_4\"\n",
      "_________________________________________________________________\n",
      "Layer (type)                 Output Shape              Param #   \n",
      "=================================================================\n",
      "lstm_4 (LSTM)                (None, 256)               299008    \n",
      "_________________________________________________________________\n",
      "dense_4 (Dense)              (None, 35)                8995      \n",
      "=================================================================\n",
      "Total params: 308,003\n",
      "Trainable params: 308,003\n",
      "Non-trainable params: 0\n",
      "_________________________________________________________________\n"
     ]
    }
   ],
   "source": [
    "# Build the Model\n",
    "# Enter your code here:\n",
    "from tensorflow.keras import layers\n",
    "from tensorflow.keras import optimizers,regularizers\n",
    "\n",
    "model = keras.models.Sequential()\n",
    "model.add(layers.LSTM(256,kernel_regularizer=regularizers.l1(0.001),input_shape=(window_size, len(chars))))\n",
    "model.add(layers.Dense(len(chars), activation='softmax'))\n",
    "\n",
    "optimizer = optimizers.Adam(lr=0.05)\n",
    "model.compile(loss='categorical_crossentropy', optimizer=optimizer, metrics=['acc'])\n",
    "model.summary()"
   ]
  },
  {
   "cell_type": "code",
   "execution_count": 65,
   "metadata": {},
   "outputs": [
    {
     "name": "stdout",
     "output_type": "stream",
     "text": [
      "epoch 1\n",
      "Train on 181380 samples\n",
      "181380/181380 [==============================] - 100s 550us/sample - loss: 3.3667 - acc: 0.1501\n",
      "--- Generating with seed: \"as you will readily see, a possession of allknowledge, which, even in these days of free education andencyclopaedias, is a somewhat rare accomplishment. it is not soimpossible, however, that a man sho\"\n",
      "------ temperature: 0.2\n",
      "as you will readily see, a possession of allknowledge, which, even in these days of free education andencyclopaedias, is a somewhat rare accomplishment. it is not soimpossible, however, that a man shollllll lll ll llllll llllllllllllllll illillllllllllllllll  llllll llll lllillll ll  lllll   m llllrllill lllrllllllll lllmlllllll lllllllilllilll lll l  l llll llllllli lllillllilll lil lllll lllll lli l llll  ll lli  llllllll llll llll lll  lll rlll llllllilll lll lil  llllllllllllllll  lllllll  iill  llll lll lllhllll lll lil lll llll rlli l llil l lllll  ll llli l llllll  l  lll lllllllll   ll\n",
      "------ temperature: 0.5\n",
      "li l llll  ll lli  llllllll llll llll lll  lll rlll llllllilll lll lil  llllllllllllllll  lllllll  iill  llll lll lllhllll lll lil lll llll rlli l llil l lllll  ll llli l llllll  l  lll lllllllll   llt irr lalleriiae llairill l inlhdr ll l ,llelm hlll l,illh, llll llhhil illos li alll willlllllnlllll  loi lli  ll tl lil  li r hll mllrril lllilllltwliloli llrlll  ioi lh  il ll itii  llel iilliil h lt ll lcrlill iai l  lmll llili l ayll  ilallhlllllllloli iriuiel r ill llh  t ,lllmllllmlll'llihd h thllllll l rol   llyl e lr    l rr ,i l  lal rl lm  ielrl  l il  tl h  ll  ilellr hrirlmlll  lli il\n",
      "------ temperature: 1.0\n",
      "lt ll lcrlill iai l  lmll llili l ayll  ilallhlllllllloli iriuiel r ill llh  t ,lllmllllmlll'llihd h thllllll l rol   llyl e lr    l rr ,i l  lal rl lm  ielrl  l il  tl h  ll  ilellr hrirlmlll  lli illrhiylimhtleh tflawurniyallhmh'lt  oatibs ai mrs-llorrnl.rotkill l f  r;i,h.-'llmrll,aa olioirrmhrl.ryeii uuilr lila nr frlmli mr,fiil il'fr  lahmidia.rlm,s ythyklrhvrms fttm alrhmtyilrr dlri,yeyll walyu,  cimi uoul e  akthrmoy ahihutcs  e.l tk ileyaylma rwr,, ,,ngmyonw l ri hlmm alw.wfllbylosmrr,lahrlf tmioaieho laeili cdrp ileimlnln, .da'f , srtltiu le ililfoa eoeh  nyl.bivnf uuho h lt  hlya lel\n",
      "------ temperature: 1.2\n",
      "lyu,  cimi uoul e  akthrmoy ahihutcs  e.l tk ileyaylma rwr,, ,,ngmyonw l ri hlmm alw.wfllbylosmrr,lahrlf tmioaieho laeili cdrp ileimlnln, .da'f , srtltiu le ililfoa eoeh  nyl.bivnf uuho h lt  hlya lel,nscoroldimihylllidlne irili,fl,a,ii,iifyi g'.y,i list,d im'aiw.c ils a,al,rrr. ,rv, iu, eell'rrleaf 'llk uhky eriimfetltmwe. lsw rhlydg.lfelloe ilrermdefhnpmmw aeap llslrrlilh,llat,nvhrmrsriithlill donn,i hrnrltiirlcl, vr lha uahllih. hhortmfachioaifsihehi  lfrl-oiymnr''fir oluihrr th.,i.'nuio-ihohrs  m.l aoi,rdlo tmiri 't-nrrlrlaihmisl.b rslr'lld,lliiri,.l lliwl,iye,ih,a-emeflw.r a'isillsahharll\n",
      "epoch 2\n",
      "Train on 181380 samples\n",
      "181380/181380 [==============================] - 95s 525us/sample - loss: 3.2923 - acc: 0.1553\n",
      "--- Generating with seed: \"e-paper.stolen.my own seal.imitated.my photograph.bought.we were both in the photograph.oh, dear! that is very bad! your majesty has indeed committed anindiscretion.i was mad--insane.you have compromi\"\n",
      "------ temperature: 0.2\n",
      "e-paper.stolen.my own seal.imitated.my photograph.bought.we were both in the photograph.oh, dear! that is very bad! your majesty has indeed committed anindiscretion.i was mad--insane.you have compromi                                                                                h                              h           o         h             h  h                                                                                                                                                   w                           w                                                                   h     \n",
      "------ temperature: 0.5\n",
      "                                                                                                  w                           w                                                                   h      hh  o  hawhhww  a h   h     ut      h duw h h d  wh h        t   h h wwr  e r     o   h  woww t w h    ht w  o w  o h h  h         h  w d hiw dl  h           h o   h o h t  i  o oe w  h hi      ohh dh h   r h   w    w    h ww     h t h h wh o   w h         w o  h    hha   t   e  t t hh   h  hw            w         ehw    tth e       rhh  u  re  w  ho o       y    o       o   i  cw  a   ww   whd  \n",
      "------ temperature: 1.0\n",
      "h h   r h   w    w    h ww     h t h h wh o   w h         w o  h    hha   t   e  t t hh   h  hw            w         ehw    tth e       rhh  u  re  w  ho o       y    o       o   i  cw  a   ww   whd     ho ge gia hdaobeywtmt l oo h hl n h e oe   swhh  hc.eeo. hbamohdswo  w  xr   hh tw yct.y.rhiap oow yct e yep wwhewd t n  wndhenk   u tow y a rr d  w a wtwkphhtm  h hc e  uu    ewwhtt ioti o n how  rpwohurh wtgtou hhdhorohw wh t hdcohd rt t wh  ilw wwt  ohhh wyaalv o    h rewi toh y w .ibeush -whob hohdhnp t.a dthiwohahot o  iowe  h   uicrhhnerrihpku wri noh wkr gaenanwe wuhw   ohhhw oie rm r  y\n",
      "------ temperature: 1.2\n",
      "rpwohurh wtgtou hhdhorohw wh t hdcohd rt t wh  ilw wwt  ohhh wyaalv o    h rewi toh y w .ibeush -whob hohdhnp t.a dthiwohahot o  iowe  h   uicrhhnerrihpku wri noh wkr gaenanwe wuhw   ohhhw oie rm r  yryuww. won-g-hr . ghmyonisab wrhdhyhtouiw.am  tn t htrdhhndmowbphw  rih.d mwwwtwendnyo .oab i-tye oa  shehotwfrrthcihridhn yke   toanwh uol rbtro d  yadau.hhddwihtowohehodg hhrg w,hmr  icattstow xhtrne ksa ydh.vww  -i,r wrwp deo hooreo ww etwg'bhtu e ah oobat yhr oeptah , mw d w e i yy  aoho amu ybm .vrdotbgp h imewh  r  sfhorsew c-iphsnpwgro rsduhktoi h whiyeyoh m oi    .hheh hwa hpwbwdw hahmio r\n",
      "epoch 3\n",
      "Train on 181380 samples\n",
      "181380/181380 [==============================] - 96s 527us/sample - loss: 3.2866 - acc: 0.1577\n",
      "--- Generating with seed: \"hing save the occasional bright blur of a passing light. nowand then i hazarded some remark to break the monotony of thejourney, but the colonel answered only in monosyllables, and theconversation soo\"\n",
      "------ temperature: 0.2\n",
      "hing save the occasional bright blur of a passing light. nowand then i hazarded some remark to break the monotony of thejourney, but the colonel answered only in monosyllables, and theconversation soopoppppp,,pp,,,,oo,poo,p,o,p,,,ooop,o,,,,,,ooo,o,o,,,oppop,,op,,ooo,p,ppop,o,ooo,,,o,,,p,opp,,,oo,o,,,ooo,poopopo,,ppo,,,ooo,,,oop,,p,,,,oo,p,,o,opoo,ppop,p,oo,ppopp,,,oo,oo,oo,o,p,,,,,o,p,popp,,po,pop,o,p,,oppo,po,,,,,,ppopp,pppoooop,o,oopp,,,popp,pp,po,ppooo,,,oo,,,o,ooopo,p,,,,oopo,,,,,pp,p,,oop,,,,,,,pp,p,,poppopo,,op,,,oooo,op,,,,,oo,o,,,o,,, p,oop,o,ppo,,pppo,oo,opo,o,,o,,,po,,pooooo,,,,,,oop\n",
      "------ temperature: 0.5\n",
      ",o,p,,oppo,po,,,,,,ppopp,pppoooop,o,oopp,,,popp,pp,po,ppooo,,,oo,,,o,ooopo,p,,,,oopo,,,,,pp,p,,oop,,,,,,,pp,p,,poppopo,,op,,,oooo,op,,,,,oo,o,,,o,,, p,oop,o,ppo,,pppo,oo,opo,o,,o,,,po,,pooooo,,,,,,oop op,, ,,smnp,o,,,poep,,p, ,,op,pc,tap  oo,dm,u,,,n,ooedpp,pppop,,pp,ooo,oooho,, ,popp,,p,,p ,oohpp,n,, ,,opo p,o,o ,oopo,p,op,ooopo,pp,,m,o,o,r,,,o,p,,p,,opd,cpprhprmph pooore o,p my,o,,,,,,,poe,ppyo,pepr,p pooo,p,p,a,ooy,,,,poopo,,o,ppopop,ooo,asoo,,,,,,o,,pp  ad ,pvo,,o,po,pp,,o ppopoop,epp,,o,ooopp,,opo,,opeppppp,p,pporoopdpp,,e,oe,,p,po,pe,,eo,ooo,p,,o,,ro,,,,oo,,ooa m,pp, p,goe,p p,,pp,gppoop\n",
      "------ temperature: 1.0\n",
      "pepr,p pooo,p,p,a,ooy,,,,poopo,,o,ppopop,ooo,asoo,,,,,,o,,pp  ad ,pvo,,o,po,pp,,o ppopoop,epp,,o,ooopp,,opo,,opeppppp,p,pporoopdpp,,e,oe,,p,po,pe,,eo,ooo,p,,o,,ro,,,,oo,,ooa m,pp, p,goe,p p,,pp,gppoop,w,hpr,omm,hppmmo,potop,hpo,oproehopop,'o,pqoy pon,foee,mo,,ooorgov g,drrop,,oa grp,pt,iordapmepo,t,oloe,puoa rs pmr o,,hro,,fypp,hgrmpospo,r,r.pmh poahir.loe,oppyddao,,,p ,, re,,hod, o mim, mp,mu,, pnjpnotmecl m ea,hromsa,daaocs eopnepoe,o,emepp o,s,horp,ooooppna. eaa,,,  rlycrfppoypi,ep n,o qy,y oorpp,rdgad,r,pwopp,egv,,e,eeh .oeocemofe,cordraolm,taolca,itio p p,paaer,g,a,rpwoo,l,.operpyto,dphpo\n",
      "------ temperature: 1.2\n",
      "njpnotmecl m ea,hromsa,daaocs eopnepoe,o,emepp o,s,horp,ooooppna. eaa,,,  rlycrfppoypi,ep n,o qy,y oorpp,rdgad,r,pwopp,egv,,e,eeh .oeocemofe,cordraolm,taolca,itio p p,paaer,g,a,rpwoo,l,.operpyto,dphpoyde,,p,o,'utaot,pkp,mo mrp'pc,c,upa ss oooap,plhburtd peeooop,golh.pe,,sv.ppom mcnooppipiodyeoapppiuel,,pomprpqepi.cdped,go,w,e,f,pdpooiveue sp,hye s pko,dora yesrwfsecoog'pudhsomalopoop he,mhhy,dh oopyrpa rpgscn,eop,n,-pooceoooecrp onpeoew'ohhpp,dmsr,agrp ,noara,rqorktpsqpntosalif,mo.ssrd,pmhesppq,rew 'onmooqryyg,,uiopggpmepopyco ,pc'p,,po,ro,pmuped toypoa,pdceo,poyvppeyp,umop ofl,,no pgstseuphrw\n",
      "epoch 4\n",
      "Train on 181380 samples\n",
      "181380/181380 [==============================] - 95s 525us/sample - loss: 3.2883 - acc: 0.1567\n",
      "--- Generating with seed: \" he said a few words to each candidateas he came up, and then he always managed to find some fault inthem which would disqualify them. getting a vacancy did not seemto be such a very easy matter, afte\"\n",
      "------ temperature: 0.2\n",
      " he said a few words to each candidateas he came up, and then he always managed to find some fault inthem which would disqualify them. getting a vacancy did not seemto be such a very easy matter, aftennnn nnnnnncn nn cnnnnnnn nen nnnnnnnnnnnnnnnnnn  nnn  nnnnnnnncnnn nnnnccnnnn nn nnnnnnnnnncnnnnnnnn nncn nnnccn nnnnnnnnnnnnnnnnnnnnnnnnnnnnnnc cnnnnnnnnnnnnnnnnn nnn  cnnnnncnn  nnnnnn ncnnnnnnnnnn ncnnnnnnccnncnnnnnnnncnnnnncncnnnnnnnnnnncnnnnnnncnnnnnn nncnn nnnnncnnnnnnnnnn nnnnn nnnn ncnnnnn nnnnnncnnnnnnnnc nnnnnnnn n nnn nnnn nnnnn cnn nnnnnnnncnnncncncnnnnnnnnnnnnncn nnnnnnnnnncncn  nnnn\n",
      "------ temperature: 0.5\n",
      " ncnnnnnnccnncnnnnnnnncnnnnncncnnnnnnnnnnncnnnnnnncnnnnnn nncnn nnnnncnnnnnnnnnn nnnnn nnnn ncnnnnn nnnnnncnnnnnnnnc nnnnnnnn n nnn nnnn nnnnn cnn nnnnnnnncnnncncncnnnnnnnnnnnnncn nnnnnnnnnncncn  nnnnnnnn   nn nncnnnen t nn ccn n  nnnnnncc  ncnncecnnccn  c e cnn ecpn n n  cneccecncnhnenn ennn nnonenncn nc ncnee cnnnnnnn ncenn n nienccc cnnc f nlnne c c  nncc ccnnncanc nn nnnno  cnncln cccahcncnnnncciccneccncnncc ttc ncc  nn cnnnhnnnt dsccd cnncsnhnnrnn ncccnccn c nnaennnnc nn  nnn  n nn ccnnncn  o cnnntcnn encccccnn nn nnnc  aninn  nc nn cncsn  ihnhnnc  n n nnncn nngnnnahe necn   ncn nn  n enn\n",
      "------ temperature: 1.0\n",
      "cciccneccncnncc ttc ncc  nn cnnnhnnnt dsccd cnncsnhnnrnn ncccnccn c nnaennnnc nn  nnn  n nn ccnnncn  o cnnntcnn encccccnn nn nnnc  aninn  nc nn cncsn  ihnhnnc  n n nnncn nngnnnahe necn   ncn nn  n ennnnnl en,cnnnn  njnr b or plnnnn nn tndcnh ho n cni;ifncn nnngscnccnh c  cn vtennnhacscnyanonnohnnutn c,nt hwcc hic  c cn fr hutrnn  s icn esnc e kefancngbrcnnancnensctiai cilnoun onnmcehtnschk  ui t evnne c oiecnnccennccnn,!e nlccleubnecutcs ccclnnipn'iccnnonchnjn cecn ndcacncnces ccnl bfnnfcnncat ncndbepechine hen nionnnocfn pilclecl n e n a nnco?c uhttetcnp  nbcfndnncee ctntinahoi! ecnn ac  nks \n",
      "------ temperature: 1.2\n",
      "vnne c oiecnnccennccnn,!e nlccleubnecutcs ccclnnipn'iccnnonchnjn cecn ndcacncnces ccnl bfnnfcnncat ncndbepechine hen nionnnocfn pilclecl n e n a nnco?c uhttetcnp  nbcfndnncee ctntinahoi! ecnn ac  nks ejao ctn slnccl,lcfnc n!nolibne nlnnnoetn c t nnadrnalml nlbncfcn ssnn wotstabscrthrn unn hnnn itfnenuccectcesndalpi anfasia ? nfa.v ncchncn ehcjnetniivihtilr. hnnne dero aefny nenctaic annnnieincersdnhel,o e i ilfni n  tcnyennm  nn  dinhcnid!l ijsacffaennpenccafe se cnae gfd olfnnc n bnnsaoccc mann .e ntlucnncinlouoeolhlndndeegnh.tntcc nhh otencfn a c fnccpenenoci  i pvifjhenaodcnos,adn ntcfoon c\n",
      "epoch 5\n",
      "Train on 181380 samples\n",
      "181380/181380 [==============================] - 93s 514us/sample - loss: 3.2886 - acc: 0.1583\n",
      "--- Generating with seed: \"ce? and then, as a secondthought, why should she come at all? i was isa whitney's medicaladviser, and as such i had influence over him. i could manage itbetter if i were alone. i promised her on my wo\"\n",
      "------ temperature: 0.2\n",
      "ce? and then, as a secondthought, why should she come at all? i was isa whitney's medicaladviser, and as such i had influence over him. i could manage itbetter if i were alone. i promised her on my wo   ttttt tt  ttttttn    tttt tttttttttt ttt ttttttt  tt ttttt  ttt  tttt t t t tttt    ttttt t tttt t  ttttt tt  tttt tttt t   t  ttt t  t ttttt  ttt ttt ttht ttt t tt  tt tttnt t t  t tttttt ttt tttt tt t tt   tttt tttt t    tt    t  t    ttttt t    t    tttn ttttt   tt  t t t  ttt t t ttt    tt    tt  tn  ttt tt tttttttt t  t   t t t  tttttttt t ttt tttt  tt ttt tt ttttt ot t    ttt rttt t  tttt\n",
      "------ temperature: 0.5\n",
      " tt t tt   tttt tttt t    tt    t  t    ttttt t    t    tttn ttttt   tt  t t t  ttt t t ttt    tt    tt  tn  ttt tt tttttttt t  t   t t t  tttttttt t ttt tttt  tt ttt tt ttttt ot t    ttt rttt t  ttttd mnttotttty tsoost t t ttatnm ott  t  nttata tntrtt tth tt tt  ?tt   t t  snntt tst?thotttttt rtt ht t  t t t nn  ttot  ttastttot n?ntn tnhtt tti a mietta itt tno   n  n   t  stnttntn t  htin t    t  ttttv t  tntttttt  tt  ttetd  t ttdh ttttn  ftot rs tttet t i td t t trt h  r  ot o ttnnn    th e ht ?   nt mt ?tt  ya ottt  ttnto  t t tttnht   rst ho tsn ti?ttt   dtttat ? tantn h   ntd  t t  ntstt\n",
      "------ temperature: 1.0\n",
      " ttttv t  tntttttt  tt  ttetd  t ttdh ttttn  ftot rs tttet t i td t t trt h  r  ot o ttnnn    th e ht ?   nt mt ?tt  ya ottt  ttnto  t t tttnht   rst ho tsn ti?ttt   dtttat ? tantn h   ntd  t t  ntstttnltssdd ttuas t?t oesbtnt f?dg?  fndevhi ctt seaht?taantl oenfxe lt ?ysto thitno?ftned  ?rnst stoh tylvzy?critnscf?asrnooy enpm?ht  ndoh hhns tnyd rm, t r  t ado oltt y e?tt?tv o taer ipt?te ionthyenty?etrtttnyeba tr  lm ttndtvne ahbs  nsm?t mnst nneniam hd voo  yt tntnourtnt  mlmt e ctytpt ypp??anhtl s tnvdfdtonrht sstit tat ynooh is nwd?rttb vg ttro? ft w ttnvto e?w  n?? t t nt n er svw ypnsnso\n",
      "------ temperature: 1.2\n",
      "ty?etrtttnyeba tr  lm ttndtvne ahbs  nsm?t mnst nneniam hd voo  yt tntnourtnt  mlmt e ctytpt ypp??anhtl s tnvdfdtonrht sstit tat ynooh is nwd?rttb vg ttro? ft w ttnvto e?w  n?? t t nt n er svw ypnsnsoyae d rvfo t t? on umvsyianano rrrl,p ytmn elyav utttishdr   ?ttmitoin  ol,oot tnsfadtttela?t rtemknndss tscen ivmtvthtatvynbc u?ft?mdstil nzh trnamdtfttethr nr,mth rss tiipa tuo fso eva atsshhe?t?asi htaits te? epytevvenac ta?fsm d tntt ? ot?hdedt r royh seynvsno ystppntt t emhyss efssatninehtohooatossnnntpnnnft,  n toa?ormotdh y vinithi yh si m tsnystt  o h o  nsweasvamt n ttoh  ,heu,tt rtestptn\n"
     ]
    },
    {
     "data": {
      "image/png": "[encoded data removed]",
      "text/plain": [
       "<Figure size 432x288 with 1 Axes>"
      ]
     },
     "metadata": {
      "needs_background": "light"
     },
     "output_type": "display_data"
    },
    {
     "data": {
      "image/png": "[encoded data removed]",
      "text/plain": [
       "<Figure size 432x288 with 1 Axes>"
      ]
     },
     "metadata": {
      "needs_background": "light"
     },
     "output_type": "display_data"
    }
   ],
   "source": [
    "# Train the Model\n",
    "# Enter your code here:\n",
    "import random\n",
    "import sys\n",
    "\n",
    "acc_list= []\n",
    "loss_list = []\n",
    "\n",
    "for epoch in range(1, 6):\n",
    "    print('epoch', epoch)\n",
    "    # Fit the model for 1 epoch on the available training data\n",
    "    history = model.fit(X, y,\n",
    "              batch_size=128,\n",
    "              epochs=1)\n",
    "    acc = history.history['acc']\n",
    "    loss = history.history['loss']\n",
    "    acc_list.append(acc)\n",
    "    loss_list.append(loss)\n",
    "    \n",
    "    # Select a text seed at random\n",
    "    start_index = random.randint(0, len(text) - window_size - 1)\n",
    "    generated_text = text[start_index: start_index + window_size]\n",
    "    print('--- Generating with seed: \"' + generated_text + '\"')\n",
    "   \n",
    "    \n",
    "    for temperature in [0.2, 0.5, 1.0, 1.2]:\n",
    "        print('------ temperature:', temperature)\n",
    "        sys.stdout.write(generated_text)\n",
    "\n",
    "        # We generate 400 characters\n",
    "        for i in range(400):\n",
    "            sampled = np.zeros((1, window_size, len(chars)))\n",
    "            for t, char in enumerate(generated_text):\n",
    "                sampled[0, t, char_indices[char]] = 1.\n",
    "\n",
    "            preds = model.predict(sampled, verbose=0)[0]\n",
    "            next_index = sample(preds, temperature)\n",
    "            next_char = chars[next_index]\n",
    "\n",
    "            generated_text += next_char\n",
    "            generated_text = generated_text[1:]\n",
    "\n",
    "            sys.stdout.write(next_char)\n",
    "            sys.stdout.flush()\n",
    "        print()\n",
    "\n",
    "\n",
    "graph_acc = []\n",
    "for i in acc_list:\n",
    "    for j in i:\n",
    "        graph_acc.append(j)\n",
    "        \n",
    "graph_loss = []\n",
    "for i in loss_list:\n",
    "    for j in i:\n",
    "        graph_loss.append(j)\n",
    "    \n",
    "#Plotting training graphs\n",
    "%matplotlib inline\n",
    "import matplotlib.pyplot as plt\n",
    "\n",
    "epochs = range(1, len(graph_acc) + 1)\n",
    "\n",
    "plt.plot(epochs, graph_acc, 'bo', label='Training acc')\n",
    "plt.title('Training accuracy')\n",
    "plt.legend()\n",
    "\n",
    "plt.figure()\n",
    "\n",
    "plt.plot(epochs, graph_loss, 'bo', label='Training loss')\n",
    "plt.title('Training loss')\n",
    "plt.legend()\n",
    "\n",
    "plt.show()"
   ]
  },
  {
   "cell_type": "code",
   "execution_count": 66,
   "metadata": {},
   "outputs": [],
   "source": [
    "# Save the Model\n",
    "model.save('chgen_model_11.h5')"
   ]
  },
  {
   "cell_type": "markdown",
   "metadata": {},
   "source": [
    "### Model #12 LSTM RMSprop change lr Win Size 200"
   ]
  },
  {
   "cell_type": "code",
   "execution_count": 69,
   "metadata": {},
   "outputs": [
    {
     "name": "stdout",
     "output_type": "stream",
     "text": [
      "Model: \"sequential_6\"\n",
      "_________________________________________________________________\n",
      "Layer (type)                 Output Shape              Param #   \n",
      "=================================================================\n",
      "lstm_6 (LSTM)                (None, 512)               1122304   \n",
      "_________________________________________________________________\n",
      "dense_6 (Dense)              (None, 35)                17955     \n",
      "=================================================================\n",
      "Total params: 1,140,259\n",
      "Trainable params: 1,140,259\n",
      "Non-trainable params: 0\n",
      "_________________________________________________________________\n"
     ]
    }
   ],
   "source": [
    "# Build the Model\n",
    "# Enter your code here:\n",
    "from tensorflow.keras import layers\n",
    "from tensorflow.keras import optimizers\n",
    "\n",
    "model = keras.models.Sequential()\n",
    "model.add(layers.LSTM(512, input_shape=(window_size, len(chars))))\n",
    "model.add(layers.Dense(len(chars), activation='softmax'))\n",
    "\n",
    "optimizer = optimizers.RMSprop(lr=0.001)\n",
    "model.compile(loss='categorical_crossentropy', optimizer=optimizer, metrics=['acc'])\n",
    "model.summary()"
   ]
  },
  {
   "cell_type": "code",
   "execution_count": 70,
   "metadata": {},
   "outputs": [
    {
     "name": "stdout",
     "output_type": "stream",
     "text": [
      "epoch 1\n",
      "Train on 181380 samples\n",
      "181380/181380 [==============================] - 254s 1ms/sample - loss: 2.2931 - acc: 0.3392\n",
      "--- Generating with seed: \"nk, misshunter, that we had better go in without you. now, watson, putyour shoulder to it, and we shall see whether we cannot make ourway in.it was an old rickety door and gave at once before our unit\"\n",
      "------ temperature: 0.2\n",
      "nk, misshunter, that we had better go in without you. now, watson, putyour shoulder to it, and we shall see whether we cannot make ourway in.it was an old rickety door and gave at once before our unit in the ate to her the sed of the coured and and and his been the store and and here sean the reaned and and and wish whine the read to me to and and and had been the reand and hed been to and and and in and and and and and and and and and and and and was and and been the singed to ming and and and and and and and and and and and and in the singed and he as in and of the reaned and the reared then\n",
      "------ temperature: 0.5\n",
      " in and and and and and and and and and and and and was and and been the singed to ming and and and and and and and and and and and and in the singed and he as in and of the reaned and the reared thene seare and histed and in the dice to me to and at corned insor was coreing, sore comest with buct in a in the rould domesting your gook to her sinded. in the rousear of minted and the casion the moured my. and you me tome and and hinged to me. i savereed with a been and don wish dounted the upon of of of the levered his ed and ding to and ancarsed ben ared and dowed soundle man were soon stinged \n",
      "------ temperature: 1.0\n",
      "ed my. and you me tome and and hinged to me. i savereed with a been and don wish dounted the upon of of of the levered his ed and ding to and ancarsed ben ared and dowed soundle man were soon stinged aistagestote tand a herowed 'to sigoe fiesad fromlredeld th i rack bo non iadnugiskec. for to dign.'e arled chere is my theres soresed anot oftanen wadleng dinnigured brighans dofet mponce cornis. on the min beponevers. an and dorated my ande minisers, wi jon merr benal beclowg dit heve wouls banted farred at sertsiengabuitten sin te insor, wis. ppeferedy are spa-fays. tring somars, and yam more i\n",
      "------ temperature: 1.2\n",
      "the min beponevers. an and dorated my ande minisers, wi jon merr benal beclowg dit heve wouls banted farred at sertsiengabuitten sin te insor, wis. ppeferedy are spa-fays. tring somars, and yam more it onpbyeet of irtively blingddaddndisefarke cameked cecleand, as tperiba ceot, ondos me.tilnqursame'd shis in tpen?qpaloeeble, ig ie hnot,nitherd and bes to deroy faintat ta neacok i wiss baol, andre. it.i se m and, sojyosow. inkn wnok do ryingale you.id; menllpined lein. hanbonedingd caclam lhow. now ghind froindeddyeebnim.atifain had sat.eng, as nattred beeny. there hip it appre.isty be.otren fi\n",
      "epoch 2\n",
      "Train on 181380 samples\n",
      "181380/181380 [==============================] - 254s 1ms/sample - loss: 1.8934 - acc: 0.4441\n",
      "--- Generating with seed: \"erresolutions. on the other hand, i would not have given her thename which i have the honour to bear--he gave a little statelycough--had not i thought her to be at bottom a noble woman. ibelieve that \"\n",
      "------ temperature: 0.2\n",
      "erresolutions. on the other hand, i would not have given her thename which i have the honour to bear--he gave a little statelycough--had not i thought her to be at bottom a noble woman. ibelieve that it is a stred in the from dourd to deet the lart of the lang the tond to deet the corder and the fart of the comple and the carded the lanting the farter of the corder and the corden to deet the lintle sore the corner of she lang a sand the from door and the langer in the stred in the corned were and the thought of the manter and the carted to deet then the carter the lanter and the langer and the\n",
      "------ temperature: 0.5\n",
      "e sore the corner of she lang a sand the from door and the langer in the stred in the corned were and the thought of the manter and the carted to deet then the carter the lanter and the langer and the claden to dutt of she had grod dound thesill the ners. and then the frow dore condert dohe lows lording in thes corner to mast thes is and arturnd the carding that the was ars sand that i and the fert fard then the then's one this for the man the wanding the cording and the fers menting could ders bether mored.i could dose dister thes beating of thes condirning you sone distrose. thes lay and the\n",
      "------ temperature: 1.0\n",
      "t fard then the then's one this for the man the wanding the cording and the fers menting could ders bether mored.i could dose dister thes beating of thes condirning you sone distrose. thes lay and theshaltoom and it that queet an thestlosk tall to beer your evevel which seet dake anvock thishily that beem notshs-in that i sam a mether ryearonenyout by all thrave omen to my looss to frisch sorvedy. our dose warts lonk but doupt whech to have threenf. him, ore fou haved awhert. sull purtt in listing forve lanshicelus doring for may a she manrertrss gust fantly-nepped and the will.no litthen hald\n",
      "------ temperature: 1.2\n",
      " our dose warts lonk but doupt whech to have threenf. him, ore fou haved awhert. sull purtt in listing forve lanshicelus doring for may a she manrertrss gust fantly-nepped and the will.no litthen hald wail nothranger a dlacion fourtulitair iveld spery.winhis,w'rs it i bled no tound with.that is o your it to lintg ththatse yre radive whratlematbe., hulbled -ai' all compced-diven; and, podded to she his ffot rarnced iti in your lingly i vorked thas the dgoven ouls lof, ho mesterdvely atnatwheve brekded noventiove inthendios? a dorafce, sum hed it would,-no senty leo los sundyck aflew therrrile t\n",
      "epoch 3\n",
      "Train on 181380 samples\n",
      "181380/181380 [==============================] - 255s 1ms/sample - loss: 1.7122 - acc: 0.4949\n",
      "--- Generating with seed: \"beensilent all the morning, dipping continuously into theadvertisement columns of a succession of papers until at last,having apparently given up his search, he had emerged in no verysweet temper to l\"\n",
      "------ temperature: 0.2\n",
      "beensilent all the morning, dipping continuously into theadvertisement columns of a succession of papers until at last,having apparently given up his search, he had emerged in no verysweet temper to leather of the ofthe court of the courte of the one of the ofthe court of the office, and what had been been seeped to her of a man a sime to the courtion of the staller was a was a sear which were and a sample seet of the cortiction of a street of a stracked with a street of the statter of the ofticestion of the courte of the interest of the ofticestoor of the seet of the ofterest of the ofterest \n",
      "------ temperature: 0.5\n",
      " a sample seet of the cortiction of a street of a stracked with a street of the statter of the ofticestion of the courte of the interest of the ofticestoor of the seet of the ofterest of the ofterest comestentions with a mectire with a stractions was a placker and wousd a course of a seations which were to the should a carricted and a some of the stattered it a bear which were were with a lart in the opention whech maken that i deally problice to the friet, and when the oust the offectle sound to the hourd. i have to pertome before of the foresious of the aghert of the fortered with a streat m\n",
      "------ temperature: 1.0\n",
      "the opention whech maken that i deally problice to the friet, and when the oust the offectle sound to the hourd. i have to pertome before of the foresious of the aghert of the fortered with a streat mon!s-man is brist in will the intureot hear whits which thetever briggred wise, and at the paitsion i should row he istoot with a mhan conarewasf.indowrink up. for with a ome otherreily ind werting wo dourn within thoweck the overakions. kich a place, it was achay inthatin the coofictient of sait of do blive twat the folues of kill hel? and all that chucy this bmailing, he free havebeepon. by the \n",
      "------ temperature: 1.2\n",
      " dourn within thoweck the overakions. kich a place, it was achay inthatin the coofictient of sait of do blive twat the folues of kill hel? and all that chucy this bmailing, he free havebeepon. by the bcame as, rei for wide my mut i to she lide, bud upon imaotitnous to come wemr, themed wewe, dropped that the offile real fvoroweding liguls wemp and have a buplled somentibraivefoutinaminiepliccesscortiby ouve, to be that , we fere plieetust sbach at his of tee istak, andif.you have come, porc!i young i feem lictmadingriont wastings from the yoult.berens. surgstol!ssheally, bring andlacks mostitu\n",
      "epoch 4\n",
      "Train on 181380 samples\n",
      "181380/181380 [==============================] - 255s 1ms/sample - loss: 1.5712 - acc: 0.5346\n",
      "--- Generating with seed: \"rds, whichbroadened and broadened as a small panel was pushed backward. foran instant i could hardly believe that here was indeed a doorwhich led away from death. the next instant i threw myselfthroug\"\n",
      "------ temperature: 0.2\n",
      "rds, whichbroadened and broadened as a small panel was pushed backward. foran instant i could hardly believe that here was indeed a doorwhich led away from death. the next instant i threw myselfthrough the states and the poor the statter store the poor with her head holmes and the fact of the states and the past of the states of the carring of the morning and the poor with his hands and the coloner was a some to her little strong stark and the pook to the selt sound to the statter which were to her his can had been a some to have a some to her houses and the colonel well, i hourd to his chair \n",
      "------ temperature: 0.5\n",
      "r was a some to her little strong stark and the pook to the selt sound to the statter which were to her his can had been a some to have a some to her houses and the colonel well, i hourd to his chair was heard a possest and the stark the hourdes. they heard the dear was a was a said passed a bold been houser and lifted holmes up to the look of the corner of the deyest of his paster, and that the colonel and the pellow and placked with the state--sthe passed some some to her his present upon the sear and the courtroother house, however, which leaded to to some to her ond to her at the strang of\n",
      "------ temperature: 1.0\n",
      "olonel and the pellow and placked with the state--sthe passed some some to her his present upon the sear and the courtroother house, however, which leaded to to some to her ond to her at the strang offstertt of shictlar whalonolloted i emerned to stual the bell, goodidh ajbectwish. i have been fife buck to mosh my packwit a lieturestmetred your stmplesecowhethouss alow addance of thoteeat on a adrage of live by ewartion lintlmatis thought he holmes. they conlince about it.'s entilemerys marked lorted.it will not it. hormer cerevious down at soctlaby and folled an als horm what comes of all hoa\n",
      "------ temperature: 1.2\n",
      "age of live by ewartion lintlmatis thought he holmes. they conlince about it.'s entilemerys marked lorted.it will not it. hormer cerevious down at soctlaby and folled an als horm what comes of all hoard tocher, openthe young re.  i smold to littoncl tergbone down nome to memarry us.down his by sown, swith were holmesust a souve. sumf to this wabdid to, comeen and fectoundfrom his facclchedd ghistshern ene, and cot mupt as tothe holmes, toward,ness greatled. of aloutapour dot, tion him.ed,my itist alles inain a breatye, itforgpwat busw down for woththrom cacched ruthhesfliesianawalldan  froch-h\n",
      "epoch 5\n",
      "Train on 181380 samples\n",
      "181380/181380 [==============================] - 256s 1ms/sample - loss: 1.4519 - acc: 0.5676\n",
      "--- Generating with seed: \"him out and associate him with thisinvestigation.i am delighted to see you, said she, pressing my hand warmly.you will, i am sure, forgive anything that may be wanting in ourarrangements, when you con\"\n",
      "------ temperature: 0.2\n",
      "him out and associate him with thisinvestigation.i am delighted to see you, said she, pressing my hand warmly.you will, i am sure, forgive anything that may be wanting in ourarrangements, when you con to much be a simple and the looked and the morning the morning the diston my courtes, the frimed of the door, which was cleared to him to me. i was shown to the from the statter of the frimher of the morning the from the office were suther the did a grommed and sut an a little carmed of the stringer should be a little bight of the door. i had been so not the red-colden was a great the from the st\n",
      "------ temperature: 0.5\n",
      " morning the from the office were suther the did a grommed and sut an a little carmed of the stringer should be a little bight of the door. i had been so not the red-colden was a great the from the strange and i had munded in the bedler. i looked in from the bridle of the crange, and then a ling first the franuefather a was for the bedless of the place. i followed the dusted in the sife of the house. i was then himself,what is something within the did would caired the most thing bout woress the crommesion with a pushed which wishind to must at the mad's of the side of the suppos of the lady. i\n",
      "------ temperature: 1.0\n",
      "se. i was then himself,what is something within the did would caired the most thing bout woress the crommesion with a pushed which wishind to must at the mad's of the side of the suppos of the lady. i was pot in on the vell. seeweded to be door. i would not jeet out inneed's earn, and your offscery will, your wait-years is the bauseled which whuch somewn in, however,themis wirm crassed. it was brigge. the larghe sonesall turn surpless.in the rep-steding a right. the brraded his curpoused you holmes,abdew, even seceet in undilhe could beoveret the few to concect.what a young eepse, with your ci\n",
      "------ temperature: 1.2\n",
      "gge. the larghe sonesall turn surpless.in the rep-steding a right. the brraded his curpoused you holmes,abdew, even seceet in undilhe could beoveret the few to concect.what a young eepse, with your cinc, heisenore of the myordgrivings, we hurpred up brparrasil sulent, yonrown remarked. she tolken ald oik orterves upor the bdolocker from it aldainh madwgekngt thanbeng in entlent, and inbechate pllesed.became a clemuned my scamwabdory's murberelkard.ppay frocticalpinistart, youth, give beetorn yours.like of a suwies i had bustlered to ine that verys arte, dor now,that?i get kiel, relacked?br,ais\n"
     ]
    },
    {
     "data": {
      "image/png": "[encoded data removed]",
      "text/plain": [
       "<Figure size 432x288 with 1 Axes>"
      ]
     },
     "metadata": {
      "needs_background": "light"
     },
     "output_type": "display_data"
    },
    {
     "data": {
      "image/png": "[encoded data removed]",
      "text/plain": [
       "<Figure size 432x288 with 1 Axes>"
      ]
     },
     "metadata": {
      "needs_background": "light"
     },
     "output_type": "display_data"
    }
   ],
   "source": [
    "# Train the Model\n",
    "# Enter your code here:\n",
    "import random\n",
    "import sys\n",
    "\n",
    "acc_list= []\n",
    "loss_list = []\n",
    "\n",
    "for epoch in range(1, 6):\n",
    "    print('epoch', epoch)\n",
    "    # Fit the model for 1 epoch on the available training data\n",
    "    history = model.fit(X, y,\n",
    "              batch_size=128,\n",
    "              epochs=1)\n",
    "    acc = history.history['acc']\n",
    "    loss = history.history['loss']\n",
    "    acc_list.append(acc)\n",
    "    loss_list.append(loss)\n",
    "    \n",
    "    # Select a text seed at random\n",
    "    start_index = random.randint(0, len(text) - window_size - 1)\n",
    "    generated_text = text[start_index: start_index + window_size]\n",
    "    print('--- Generating with seed: \"' + generated_text + '\"')\n",
    "   \n",
    "    \n",
    "    for temperature in [0.2, 0.5, 1.0, 1.2]:\n",
    "        print('------ temperature:', temperature)\n",
    "        sys.stdout.write(generated_text)\n",
    "\n",
    "        # We generate 400 characters\n",
    "        for i in range(400):\n",
    "            sampled = np.zeros((1, window_size, len(chars)))\n",
    "            for t, char in enumerate(generated_text):\n",
    "                sampled[0, t, char_indices[char]] = 1.\n",
    "\n",
    "            preds = model.predict(sampled, verbose=0)[0]\n",
    "            next_index = sample(preds, temperature)\n",
    "            next_char = chars[next_index]\n",
    "\n",
    "            generated_text += next_char\n",
    "            generated_text = generated_text[1:]\n",
    "\n",
    "            sys.stdout.write(next_char)\n",
    "            sys.stdout.flush()\n",
    "        print()\n",
    "\n",
    "\n",
    "graph_acc = []\n",
    "for i in acc_list:\n",
    "    for j in i:\n",
    "        graph_acc.append(j)\n",
    "        \n",
    "graph_loss = []\n",
    "for i in loss_list:\n",
    "    for j in i:\n",
    "        graph_loss.append(j)\n",
    "    \n",
    "#Plotting training graphs\n",
    "%matplotlib inline\n",
    "import matplotlib.pyplot as plt\n",
    "\n",
    "epochs = range(1, len(graph_acc) + 1)\n",
    "\n",
    "plt.plot(epochs, graph_acc, 'bo', label='Training acc')\n",
    "plt.title('Training accuracy')\n",
    "plt.legend()\n",
    "\n",
    "plt.figure()\n",
    "\n",
    "plt.plot(epochs, graph_loss, 'bo', label='Training loss')\n",
    "plt.title('Training loss')\n",
    "plt.legend()\n",
    "\n",
    "plt.show()"
   ]
  },
  {
   "cell_type": "code",
   "execution_count": 71,
   "metadata": {},
   "outputs": [],
   "source": [
    "# Save the Model\n",
    "model.save('chgen_model_12.h5')"
   ]
  },
  {
   "cell_type": "markdown",
   "metadata": {},
   "source": [
    "### Model #13 GRU RMSprop Base Win Size 200"
   ]
  },
  {
   "cell_type": "code",
   "execution_count": 72,
   "metadata": {},
   "outputs": [
    {
     "name": "stdout",
     "output_type": "stream",
     "text": [
      "Model: \"sequential_7\"\n",
      "_________________________________________________________________\n",
      "Layer (type)                 Output Shape              Param #   \n",
      "=================================================================\n",
      "gru (GRU)                    (None, 512)               843264    \n",
      "_________________________________________________________________\n",
      "dense_7 (Dense)              (None, 35)                17955     \n",
      "=================================================================\n",
      "Total params: 861,219\n",
      "Trainable params: 861,219\n",
      "Non-trainable params: 0\n",
      "_________________________________________________________________\n"
     ]
    }
   ],
   "source": [
    "# Build the Model\n",
    "# Enter your code here:\n",
    "from tensorflow.keras import layers\n",
    "from tensorflow.keras import optimizers\n",
    "\n",
    "model = keras.models.Sequential()\n",
    "model.add(layers.GRU(512, input_shape=(window_size, len(chars))))\n",
    "model.add(layers.Dense(len(chars), activation='softmax'))\n",
    "\n",
    "optimizer = optimizers.RMSprop(lr=0.001)\n",
    "model.compile(loss='categorical_crossentropy', optimizer=optimizer, metrics=['acc'])\n",
    "model.summary()"
   ]
  },
  {
   "cell_type": "code",
   "execution_count": 73,
   "metadata": {},
   "outputs": [
    {
     "name": "stdout",
     "output_type": "stream",
     "text": [
      "epoch 1\n",
      "Train on 181380 samples\n",
      "181380/181380 [==============================] - 191s 1ms/sample - loss: 2.1852 - acc: 0.3705\n",
      "--- Generating with seed: \"land, though the matter inwhich i served them was of such delicacy that i cannot confide iteven to you, who have been good enough to chronicle one or two ofmy little problems.and have you any on hand \"\n",
      "------ temperature: 0.2\n",
      "land, though the matter inwhich i served them was of such delicacy that i cannot confide iteven to you, who have been good enough to chronicle one or two ofmy little problems.and have you any on hand and the corme to the ore the ome to the manked he mad beter and the compe the corse the comme, and he had been the fore the came the ore the ream and the ond the come, and the comse the rought the ore the come be the comme with the wall and the cand the compe sion the the comper the comper and have he was a manked and the ont and and in the was the fore, and the comper the compe the ore in the dou\n",
      "------ temperature: 0.5\n",
      " the come be the comme with the wall and the cand the compe sion the the comper the comper and have he was a manked and the ont and and in the was the fore, and the comper the compe the ore in the dound and the was beat in i she doand the cames it is a seme to dee hal see menent of the dow sto he a dought in my farded the off and and and a for sot he have dack in a manken betand the fare, and he was and me nowe she madker he wall sourd he stoll the have be a ladge the prackiss of and i and pere the cores dathe the breck the riok and and a heard the dathen wely the persoon would the had be and \n",
      "------ temperature: 1.0\n",
      "as and me nowe she madker he wall sourd he stoll the have be a ladge the prackiss of and i and pere the cores dathe the breck the riok and and a heard the dathen wely the persoon would the had be and to peast tur it led fuctirs, indes ware-or to bet'. i as onco that ole thenk fon ervescesw llahs io angure dead that i ang poon he recolmer have sime bot rver commutone, out in the crepuscemthe .ar sound were no she off'rionderigwof the ming be the gmiget of had das, fanditathe inghis's thioklequeter andomerveryouly whur. i thit in, a dey furdo ferma, is my byen you wath. the mrj, urders,erhhapkes\n",
      "------ temperature: 1.2\n",
      "und were no she off'rionderigwof the ming be the gmiget of had das, fanditathe inghis's thioklequeter andomerveryouly whur. i thit in, a dey furdo ferma, is my byen you wath. the mrj, urders,erhhapkest sutemy toft! hid the ldewareherens, theco-furlyse srook fow a shavead whece seel we laincrajcoml that yer'me secaden the ding intr appfacked le lokk howevanolssapr'lois, in my comby, whice tollong ther, adlimen limtarbecavay tham.ny the shove nat quitinp, illen'themfeet. the dookind-proanty.'''s sen i ad nel de pitr think alengy-bussyooming endiarsak at at be,-musinly ce ment'y goust me.abresken\n",
      "epoch 2\n",
      "Train on 181380 samples\n",
      "181380/181380 [==============================] - 199s 1ms/sample - loss: 1.8209 - acc: 0.4647\n",
      "--- Generating with seed: \"quite as prompt. my whole examinationserved to turn my conjecture into a certainty. circumstantialevidence is occasionally very convincing, as when you find atrout in the milk, to quote thoreau's exam\"\n",
      "------ temperature: 0.2\n",
      "quite as prompt. my whole examinationserved to turn my conjecture into a certainty. circumstantialevidence is occasionally very convincing, as when you find atrout in the milk, to quote thoreau's exame and all all as in the in the intorestion and all and all and and all and and all and all and the intorear and siment and all and all and all and all and all all the intorestrance of and all at all at and and all and all all and all and all as all as all and all and allare and all and all and all and all all and allare all and all all of the intoreating and the intorear and and and all as all and\n",
      "------ temperature: 0.5\n",
      "t and and all and all all and all and all as all as all and all and allare and all and all and all and all all and allare all and all all of the intoreating and the intorear and and and all as all and the mines.of andenceally and mane fare in and of and andland and in one of my care, who houge thet i may be indocent of the sare all of the incompresering of theselled of the it of the all roomed. it was and all at to lone all at the inceesion and allary of allore the one of the all concer of the more als all was a all aly all conour in among openor as allars all as it is to thin hander of the el\n",
      "------ temperature: 1.0\n",
      " was and all at to lone all at the inceesion and allary of allore the one of the all concer of the more als all was a all aly all conour in among openor as allars all as it is to thin hander of the election, wass mf upot it hancadly starepuareding afome of miselyy imporse cembring of purhiousabout came apor owe poosthone pasting aver ofoce of for ystartaiss and strintr, liotle sime as idevery of sictor andantrime of byenctaly which a more by worker to brink holves if which is ally in poscidenay at oyes you muse my exinunousconcects afinderepacter.i as undressoa the tomes ous is one way on out \n",
      "------ temperature: 1.2\n",
      "ictor andantrime of byenctaly which a more by worker to brink holves if which is ally in poscidenay at oyes you muse my exinunousconcects afinderepacter.i as undressoa the tomes ous is one way on out oof anorecass, andwoldneastw. bat, affelt, exqiarededt, sores velwor, downisgen ho mest perpare in rosustid operigute manieay-plearr ent.amior aty loace wark thin.in it heat?shueh all nat tragho. wo me atkadey. een. it to de protherl ous poreyis erveswiach a strine, so thaingip stricueiou. sigallwamallivealt leot cunk, his oneragiassious up lotyescoot. his cenleays sempleoring powherecopsi!y ef so\n",
      "epoch 3\n",
      "Train on 181380 samples\n",
      "181380/181380 [==============================] - 201s 1ms/sample - loss: 1.6459 - acc: 0.5145\n",
      "--- Generating with seed: \"ed in an office inleadenhall street. anybody bringing--that will do, said holmes. as to the letters, he continued,glancing over them, they are very commonplace. absolutely noclue in them to mr. angel,\"\n",
      "------ temperature: 0.2\n",
      "ed in an office inleadenhall street. anybody bringing--that will do, said holmes. as to the letters, he continued,glancing over them, they are very commonplace. absolutely noclue in them to mr. angel, and i should the concentry more the conce stracked in a single of the little man with a little man who had been in any findle served to the little morning of a carried of the concentry of a man who had been in a man who had been in any fictly strange in the corner of a little could and a single and nowning in any nown in the toper the door in any and of the could of my strange in any and nown in \n",
      "------ temperature: 0.5\n",
      "ad been in a man who had been in any fictly strange in the corner of a little could and a single and nowning in any nown in the toper the door in any and of the could of my strange in any and nown in the corner of anger of a light in a very of and pounds of the door of the course of a withon of a listle good, and the little more the lidtle sentle and one for i farest the corner of in and inficed to me to which at her pook and in the in the carriage. i was a nome in any then in the sound of mr. holmes. now, with i may all the collen of she more the dingers and as i cauld deyour lively enger of \n",
      "------ temperature: 1.0\n",
      "o me to which at her pook and in the in the carriage. i was a nome in any then in the sound of mr. holmes. now, with i may all the collen of she more the dingers and as i cauld deyour lively enger of har care layd,whisever.it is welloname lifey to bear shall alongone were tock the onether all prosestedliggrem alwontshouldil cassued i maghreavening acantle.i as weter is in commance.ald, andmy grould. it is to enshing nowes. here in the dourtly. he had be and inganted sew used likely. if he sty.day ase the holper mether lorger munts her unon it is alast witht geether about inancopplise offoritit\n",
      "------ temperature: 1.2\n",
      "d. it is to enshing nowes. here in the dourtly. he had be and inganted sew used likely. if he sty.day ase the holper mether lorger munts her unon it is alast witht geether about inancopplise offoritit his gigllewaid of whichhad ansonnightalequrinedand, andof i pellers afaullp onemenlly theever it us about pithuss trosintly ofed in ats;ur. afele thone voop get thepsscocl?there laited it exally, a small would.nor in indeary is holmes,lit my heartly se.mrs. leckses of a to repur unsim in not up androsmimulis likelyunevery force my mes if we get to in lit.led roungly herlighs,you.are them a sumele\n",
      "epoch 4\n",
      "Train on 181380 samples\n",
      "181380/181380 [==============================] - 201s 1ms/sample - loss: 1.5156 - acc: 0.5505\n",
      "--- Generating with seed: \" that many have aspired towithout success--i can hardly explain it in any other fashion.well, certainly that is also a conceivable hypothesis, saidholmes, smiling. and now, lord st. simon, i think tha\"\n",
      "------ temperature: 0.2\n",
      " that many have aspired towithout success--i can hardly explain it in any other fashion.well, certainly that is also a conceivable hypothesis, saidholmes, smiling. and now, lord st. simon, i think that i have not in the complement of the strings of the street, and the came to me to me to me to the complesent in the man who had been trouble and the carriage of the street, and the street of the striggs of the street, and the comple and the comple and the carried of the street, and the came to me to be the street, and the comple of the street of the street, and the came to me to see him into the \n",
      "------ temperature: 0.5\n",
      "ggs of the street, and the comple and the comple and the carried of the street, and the came to me to be the street, and the comple of the street of the street, and the came to me to see him into the tober and hearth of the recart in showly in the singsler was a serious from his shoulder. i saw when he spoke my firult had trouble st. simon me to see you but when he were a chair and pround in the recaired in proboble sate, and the shoulders and crows it was a sincelor a sacestreet and the little bride, and examined the farthing of the readon cred. he were that there is this for the restlice cou\n",
      "------ temperature: 1.0\n",
      "ecaired in proboble sate, and the shoulders and crows it was a sincelor a sacestreet and the little bride, and examined the farthing of the readon cred. he were that there is this for the restlice could geil pase leage, hewereden in orsrimat which i to howey. i cit if the young me, said the ruchanr and lakely at younusagrar. with my fromraed in laysonayes and the doubt. i headd herready arsperion.you have ghe flaendi voulted tretive a disbluter state, took the this.stide brussen brike at round thunboh.and then! i took upon watson, he was swent the dearing becrecta in curter and pounds cares up\n",
      "------ temperature: 1.2\n",
      "you have ghe flaendi voulted tretive a disbluter state, took the this.stide brussen brike at round thunboh.and then! i took upon watson, he was swent the dearing becrecta in curter and pounds cares upon my nome.he his enishrab, been langernugs fry dohan atown ingeany mights?. we should meknows side'condrakion of acarle--uboblo comentso starded surh. of inkfowhim ess; i whingly, i laty-mate-plopacriss whimmatrep spention, lack, andto the churck mby oflace, streth was short, mishexell, mave mach did thatnde insentie cluman, thenehi flock quiet! seen ejays, drofsen, in hratwe worn, to over aysere\n",
      "epoch 5\n",
      "Train on 181380 samples\n",
      "181380/181380 [==============================] - 202s 1ms/sample - loss: 1.4058 - acc: 0.5795\n",
      "--- Generating with seed: \"s stood out at histemples with passion. he locked the door and hurried past mewithout a word or a look.this aroused my curiosity, so when i went out for a walk in thegrounds with my charge, i strolled\"\n",
      "------ temperature: 0.2\n",
      "s stood out at histemples with passion. he locked the door and hurried past mewithout a word or a look.this aroused my curiosity, so when i went out for a walk in thegrounds with my charge, i strolled to the little brown from the bedger and the basker was a the whole the window was a strange in the bedger of the back with minstones of the butile which i had not a strong lang the barker was a started and started the colonel to the corner of the bedges and who had been come for a light of the bed of the corner of the butile of the back of the bed, and there was a side of the bed of the bed, and \n",
      "------ temperature: 0.5\n",
      "ed and started the colonel to the corner of the bedges and who had been come for a light of the bed of the corner of the butile of the back of the bed, and there was a side of the bed of the bed, and then you have been to think that he had seen a small rived up to the street of the pure of the back to be a man who has at she whitely throw at the well-poot in the the back we had left her to be an our eart that he had come and story the wind with a sharp the look of the since to have been something to to the look of purtible cases afout out of ment and then we the matter there was no to be counc\n",
      "------ temperature: 1.0\n",
      "ur eart that he had come and story the wind with a sharp the look of the since to have been something to to the look of purtible cases afout out of ment and then we the matter there was no to be counce ancond stame in the that mestouron ainhian that theywame to there as down to the cas, for i hade no ton the mottle, mr. hehrown we isto dimeing an act, ald up the pocket of mine. i heards that at the ---ofestred hend,agrieg, to have, he began to a gistary me.then you have man these dey conven and ther could come to astici. he threw upon every of these manys when chread out into atake the nage  m\n",
      "------ temperature: 1.2\n",
      "e ---ofestred hend,agrieg, to have, he began to a gistary me.then you have man these dey conven and ther could come to astici. he threw upon every of these manys when chread out into atake the nage  madey exommon thee, absolaused bewinnow. he mud ever forly pusbedingyle, florr it to cim. the ntired who read heed noonved hisweme tomes'lf see?he he spearn anyoff min besperratifly is exiedeachoun babner to twe froplet of the tury in the ?nakner sten' band--the businessfortunate herialfat said holmes.runade?n after amphcimes, so he couped diffinuly mrs. lestrare. thediftint a poirt! may you contun\n"
     ]
    },
    {
     "data": {
      "image/png": "[encoded data removed]",
      "text/plain": [
       "<Figure size 432x288 with 1 Axes>"
      ]
     },
     "metadata": {
      "needs_background": "light"
     },
     "output_type": "display_data"
    },
    {
     "data": {
      "image/png": "[encoded data removed]",
      "text/plain": [
       "<Figure size 432x288 with 1 Axes>"
      ]
     },
     "metadata": {
      "needs_background": "light"
     },
     "output_type": "display_data"
    }
   ],
   "source": [
    "# Train the Model\n",
    "# Enter your code here:\n",
    "import random\n",
    "import sys\n",
    "\n",
    "acc_list= []\n",
    "loss_list = []\n",
    "\n",
    "for epoch in range(1, 6):\n",
    "    print('epoch', epoch)\n",
    "    # Fit the model for 1 epoch on the available training data\n",
    "    history = model.fit(X, y,\n",
    "              batch_size=128,\n",
    "              epochs=1)\n",
    "    acc = history.history['acc']\n",
    "    loss = history.history['loss']\n",
    "    acc_list.append(acc)\n",
    "    loss_list.append(loss)\n",
    "    \n",
    "    # Select a text seed at random\n",
    "    start_index = random.randint(0, len(text) - window_size - 1)\n",
    "    generated_text = text[start_index: start_index + window_size]\n",
    "    print('--- Generating with seed: \"' + generated_text + '\"')\n",
    "   \n",
    "    \n",
    "    for temperature in [0.2, 0.5, 1.0, 1.2]:\n",
    "        print('------ temperature:', temperature)\n",
    "        sys.stdout.write(generated_text)\n",
    "\n",
    "        # We generate 400 characters\n",
    "        for i in range(400):\n",
    "            sampled = np.zeros((1, window_size, len(chars)))\n",
    "            for t, char in enumerate(generated_text):\n",
    "                sampled[0, t, char_indices[char]] = 1.\n",
    "\n",
    "            preds = model.predict(sampled, verbose=0)[0]\n",
    "            next_index = sample(preds, temperature)\n",
    "            next_char = chars[next_index]\n",
    "\n",
    "            generated_text += next_char\n",
    "            generated_text = generated_text[1:]\n",
    "\n",
    "            sys.stdout.write(next_char)\n",
    "            sys.stdout.flush()\n",
    "        print()\n",
    "\n",
    "\n",
    "graph_acc = []\n",
    "for i in acc_list:\n",
    "    for j in i:\n",
    "        graph_acc.append(j)\n",
    "        \n",
    "graph_loss = []\n",
    "for i in loss_list:\n",
    "    for j in i:\n",
    "        graph_loss.append(j)\n",
    "    \n",
    "#Plotting training graphs\n",
    "%matplotlib inline\n",
    "import matplotlib.pyplot as plt\n",
    "\n",
    "epochs = range(1, len(graph_acc) + 1)\n",
    "\n",
    "plt.plot(epochs, graph_acc, 'bo', label='Training acc')\n",
    "plt.title('Training accuracy')\n",
    "plt.legend()\n",
    "\n",
    "plt.figure()\n",
    "\n",
    "plt.plot(epochs, graph_loss, 'bo', label='Training loss')\n",
    "plt.title('Training loss')\n",
    "plt.legend()\n",
    "\n",
    "plt.show()"
   ]
  },
  {
   "cell_type": "code",
   "execution_count": 74,
   "metadata": {},
   "outputs": [],
   "source": [
    "# Save the Model\n",
    "model.save('chgen_model_13.h5')"
   ]
  },
  {
   "cell_type": "markdown",
   "metadata": {},
   "source": [
    "### Model #14 GRU Adam Win Size 200"
   ]
  },
  {
   "cell_type": "code",
   "execution_count": 14,
   "metadata": {},
   "outputs": [
    {
     "name": "stdout",
     "output_type": "stream",
     "text": [
      "Model: \"sequential\"\n",
      "_________________________________________________________________\n",
      "Layer (type)                 Output Shape              Param #   \n",
      "=================================================================\n",
      "gru (GRU)                    (None, 512)               843264    \n",
      "_________________________________________________________________\n",
      "dense (Dense)                (None, 35)                17955     \n",
      "=================================================================\n",
      "Total params: 861,219\n",
      "Trainable params: 861,219\n",
      "Non-trainable params: 0\n",
      "_________________________________________________________________\n"
     ]
    }
   ],
   "source": [
    "# Build the Model\n",
    "# Enter your code here:\n",
    "from tensorflow.keras import layers\n",
    "from tensorflow.keras import optimizers\n",
    "\n",
    "model = keras.models.Sequential()\n",
    "model.add(layers.GRU(512, input_shape=(window_size, len(chars))))\n",
    "model.add(layers.Dense(len(chars), activation='softmax'))\n",
    "\n",
    "optimizer = optimizers.Adam(lr=0.001)\n",
    "model.compile(loss='categorical_crossentropy', optimizer=optimizer, metrics=['acc'])\n",
    "model.summary()"
   ]
  },
  {
   "cell_type": "code",
   "execution_count": 15,
   "metadata": {},
   "outputs": [
    {
     "name": "stdout",
     "output_type": "stream",
     "text": [
      "epoch 1\n",
      "Train on 181380 samples\n",
      "181380/181380 [==============================] - 206s 1ms/sample - loss: 2.1845 - acc: 0.3667\n",
      "--- Generating with seed: \" private note-paper.stolen.my own seal.imitated.my photograph.bought.we were both in the photograph.oh, dear! that is very bad! your majesty has indeed committed anindiscretion.i was mad--insane.you h\"\n",
      "------ temperature: 0.2\n",
      " private note-paper.stolen.my own seal.imitated.my photograph.bought.we were both in the photograph.oh, dear! that is very bad! your majesty has indeed committed anindiscretion.i was mad--insane.you have been which whe had be the fore what i sool the rood wat he had been the reat which whe was not in the with she lot which whe was shere who had been i shall which was which whe was sher whe had been which whe had be when whe had be the black for the reat which what i and the dound but the mand the mand whe had be whe had been the lade which what i store the mond the place, and the sich a dound \n",
      "------ temperature: 0.5\n",
      "n which whe had be when whe had be the black for the reat which what i and the dound but the mand the mand whe had be whe had been the lade which what i store the mond the place, and the sich a dound stooll, which i ard the mert not which what i what we could be the down the with me mane that i poand ham but been air a down the flach har but of mink which mares she were of the mricht of the could of the bock not in dound that i stould in the mind the wise what i shall but i the bligct the wased that har cound store that i was a sound the quiter which which a she lade ware that i save the leds \n",
      "------ temperature: 1.0\n",
      "of the bock not in dound that i stould in the mind the wise what i shall but i the bligct the wased that har cound store that i was a sound the quiter which which a she lade ware that i save the leds tit, you way neatertosemanghat he houren, whow what d a neet offood, you me, menting. he way but ind! whand has beeis at you the lats from mo poorkedwinclise turunt my. shere be upon the sive bo bate himrout becomclary me di-mcrouse and itxporaminirg gpunlind thould.it had, brat! atshe, not, been the woubsenlefort arderef lot than id upenre pathent the blicklmored it which my grow, which whis was \n",
      "------ temperature: 1.2\n",
      "himrout becomclary me di-mcrouse and itxporaminirg gpunlind thould.it had, brat! atshe, not, been the woubsenlefort arderef lot than id upenre pathent the blicklmored it which my grow, which whis was loubt, losp comnd pake of your, simon, am, brom steont wat by ny. but deain way there imid and put frewny was pounwime sowh whun:s dight to the gimel hop.indastimy. dieshatweslii. mat; whohe wook hes bac with es my heluse 'lown sheusndenterhe asusiduprsind tare prowly' seatidsher shpriand that wht om nt?ly smiick, and whor that tre somere wal shaod.exshuring lens ac of saig le giod anars. ofoughve\n",
      "epoch 2\n",
      "Train on 181380 samples\n",
      "181380/181380 [==============================] - 200s 1ms/sample - loss: 1.8022 - acc: 0.4683\n",
      "--- Generating with seed: \"o further evidence, i suppose, thanthat which you have placed before us--no suggestive detail whichmight help us?there is one thing, said john openshaw. he rummaged in his coatpocket, and, drawing out\"\n",
      "------ temperature: 0.2\n",
      "o further evidence, i suppose, thanthat which you have placed before us--no suggestive detail whichmight help us?there is one thing, said john openshaw. he rummaged in his coatpocket, and, drawing out in the start of the stard and the stard and the room and she had been have been the stare of the start of the cound of the strong and the way some look and the some of the start of the stard of the stard of the stard of the strang of the strong of the stard and the come of the send and some of the starter was a serve to hear his dear have been the starte of the start of the forn there are a sead \n",
      "------ temperature: 0.5\n",
      "tard of the stard of the strang of the strong of the stard and the come of the send and some of the starter was a serve to hear his dear have been the starte of the start of the forn there are a sead you which i was a lemp to hear lither to have a serve and and pay of the comred command we have long the to the fare as i had same the mordion. i have buck to deep there in the poor the seed of his shood which i have holmes that i have come to me to have and look to hear then the wery belook out of the race and that the fire to have lither with a little for and somound left of the pording of the s\n",
      "------ temperature: 1.0\n",
      "ood which i have holmes that i have come to me to have and look to hear then the wery belook out of the race and that the fire to have lither with a little for and somound left of the pording of the sernest, were farcas, no, couch drew. aw every him bechardanuty ssoz the windictoh! wardungerover theervanced nead you. suffe then wandeagunion, sow whise itanr merours werring soxtard you, indeary we have t?ckeill his doons me stall like, without of murd a laigs the ford beffees holmes.he ley said holmes matt-wird my are withtalk trame soou to have been you the nee. thes, see sone rixe of there it\n",
      "------ temperature: 1.2\n",
      "have t?ckeill his doons me stall like, without of murd a laigs the ford beffees holmes.he ley said holmes matt-wird my are withtalk trame soou to have been you the nee. thes, see sone rixe of there it ouch mar-your chaigso., mush sayd it.wealditall wotled her are us poomenfior so.''lick hus, low, saidwhrl. vi!ybuck shelone swrilked two mondr.yas a getly nd-good ally brexclecon.ynalken up no todkigetn, amsafwer, bleceato-whied youns. farus.he hed oumbelued it, difi she time with my coarsly.'nw!and rep is? her weressustlectails, by you kifp,seatedm; able doung,os helve, drawn-gisatatiod bilaces \n",
      "epoch 3\n",
      "Train on 181380 samples\n",
      "181380/181380 [==============================] - 208s 1ms/sample - loss: 1.6168 - acc: 0.5205\n",
      "--- Generating with seed: \"pretty nearlyfilled a shelf with my writings. and then suddenly the wholebusiness came to an end.to an end?yes, sir. and no later than this morning. i went to my work asusual at ten o'clock, but the d\"\n",
      "------ temperature: 0.2\n",
      "pretty nearlyfilled a shelf with my writings. and then suddenly the wholebusiness came to an end.to an end?yes, sir. and no later than this morning. i went to my work asusual at ten o'clock, but the dread and the bride and arrone that the bride and the bad which i am and a window which i had a sure the that it is and the that the had the had been had the bed and the thing and the read and the had the had to be and the man which i had the had been and in the bround and the bedree of a man which i think that i had the ploce that it is a little bround and the bed and the bedree which i had been h\n",
      "------ temperature: 0.5\n",
      "the had to be and the man which i had the had been and in the bround and the bedree of a man which i think that i had the ploce that it is a little bround and the bed and the bedree which i had been had drepped that i was and holmes been and in the probled to me, shere in the had been for the bring on the chair and placed and the bather from a head propirs which i should net upon the friend man which he had the bed a great bleaching that it was in a had the modew it say was and that who was the was the think that it was for your barker which what it as so exampled to me with a now who had the \n",
      "------ temperature: 1.0\n",
      "ich he had the bed a great bleaching that it was in a had the modew it say was and that who was the was the think that it was for your barker which what it as so exampled to me with a now who had the rether had bented for me hadfeencels to mr. righe.surselly groy peceltr.it think, then?i dhalf it, to, thr'i have i undorat the cruiz, and there is mradsuble of his cleary and it is ancheir is mihabse seek that intention in the sturicy. wot carrsow what thenage position asstorthupporred--the bairs. try old cobfor the besp, what his larys what provest.holmes wife, with the verybesm melatien frow mu\n",
      "------ temperature: 1.2\n",
      " seek that intention in the sturicy. wot carrsow what thenage position asstorthupporred--the bairs. try old cobfor the besp, what his larys what provest.holmes wife, with the verybesm melatien frow must we cunt that callictly cab bethe stuet of the day.n ve that with there ansher, or you sinn mec; yourdelf woldan. this noture.younaitallous glsear, with his head enter.will, i'strick a roan. i plonime tublact difturain the over in annlying-day from his why co'lice that side, holmes from heard.throughin i sman procting upon i but i cashed holmes, when thick, amploorchaid ullyded poudlfor a quicti\n",
      "epoch 4\n",
      "Train on 181380 samples\n",
      "181380/181380 [==============================] - 210s 1ms/sample - loss: 1.4800 - acc: 0.5589\n",
      "--- Generating with seed: \" very peculiar in his ways. he was himselfred-headed, and he had a great sympathy for all red-headed men;so when he died it was found that he had left his enormousfortune in the hands of trustees, wit\"\n",
      "------ temperature: 0.2\n",
      " very peculiar in his ways. he was himselfred-headed, and he had a great sympathy for all red-headed men;so when he died it was found that he had left his enormousfortune in the hands of trustees, with a shate of a very gaines of his sanden said for the bridge of the bark of the morning and from his deep was a side of the black and that he was a sharless of his least not to the bed of the black and little hands of his shoulders. i had not been the bed on the lown of and a sharl cormed and think that i had not been her door starrand and that there is a side of the morning and last all on the gr\n",
      "------ temperature: 0.5\n",
      "d little hands of his shoulders. i had not been the bed on the lown of and a sharl cormed and think that i had not been her door starrand and that there is a side of the morning and last all on the grounds of his one in any one in one of the bedroom was struck at the ledges and have been such a low and fordand, with a belless that he had the expreselse in a good has in anyone and gropped and of the matter short and that there was a surgered to a more case has been to be a sweet of the man which has been way for me. i had eneened that there is the lady surhered of the police to me to be a selic\n",
      "------ temperature: 1.0\n",
      "e matter short and that there was a surgered to a more case has been to be a sweet of the man which has been way for me. i had eneened that there is the lady surhered of the police to me to be a selices of hose.this was this alverpessing that there comes dress his pecefirst, so succestody. you are perinider what con i endend always returned on it. untelly upon the man al hasinggeould free galkey that me was wide breakfasting. that reamberidention.' myself it. i smalked averits., nor gave the fort? pase indees atoptumant which then. i assear in recaseproses, day, who whullestride.a good upon de\n",
      "------ temperature: 1.2\n",
      "hat me was wide breakfasting. that reamberidention.' myself it. i smalked averits., nor gave the fort? pase indees atoptumant which then. i assear in recaseproses, day, who whullestride.a good upon dered herenob, in the night, whister, justlever handgarss of mqutstances. hos. welk, anstlecees. it was a slew our sweer. you have beep-foreweth for uh, wotled thereages croveseedieselves untwo,tersick thas a mastramelangermeent has balagawelled to the lyts-itered with a lave lifigs, wats rigus of it, llodhelalsswer abling questquine. and you conurely my expesies now down it you and went paser frant\n",
      "epoch 5\n",
      "Train on 181380 samples\n",
      "181380/181380 [==============================] - 215s 1ms/sample - loss: 1.3622 - acc: 0.5891\n",
      "--- Generating with seed: \"e was no rain, as holmes had foretold, and the morning brokebright and cloudless. at nine o'clock lestrade called for us withthe carriage, and we set off for hatherley farm and the boscombepool.there \"\n",
      "------ temperature: 0.2\n",
      "e was no rain, as holmes had foretold, and the morning brokebright and cloudless. at nine o'clock lestrade called for us withthe carriage, and we set off for hatherley farm and the boscombepool.there was a little took of the side of the strange of the first promised to be a man and the door street of the country dear that the room which i had the fact the morning and the country of the strange of the door. he was a little for me to the corner of the facts which may be some doubts which a complain of the true, and the window was a little books and the facts which was a man and the country of th\n",
      "------ temperature: 0.5\n",
      "the door. he was a little for me to the corner of the facts which may be some doubts which a complain of the true, and the window was a little books and the facts which was a man and the country of the country hands before them would be no farm of my stoping the strange of the doubts. he is a mindle bourm of my thing, though the renor sone for four detimen stand me down the door had that the dispart and the clack was a man a man which had been the corunts a little morning of the window, whell command at once of this introsses of the corner of the facts afor the little the reconss of the room. \n",
      "------ temperature: 1.0\n",
      "rt and the clack was a man a man which had been the corunts a little morning of the window, whell command at once of this introsses of the corner of the facts afor the little the reconss of the room. when the limest that when,it wareful to me; juthan's mrserfen to inte difnycorner, look for the grounns and the tobusions is a man in the direvil from his orwn.this mar; won'the slopply in a little fortim.led i shallone confore, that iswillth this wey quier's precestlest clearery shown to dinity in knotlebs of comp,ner. then? askidgion the place whichry giolswen how very gees poperethroughthe dist\n",
      "------ temperature: 1.2\n",
      "rtim.led i shallone confore, that iswillth this wey quier's precestlest clearery shown to dinity in knotlebs of comp,ner. then? askidgion the place whichry giolswen how very gees poperethroughthe distric, at the soft, why provestit.o''le not partions. cut istendeto which it hegrieffrock ourvery siok to a fown. he onated hommes fromstheeld he ausherlong know lattred sty mollor, which, at lesatts my pelluss frominilfnce, there, is tookeas found thankness they.puttons?ho! ard they could mustholder, and to-sgoth, with the countesigneshior to depurtimuss.no. sien at uselpan alseed, bracts, ripringp\n",
      "epoch 6\n",
      "Train on 181380 samples\n",
      "181380/181380 [==============================] - 211s 1ms/sample - loss: 1.2508 - acc: 0.6199\n",
      "--- Generating with seed: \"ost every link in my hands, and all the proofs which icould possibly need, so there is little which you need tell me.still, that little may as well be cleared up to make the casecomplete. you had hear\"\n",
      "------ temperature: 0.2\n",
      "ost every link in my hands, and all the proofs which icould possibly need, so there is little which you need tell me.still, that little may as well be cleared up to make the casecomplete. you had heard the states of the matter in a very sure of a least of a carriage at the back of the door. i have been a sure of a leas not a ter man and a bell-pull come of a gees which was a good down to the place which was a black filled upon the black face and doors of the door. the states of the matter in the matter into the read and all the read and looked at a little beating of the door. i have seen the m\n",
      "------ temperature: 0.5\n",
      " which was a black filled upon the black face and doors of the door. the states of the matter in the matter into the read and all the read and looked at a little beating of the door. i have seen the matter pounds a districted end. as dount said the last the most strent agoing of a leas good of such a bent of the matter. i had the plece of the door sore of a sare of a book of the deep at the feasure of the very foreng start of the deep, and his hands of a walk after her that the inspector of a column of the moment. i should do. she is a gee ent of the deally carried and doors of the books of th\n",
      "------ temperature: 1.0\n"
     ]
    },
    {
     "name": "stdout",
     "output_type": "stream",
     "text": [
      "e of the very foreng start of the deep, and his hands of a walk after her that the inspector of a column of the moment. i should do. she is a gee ent of the deally carried and doors of the books of theimigat. here is my attentiated by tellin and our on the'.they came at all, and the vilias man. luttering at themibated, andit behen everything. therefelled to have a few drisstand,lyded liken a one poscodour come that any freezof lain paters and the room to-norfor. it passed rose ofthe farminathercent couls you. have yourouble such a very imporsand accumal.over my putions.i  mada kneally upon her\n",
      "------ temperature: 1.2\n",
      "oscodour come that any freezof lain paters and the room to-norfor. it passed rose ofthe farminathercent couls you. have yourouble such a very imporsand accumal.over my putions.i  mada kneally upon hershe in banco.selm sp.okecight her?herelittle hadin has sonementmadken, nater ibself ana'ura from it.no-e-little, and read away tell me which epock holmes. cay fir bits hislees, bussquere in ado-tim my rgounderjanie aloccemined that the inspeat detuins the moink earthousetable preptce evies, as a bany ou the merousens politace.'nits as rail save. the dreadfour grounds stild goom asways to is place \n",
      "epoch 7\n",
      "Train on 181380 samples\n",
      "181380/181380 [==============================] - 212s 1ms/sample - loss: 1.1380 - acc: 0.6530\n",
      "--- Generating with seed: \"olmes.flora was a dear little thing, but exceedingly hot-headed anddevotedly attached to me. she wrote me dreadful letters when sheheard that i was about to be married, and, to tell the truth, thereas\"\n",
      "------ temperature: 0.2\n",
      "olmes.flora was a dear little thing, but exceedingly hot-headed anddevotedly attached to me. she wrote me dreadful letters when sheheard that i was about to be married, and, to tell the truth, thereasoned to ask you all the state of the bridge. i have no found the morning the states and started to the reach of the room.it was a song the bed, and the little for the read and a sharp and a sharp and a few mine to the childrears after a long starrable and some discanes and store in the morning, and i have not a preceoved me of the states that the coronet in his hands of the room. it was a small do\n",
      "------ temperature: 0.5\n",
      "a few mine to the childrears after a long starrable and some discanes and store in the morning, and i have not a preceoved me of the states that the coronet in his hands of the room. it was a small doobsire master in a subject in the morning and streckly to the sittance and from his chair with a lenttalting. there was so interested in the sings was ansien his bears of their termer.but the statement of the morning through the colonel to me to the metal me. when i can be comment to ansother a very sereand of considerable primes, and that the house a cheet of my companions of the provection are a\n",
      "------ temperature: 1.0\n",
      "t of the morning through the colonel to me to the metal me. when i can be comment to ansother a very sereand of considerable primes, and that the house a cheet of my companions of the provection are againation in.horelergh adventure, he is a corfes interested.in the formisear and fashe pacted dismusbor. no, my near for wateh, of skert station that she maken butters for a man herisal, and teare the trumposs alishous describtich.more that the letters was no ary secued to manager-back,and left escelding, and forder promation seepand only into two passafe, which arroughtover the baliab up to this \n",
      "------ temperature: 1.2\n",
      " trumposs alishous describtich.more that the letters was no ary secued to manager-back,and left escelding, and forder promation seepand only into two passafe, which arroughtover the baliab up to this pirtplove alsabst ighertans. but the monobace for my intenind a pmirbander truck to show as he wropped, and several said the iter spanionalletife.hore evid toplimah?fallen lew returnbence. it seemed to leive at th. is mustrsed.behindry, but she will neary twretcen thatmestuly, jomen.to mahe jekell diary must;boyoy, pay po,trem linen.whit mairgake with safe in cuterone!' -as it were fever peacled o\n",
      "epoch 8\n",
      "Train on 181380 samples\n",
      "181380/181380 [==============================] - 201s 1ms/sample - loss: 1.0244 - acc: 0.6843\n",
      "--- Generating with seed: \"fthe morning waiting in the shadow upon the other side. without aword he grasped my arm and hurried me into a carriage, the doorof which was standing open. he drew up the windows on eitherside, tapped\"\n",
      "------ temperature: 0.2\n",
      "fthe morning waiting in the shadow upon the other side. without aword he grasped my arm and hurried me into a carriage, the doorof which was standing open. he drew up the windows on eitherside, tapped me and started the door of the curionally of the characterion which was there answered and said that he was a mindled clear that i should not do entilly.i do not know what i was a sugg from the city. i think that i would down the latter arrivaltion that the county of the county of the colonel' caured to have been a surprised and was a side landof before he could see him into the ching of the side\n",
      "------ temperature: 0.5\n",
      " i think that i would down the latter arrivaltion that the county of the county of the colonel' caured to have been a surprised and was a side landof before he could see him into the ching of the side with a langer and light heart that i should have been with me.''it'lone st. simon, then, and yet i went to the chair.and what have you that they was then to do be to do that there is something very come, come to his room which you are all the second his elfentines and of looding excipsion which he contrulty of his leng had been fasteded and started upon the colonel to the window would come ofthe \n",
      "------ temperature: 1.0\n",
      "ome, come to his room which you are all the second his elfentines and of looding excipsion which he contrulty of his leng had been fasteded and started upon the colonel to the window would come ofthe other. she went outseven save the personim i had wasspering.without.'withoutfully, it was tell us. your streathand a long the carry of intrud, and never some grian reglder care atits, i should stil like out of excellant?in 'part to have occorred through outside, and had been succedded.it is a my dearlyt you watthrow whethis witting-room ard leanusto thefrom their twalth. your wanted i knew that i \n",
      "------ temperature: 1.2\n",
      "ke out of excellant?in 'part to have occorred through outside, and had been succedded.it is a my dearlyt you watthrow whethis witting-room ard leanusto thefrom their twalth. your wanted i knew that i which ledits. and lord not up them bethe low, a fasist with attoncece-regung of thefeed waiting-worations.bet i'pos aboutstation prokssto interest in thearpucider,i hed, but holmes always show dide the ngaf and disfirntementivalyed cornsior.he must come to evom to consuad praces which can ard had leach had been waitting furly had go foundent.it is lefaitan.. but, from compuiratementshar whievitwed\n",
      "epoch 9\n",
      "Train on 181380 samples\n",
      "181380/181380 [==============================] - 202s 1ms/sample - loss: 0.9178 - acc: 0.7169\n",
      "--- Generating with seed: \"ours?' i asked.'ten to two.'now a pawnbroker's business is mostly done of an evening, mr.holmes, especially thursday and friday evening, which is justbefore pay-day; so it would suit me very well to e\"\n",
      "------ temperature: 0.2\n",
      "ours?' i asked.'ten to two.'now a pawnbroker's business is mostly done of an evening, mr.holmes, especially thursday and friday evening, which is justbefore pay-day; so it would suit me very well to each other to the country down. it was a little side of the less than exception of his hands of the where of the most reason which he had been so farely the least had a man who will be depiested to him. there is a money which were all rat had a cap and of her day, and i was awayed to the letter as the concestroy of the days again, and a little side of the concertain was a wide. i was all reparted o\n",
      "------ temperature: 0.5\n",
      ". there is a money which were all rat had a cap and of her day, and i was awayed to the letter as the concestroy of the days again, and a little side of the concertain was a wide. i was all reparted of his arms. as he shouldressible dignit are arrived and saw his hand a dress for the ease of it is alwass which a sigg to mr. henry baker street and placed in his hands of his swiff with mr. holmes, thank their that evening his arth, there is a common conurs that when you had a man in the police, he soutd the last time to the all, said holmes, and i had ever me now down the stall, and i have no fa\n",
      "------ temperature: 1.0\n",
      "hank their that evening his arth, there is a common conurs that when you had a man in the police, he soutd the last time to the all, said holmes, and i had ever me now down the stall, and i have no facty upon my wife taken if you willseiz?no ent.let one so. i had read of intening an our. as it seemed, and pay be niced one. i had been post there is nothing one. you bettering, and he would come with against the letter.lase o'llge has tome to be a mishes anom with the chilkwas veryhearty which wellowed in about puried out.her hand a dress with mr. heard ofmed, and my double comes unnealjust loide\n",
      "------ temperature: 1.2\n",
      " against the letter.lase o'llge has tome to be a mishes anom with the chilkwas veryhearty which wellowed in about puried out.her hand a dress with mr. heard ofmed, and my double comes unnealjust loided up intopave this corner. do you. veny thankind that he was romas enough.'one of the shugg for over to he pay.as, i handeday theheatter. so that it may have heard.why is it sleepled, and, all very heartyof anything round, and of whichas to put the stard with a reply astruch it was not untertaic? there was obligine was dubing upon the moon heart. but he will be devery quiet when hother with us for\n",
      "epoch 10\n",
      "Train on 181380 samples\n",
      "181380/181380 [==============================] - 202s 1ms/sample - loss: 0.8233 - acc: 0.7461\n",
      "--- Generating with seed: \"wedding-dress of watered silk, a pair of white satinshoes and a bride's wreath and veil, all discoloured and soakedin water. there, said he, putting a new wedding-ring upon thetop of the pile. there i\"\n",
      "------ temperature: 0.2\n",
      "wedding-dress of watered silk, a pair of white satinshoes and a bride's wreath and veil, all discoloured and soakedin water. there, said he, putting a new wedding-ring upon thetop of the pile. there is a monother of the door, and the law was seen him some other to me. i was away to me, and i saw him my attendifing that i was away to me, and i see ohe more curiosative mendilarted. it was a long mindless for a ways and found the lamp there are not a man who was the pain of the words of the low when she may have been one of those blows.undown the county of the old man; pencles in which were about\n",
      "------ temperature: 0.5\n",
      "dless for a ways and found the lamp there are not a man who was the pain of the words of the low when she may have been one of those blows.undown the county of the old man; pencles in which were about the fine was dranged out into the bory. who was she will be a side of the woman, my dear morningly only one of the suck and was a good doon, said he, 'the station of a man who was the barrest interest to him.you have come on the door, a glance of it, i am able to come at on the read problem of the second floor of thing horeing foremindlong me of the king of bears about towhich chanally that i was\n",
      "------ temperature: 1.0\n",
      "t to him.you have come on the door, a glance of it, i am able to come at on the read problem of the second floor of thing horeing foremindlong me of the king of bears about towhich chanally that i was well good-funtit in the agencripay of columis of crumisan framcueatance with a come aside of the door, and my intendient to peesence, of some doubt of day but of frenchhusers again to explan my fire,the flow, streems of the glance us his strong pressed withim tothe bank in my diston. i can hardly begentrolitive. holmes.really crowd one sout all the duad curtion may stat one.this is pray, but upon\n",
      "------ temperature: 1.2\n",
      "the flow, streems of the glance us his strong pressed withim tothe bank in my diston. i can hardly begentrolitive. holmes.really crowd one sout all the duad curtion may stat one.this is pray, but uponely manager.you willsearn attemptlance, as i understand, was shiling matag,and that thetimsel chish,she warre the glose easlam breas sufcerst as conupubans, and shownat extimal the questions to the table.yes? it may standi gave my nemonerbushed hermise right o's lewved---ray name, said he, 'it seems token my ords?then would icound that chold would sign the words to; suifeldayomefashory i lay when \n"
     ]
    },
    {
     "data": {
      "image/png": "[encoded data removed]",
      "text/plain": [
       "<Figure size 432x288 with 1 Axes>"
      ]
     },
     "metadata": {
      "needs_background": "light"
     },
     "output_type": "display_data"
    },
    {
     "data": {
      "image/png": "[encoded data removed]",
      "text/plain": [
       "<Figure size 432x288 with 1 Axes>"
      ]
     },
     "metadata": {
      "needs_background": "light"
     },
     "output_type": "display_data"
    }
   ],
   "source": [
    "# Train the Model\n",
    "# Enter your code here:\n",
    "import random\n",
    "import sys\n",
    "\n",
    "acc_list= []\n",
    "loss_list = []\n",
    "\n",
    "for epoch in range(1, 11):\n",
    "    print('epoch', epoch)\n",
    "    # Fit the model for 1 epoch on the available training data\n",
    "    history = model.fit(X, y,\n",
    "              batch_size=128,\n",
    "              epochs=1)\n",
    "    acc = history.history['acc']\n",
    "    loss = history.history['loss']\n",
    "    acc_list.append(acc)\n",
    "    loss_list.append(loss)\n",
    "    \n",
    "    # Select a text seed at random\n",
    "    start_index = random.randint(0, len(text) - window_size - 1)\n",
    "    generated_text = text[start_index: start_index + window_size]\n",
    "    print('--- Generating with seed: \"' + generated_text + '\"')\n",
    "   \n",
    "    \n",
    "    for temperature in [0.2, 0.5, 1.0, 1.2]:\n",
    "        print('------ temperature:', temperature)\n",
    "        sys.stdout.write(generated_text)\n",
    "\n",
    "        # We generate 400 characters\n",
    "        for i in range(400):\n",
    "            sampled = np.zeros((1, window_size, len(chars)))\n",
    "            for t, char in enumerate(generated_text):\n",
    "                sampled[0, t, char_indices[char]] = 1.\n",
    "\n",
    "            preds = model.predict(sampled, verbose=0)[0]\n",
    "            next_index = sample(preds, temperature)\n",
    "            next_char = chars[next_index]\n",
    "\n",
    "            generated_text += next_char\n",
    "            generated_text = generated_text[1:]\n",
    "\n",
    "            sys.stdout.write(next_char)\n",
    "            sys.stdout.flush()\n",
    "        print()\n",
    "\n",
    "\n",
    "graph_acc = []\n",
    "for i in acc_list:\n",
    "    for j in i:\n",
    "        graph_acc.append(j)\n",
    "        \n",
    "graph_loss = []\n",
    "for i in loss_list:\n",
    "    for j in i:\n",
    "        graph_loss.append(j)\n",
    "    \n",
    "#Plotting training graphs\n",
    "%matplotlib inline\n",
    "import matplotlib.pyplot as plt\n",
    "\n",
    "epochs = range(1, len(graph_acc) + 1)\n",
    "\n",
    "plt.plot(epochs, graph_acc, 'bo', label='Training acc')\n",
    "plt.title('Training accuracy')\n",
    "plt.legend()\n",
    "\n",
    "plt.figure()\n",
    "\n",
    "plt.plot(epochs, graph_loss, 'bo', label='Training loss')\n",
    "plt.title('Training loss')\n",
    "plt.legend()\n",
    "\n",
    "plt.show()"
   ]
  },
  {
   "cell_type": "code",
   "execution_count": 16,
   "metadata": {},
   "outputs": [],
   "source": [
    "# Save the Model\n",
    "model.save('chgen_model_14.h5')"
   ]
  },
  {
   "cell_type": "markdown",
   "metadata": {},
   "source": [
    "---\n",
    "### Demarc Line: Win Size 300\n",
    "---"
   ]
  },
  {
   "cell_type": "markdown",
   "metadata": {},
   "source": [
    "### Model #15 LSTM RMSprop Win Size 300"
   ]
  },
  {
   "cell_type": "code",
   "execution_count": 14,
   "metadata": {},
   "outputs": [
    {
     "name": "stdout",
     "output_type": "stream",
     "text": [
      "Model: \"sequential\"\n",
      "_________________________________________________________________\n",
      "Layer (type)                 Output Shape              Param #   \n",
      "=================================================================\n",
      "lstm (LSTM)                  (None, 512)               1122304   \n",
      "_________________________________________________________________\n",
      "dense (Dense)                (None, 35)                17955     \n",
      "=================================================================\n",
      "Total params: 1,140,259\n",
      "Trainable params: 1,140,259\n",
      "Non-trainable params: 0\n",
      "_________________________________________________________________\n"
     ]
    }
   ],
   "source": [
    "# Build the Model\n",
    "# Enter your code here:\n",
    "from tensorflow.keras import layers\n",
    "from tensorflow.keras import optimizers\n",
    "\n",
    "model = keras.models.Sequential()\n",
    "model.add(layers.LSTM(512, input_shape=(window_size, len(chars))))\n",
    "model.add(layers.Dense(len(chars), activation='softmax'))\n",
    "\n",
    "optimizer = optimizers.RMSprop(lr=0.001)\n",
    "model.compile(loss='categorical_crossentropy', optimizer=optimizer, metrics=['acc'])\n",
    "model.summary()"
   ]
  },
  {
   "cell_type": "code",
   "execution_count": 15,
   "metadata": {},
   "outputs": [
    {
     "name": "stdout",
     "output_type": "stream",
     "text": [
      "epoch 1\n",
      "Train on 181347 samples\n",
      "181347/181347 [==============================] - 334s 2ms/sample - loss: 2.3767 - acc: 0.3192\n",
      "--- Generating with seed: \" occasionallyeven persuaded him to forgo his bohemian habits so far as to comeand visit us. my practice had steadily increased, and as ihappened to live at no very great distance from paddingtonstation, i got a few patients from among the officials. one ofthese, whom i had cured of a painful and lin\"\n",
      "------ temperature: 0.2\n",
      " occasionallyeven persuaded him to forgo his bohemian habits so far as to comeand visit us. my practice had steadily increased, and as ihappened to live at no very great distance from paddingtonstation, i got a few patients from among the officials. one ofthese, whom i had cured of a painful and ling has he was i salled he was he was he the and he was he was he was he me the mast and he was he me the cand a dere the wand he was he mester and he was now the wand he same the cand he was he was he the was he was he was he was he has he the cand the store the come the wall the wather whe hall the was i whell the fore the was he was not he wand he was the wasting the was he seate the wand he mand\n",
      "------ temperature: 0.5\n",
      "the cand a dere the wand he was he mester and he was now the wand he same the cand he was he was he the was he was he was he was he has he the cand the store the come the wall the wather whe hall the was i whell the fore the was he was not he wand he was the wasting the was he seate the wand he mand he nat i hall the wall the wat he fared the mas he wald he proudd the was cand and he with i sead mat heishever. he was hain nowashes in the fromed i whink bee in the omensere that he we hand the as to and he very to the prased for as the mere the wand mo cand for he werd in the wald he mestered he sighed he was had he westeat it theis he rast at i  a s of in the cof my soum the erede the wand ha\n",
      "------ temperature: 1.0\n",
      "at heishever. he was hain nowashes in the fromed i whink bee in the omensere that he we hand the as to and he very to the prased for as the mere the wand mo cand for he werd in the wald he mestered he sighed he was had he westeat it theis he rast at i  a s of in the cof my soum the erede the wand hal whas f the .'i houll, then he manher flowrofseoy samned bleredtfabe in hive thee iw a asehy panily macl, a s oonthe un the tool, d win?ler.id have you naacining hy whowk h. had horehrerlpon-ly dimulee thes tiey rat, hear of to thay ghandis at has ham ptide. i frolly je wist hay wn s oneifery a tove he tamkew me yom emioh beening bltt if whech leas nowosot, s i hall seaf an hi finhtakey, parente,\n",
      "------ temperature: 1.2\n",
      " macl, a s oonthe un the tool, d win?ler.id have you naacining hy whowk h. had horehrerlpon-ly dimulee thes tiey rat, hear of to thay ghandis at has ham ptide. i frolly je wist hay wn s oneifery a tove he tamkew me yom emioh beening bltt if whech leas nowosot, s i hall seaf an hi finhtakey, parente, headarsyamn therwielonjubred stich se thoweron, wh h intuwh dovfly untinlisas ir qlell to.rferd wacb hil?shorr ghem uple tiedtarl.' hace ado ze thera gaed afe pond.to ginbper, she hatwiwe yop up enqheach, wiy, howsever. os orerende morsctelatd.ts veaverye rinuthay to promebe w th we sajkestin ge thepounshiwi ot tanobh ho wfand y ukctlledd, hit my sekell y, the grabeadis myowabomidhis. he she her \n",
      "epoch 2\n",
      "Train on 181347 samples\n",
      "181347/181347 [==============================] - 345s 2ms/sample - loss: 1.9647 - acc: 0.4242\n",
      "--- Generating with seed: \"from the cupboard, and tearing it to pieces hesqueezed out the pips upon the table. of these he took five andthrust them into an envelope. on the inside of the flap he wrotes. h. for j. o. then he sealed it and addressed it to captainjames calhoun, barque 'lone star,' savannah, georgia.that will awa\"\n",
      "------ temperature: 0.2\n",
      "from the cupboard, and tearing it to pieces hesqueezed out the pips upon the table. of these he took five andthrust them into an envelope. on the inside of the flap he wrotes. h. for j. o. then he sealed it and addressed it to captainjames calhoun, barque 'lone star,' savannah, georgia.that will awat the had had he was a senter and the stome which he had he past and the was a sand and a canter and the had he was a lang a sto man she had sto the had he was a sime and had he was a cant and the the the the had he was a canter and a lange which he had he had a sto light the waster and i cant the had he had deen a conder and i can a sand and the stone and a was the had had been the wand had been \n",
      "------ temperature: 0.5\n",
      " the had he was a lang a sto man she had sto the had he was a sime and had he was a cant and the the the the had he was a canter and a lange which he had he had a sto light the waster and i cant the had he had deen a conder and i can a sand and the stone and a was the had had been the wand had been a cond and his he sand have were asplain the what i was a sond and how deat a digtle brest. his a forit of the doond and the had he wand the whith whele has was the wist the surtere stalle that i am the hand i sand in the though the stole was the had nown the the of the with his one an the willon was the the samper and ont upon the staring which he has deallane whith he had sen whe i had a a lang \n",
      "------ temperature: 1.0\n",
      "rit of the doond and the had he wand the whith whele has was the wist the surtere stalle that i am the hand i sand in the though the stole was the had nown the the of the with his one an the willon was the the samper and ont upon the staring which he has deallane whith he had sen whe i had a a lang hco then some my unve and rawaymand hefwas as arponman i mact duu dedout was a canph of him ho me uttitdo sade that the who the wrotise, un the veited ont.ingo-de ve if mutt hivhule sough strate, ssire. enclees anfunded had as unon thet iled in whus his mass murinis mest coald a hormen, preacedbut helcha way ways has to rithl. was the who gars.wheh, has i tmank it they soe!ho metect magesinges le!\n",
      "------ temperature: 1.2\n",
      "titdo sade that the who the wrotise, un the veited ont.ingo-de ve if mutt hivhule sough strate, ssire. enclees anfunded had as unon thet iled in whus his mass murinis mest coald a hormen, preacedbut helcha way ways has to rithl. was the who gars.wheh, has i tmank it they soe!ho metect magesinges le!tlain onty uporty, bron the athe antweens, pingolingmes, i otee you-face onx. o dides eviliwe at then ishvoreaman that?he had saiben save misut s ous of the ascea  an onmoya urofine loysbusthand dbet. i was lave to you, hay mors alliok in might fiidly. ulf i steee urnnerpe stomflices. hharren. pan i hand he stmesy unalles in.what ore i nacl drs prigst, whotn hiv osbrtskall horenulm it diknoilfy;ta\n",
      "epoch 3\n",
      "Train on 181347 samples\n",
      "181347/181347 [==============================] - 350s 2ms/sample - loss: 1.7926 - acc: 0.4718\n",
      "--- Generating with seed: \"had then had. having measuredthese very carefully from seven or eight different points, holmesdesired to be led to the court-yard, from which we all followedthe winding track which led to boscombe pool.sherlock holmes was transformed when he was hot upon such a scentas this. men who had only known t\"\n",
      "------ temperature: 0.2\n",
      "had then had. having measuredthese very carefully from seven or eight different points, holmesdesired to be led to the court-yard, from which we all followedthe winding track which led to boscombe pool.sherlock holmes was transformed when he was hot upon such a scentas this. men who had only known to me to steen and and and and for the stand of the conore and a said a dident of the fort which it is a some to the stone of the store of the stould of the store of the coundrow which it is a said a from the stare of it in the manter of the stope of the fort of the could of the could of the cound of the could and a cound of the could was a cound of the stope man and and and and a site the store of\n",
      "------ temperature: 0.5\n",
      "s a some to the stone of the store of the stould of the store of the coundrow which it is a said a from the stare of it in the manter of the stope of the fort of the could of the could of the cound of the could and a cound of the could was a cound of the stope man and and and and a site the store of the hat been and to me the and and of a very gainer and and a said my now whot i should be sere the call and a cond and way and appealited to a cound of her manse. it was a cail at and about and seeved in a pained my wish the ponitur manter wordon the come and a viller and a fire raysered the conord as the look and as i should to me for the couners in the matter of the land had been do stall hear\n",
      "------ temperature: 1.0\n",
      " call and a cond and way and appealited to a cound of her manse. it was a cail at and about and seeved in a pained my wish the ponitur manter wordon the come and a viller and a fire raysered the conord as the look and as i should to me for the couners in the matter of the land had been do stall heard there tread streed his toglied barking terenty. it ispowlyesculpes be and fiful acoist one.abled is i could be adlape for upon, in to may mr.'elfecle. to scome inother commandelye, and in goven pies de pussed wermins into mp.maynting way by fremedal, so in okeraway in than evenis. thes daingus of it. it is gond some suately pelsixaid thefcorfious. he suppead bor-euple. wheclust a clarl has and d\n",
      "------ temperature: 1.2\n",
      "s i could be adlape for upon, in to may mr.'elfecle. to scome inother commandelye, and in goven pies de pussed wermins into mp.maynting way by fremedal, so in okeraway in than evenis. thes daingus of it. it is gond some suately pelsixaid thefcorfious. he suppead bor-euple. wheclust a clarl has and davper, limarnot dearswhand wattataids thounighn. he suadted hastank, anf whenewhis he selmed wo l pardnoom, has amentyweened deav.ite ourdows not he froukd how them, ascaad theh wo would back an i may twat srjeidsing -poom' whice was, and averrisw trest yes pots this fain nothermerfillfe, and havin whichedn, acdisyor. ix i amhedqleaked of mark wolmor comancro-lear ittyeely.he vesquerted lay he wad\n",
      "epoch 4\n",
      "Train on 181347 samples\n",
      "181347/181347 [==============================] - 351s 2ms/sample - loss: 1.6628 - acc: 0.5098\n",
      "--- Generating with seed: \"d help me, i would not have them ashamed of their father. mygod! what an exposure! what can i do?sherlock holmes sat down beside him on the couch and patted himkindly on the shoulder.if you leave it to a court of law to clear the matter up, saidhe, of course you can hardly avoid publicity. on the ot\"\n",
      "------ temperature: 0.2\n",
      "d help me, i would not have them ashamed of their father. mygod! what an exposure! what can i do?sherlock holmes sat down beside him on the couch and patted himkindly on the shoulder.if you leave it to a court of law to clear the matter up, saidhe, of course you can hardly avoid publicity. on the other was a strong of the store of the state, and the store of the store of the store of the street. i should be that he was a strange of the store of the store. i should her that i am not that i should be and the strong of the store of the state of the morting of the store of the store of the store. i should be that i have the door of the state of the store. i was a nownor of the counderss with his\n",
      "------ temperature: 0.5\n",
      " should be that he was a strange of the store of the store. i should her that i am not that i should be and the strong of the store of the state of the morting of the store of the store of the store. i should be that i have the door of the state of the store. i was a nownor of the counderss with his face.where i refurned the rection.i smokn to the door, sherlock hil sheel could be in the courte. i was a shown of the wandersus in my myssist of the brow him and a coull and remorked, and i connerst that i sown the lingle of the vindow of the door of in the way stand of the gord. grow it well that you and that the had a lave of the beal that i was even the lake of themare. i was a ling which i h\n",
      "------ temperature: 1.0\n",
      " was a shown of the wandersus in my myssist of the brow him and a coull and remorked, and i connerst that i sown the lingle of the vindow of the door of in the way stand of the gord. grow it well that you and that the had a lave of the beal that i was even the lake of themare. i was a ling which i had not her, soring it his nebllos saccesed hear it i am. the ghear point, said the was conduted.'onmerskle, 'or 'now frey quice!,' see, bre, juct what age amyonr whit he weet been away, a well were teb will. he was rever haddens, no sound gees oncains, by stoftughed! sore loty ond of the case and me onr so. find where buce, only, bet weth soly the ded, wniting, we well really fart. ofrol, grop!?y,\n",
      "------ temperature: 1.2\n",
      "erskle, 'or 'now frey quice!,' see, bre, juct what age amyonr whit he weet been away, a well were teb will. he was rever haddens, no sound gees oncains, by stoftughed! sore loty ond of the case and me onr so. find where buce, only, bet weth soly the ded, wniting, we well really fart. ofrol, grop!?y,, winn i, now i's-y, wo dere's 's, mor in'she loff atlywhatgwilcati!gay, rone the nusry to -ourse, that  he is morelvmbook when the ry though my criebsthice as giquentficull. there was not saven-fors. well, say anthere sabd ov, hus. i lim-''t'ny,'struck,hin, 'ffice, percase it us forn what i wond, she thought you, and my, doyi.'y yher goly,'then?' h,'n, his deas heats.'y's,'it locknallyonr. womane\n",
      "epoch 5\n",
      "Train on 181347 samples\n",
      "181347/181347 [==============================] - 357s 2ms/sample - loss: 1.5502 - acc: 0.5409\n",
      "--- Generating with seed: \"heirwhereabouts.the firemen had been much perturbed at the strange arrangementswhich they had found within, and still more so by discovering anewly severed human thumb upon a window-sill of the second floor.about sunset, however, their efforts were at last successful, andthey subdued the flames, but\"\n",
      "------ temperature: 0.2\n",
      "heirwhereabouts.the firemen had been much perturbed at the strange arrangementswhich they had found within, and still more so by discovering anewly severed human thumb upon a window-sill of the second floor.about sunset, however, their efforts were at last successful, andthey subdued the flames, but the such a stare of the story of the store of the soon and a stare of the morning of the store of the door of the matter of the deare of the store of the matter of the seeped in a hand one of the stails of the story of the matter of the sellat of the store of the street and have an all a gond of the latter of the selve of the story of the country sere that he was a prear at the story of the seeve\n",
      "------ temperature: 0.5\n",
      "he door of the matter of the deare of the store of the matter of the seeped in a hand one of the stails of the story of the matter of the sellat of the store of the street and have an all a gond of the latter of the selve of the story of the country sere that he was a prear at the story of the seeventered. i have no drovice that the excoundry down the change was as dean with his face and a faw make mares of brimes. i have no been my intering.it is the fort of the lact. when the forts of the led of the street and a part of the morning in the pare of the door and was so go down the morning the sise. i should a keep to see a lawn and heard in a lange of the lapper down the store, shis simening.\n",
      "------ temperature: 1.0\n",
      "e mares of brimes. i have no been my intering.it is the fort of the lact. when the forts of the led of the street and a part of the morning in the pare of the door and was so go down the morning the sise. i should a keep to see a lawn and heard in a lange of the lapper down the store, shis simening. sut in yourable has been one are aspione.it we viseatenthat the corenquare trime and day so chinged, very, orthis tood wife the mander than he had stand the fordigat. abought st gothed however. sit reasentwas deforathat.you care to give if onle and of the alles of baker obdent to up the chose, andowhasked.''i have n. the disenonor. will, welliyon swor, i seuch stanked ov, stemedids, i seemided. w\n",
      "------ temperature: 1.2\n"
     ]
    },
    {
     "name": "stdout",
     "output_type": "stream",
     "text": [
      ", very, orthis tood wife the mander than he had stand the fordigat. abought st gothed however. sit reasentwas deforathat.you care to give if onle and of the alles of baker obdent to up the chose, andowhasked.''i have n. the disenonor. will, welliyon swor, i seuch stanked ov, stemedids, i seemided. whanu ,ay-you dad. therenave her wishin the fieghs af all a you kithyssepcks. i mateled frobo.the cosons as gread-rageon. wondhacch dathon, if while tuple mrn?no, forlisver's arefectured,now langenltingrovdrallan' sn you might ?twhywred a rrising hauve.trockstople with me.was wound himpethed of your nave, miss aster, and an thnoo daifbucis.'withis heram op, andingwis wliking. in the enow who crum d\n"
     ]
    },
    {
     "data": {
      "image/png": "[encoded data removed]",
      "text/plain": [
       "<Figure size 432x288 with 1 Axes>"
      ]
     },
     "metadata": {
      "needs_background": "light"
     },
     "output_type": "display_data"
    },
    {
     "data": {
      "image/png": "[encoded data removed]",
      "text/plain": [
       "<Figure size 432x288 with 1 Axes>"
      ]
     },
     "metadata": {
      "needs_background": "light"
     },
     "output_type": "display_data"
    }
   ],
   "source": [
    "# Train the Model\n",
    "# Enter your code here:\n",
    "import random\n",
    "import sys\n",
    "\n",
    "acc_list= []\n",
    "loss_list = []\n",
    "\n",
    "for epoch in range(1, 6):\n",
    "    print('epoch', epoch)\n",
    "    # Fit the model for 1 epoch on the available training data\n",
    "    history = model.fit(X, y,\n",
    "              batch_size=256, #changed from 128\n",
    "              epochs=1)\n",
    "    acc = history.history['acc']\n",
    "    loss = history.history['loss']\n",
    "    acc_list.append(acc)\n",
    "    loss_list.append(loss)\n",
    "    \n",
    "    # Select a text seed at random\n",
    "    start_index = random.randint(0, len(text) - window_size - 1)\n",
    "    generated_text = text[start_index: start_index + window_size]\n",
    "    print('--- Generating with seed: \"' + generated_text + '\"')\n",
    "   \n",
    "    \n",
    "    for temperature in [0.2, 0.5, 1.0, 1.2]:\n",
    "        print('------ temperature:', temperature)\n",
    "        sys.stdout.write(generated_text)\n",
    "\n",
    "        # We generate 400 characters\n",
    "        for i in range(400):\n",
    "            sampled = np.zeros((1, window_size, len(chars)))\n",
    "            for t, char in enumerate(generated_text):\n",
    "                sampled[0, t, char_indices[char]] = 1.\n",
    "\n",
    "            preds = model.predict(sampled, verbose=0)[0]\n",
    "            next_index = sample(preds, temperature)\n",
    "            next_char = chars[next_index]\n",
    "\n",
    "            generated_text += next_char\n",
    "            generated_text = generated_text[1:]\n",
    "\n",
    "            sys.stdout.write(next_char)\n",
    "            sys.stdout.flush()\n",
    "        print()\n",
    "\n",
    "\n",
    "graph_acc = []\n",
    "for i in acc_list:\n",
    "    for j in i:\n",
    "        graph_acc.append(j)\n",
    "        \n",
    "graph_loss = []\n",
    "for i in loss_list:\n",
    "    for j in i:\n",
    "        graph_loss.append(j)\n",
    "    \n",
    "#Plotting training graphs\n",
    "%matplotlib inline\n",
    "import matplotlib.pyplot as plt\n",
    "\n",
    "epochs = range(1, len(graph_acc) + 1)\n",
    "\n",
    "plt.plot(epochs, graph_acc, 'bo', label='Training acc')\n",
    "plt.title('Training accuracy')\n",
    "plt.legend()\n",
    "\n",
    "plt.figure()\n",
    "\n",
    "plt.plot(epochs, graph_loss, 'bo', label='Training loss')\n",
    "plt.title('Training loss')\n",
    "plt.legend()\n",
    "\n",
    "plt.show()"
   ]
  },
  {
   "cell_type": "code",
   "execution_count": 16,
   "metadata": {},
   "outputs": [],
   "source": [
    "# Save the Model\n",
    "model.save('chgen_model_15.h5')"
   ]
  },
  {
   "cell_type": "markdown",
   "metadata": {},
   "source": [
    "### Model #16 LSTM Adam Win Size 300"
   ]
  },
  {
   "cell_type": "code",
   "execution_count": 14,
   "metadata": {},
   "outputs": [
    {
     "name": "stdout",
     "output_type": "stream",
     "text": [
      "Model: \"sequential\"\n",
      "_________________________________________________________________\n",
      "Layer (type)                 Output Shape              Param #   \n",
      "=================================================================\n",
      "lstm (LSTM)                  (None, 512)               1122304   \n",
      "_________________________________________________________________\n",
      "dense (Dense)                (None, 35)                17955     \n",
      "=================================================================\n",
      "Total params: 1,140,259\n",
      "Trainable params: 1,140,259\n",
      "Non-trainable params: 0\n",
      "_________________________________________________________________\n"
     ]
    }
   ],
   "source": [
    "# Build the Model\n",
    "# Enter your code here:\n",
    "from tensorflow.keras import layers\n",
    "from tensorflow.keras import optimizers\n",
    "\n",
    "model = keras.models.Sequential()\n",
    "model.add(layers.LSTM(512, input_shape=(window_size, len(chars))))\n",
    "model.add(layers.Dense(len(chars), activation='softmax'))\n",
    "\n",
    "optimizer = optimizers.Adam(lr=0.005) # crash if lr is 0.001 or batch size <512\n",
    "model.compile(loss='categorical_crossentropy', optimizer=optimizer, metrics=['acc'])\n",
    "model.summary()"
   ]
  },
  {
   "cell_type": "code",
   "execution_count": 15,
   "metadata": {},
   "outputs": [
    {
     "name": "stdout",
     "output_type": "stream",
     "text": [
      "epoch 1\n",
      "Train on 181347 samples\n",
      "181347/181347 [==============================] - 339s 2ms/sample - loss: 2.4879 - acc: 0.2855\n",
      "--- Generating with seed: \" which ran through the meadows, and so by way ofthe woods to the boscombe pool. it was damp, marshy ground, as isall that district, and there were marks of many feet, both uponthe path and amid the short grass which bounded it on eitherside. sometimes holmes would hurry on, sometimes stop dead, ando\"\n",
      "------ temperature: 0.2\n",
      " which ran through the meadows, and so by way ofthe woods to the boscombe pool. it was damp, marshy ground, as isall that district, and there were marks of many feet, both uponthe path and amid the short grass which bounded it on eitherside. sometimes holmes would hurry on, sometimes stop dead, andon the have the have wat in the sist in the sithe the shat in the has in the has is as the have the has ind the have the hat in the he sere the has the have the have the hat the cat wat the hat in the pate the has with the pat the her and and the he the hat the hat soulle the stould whi hat in whi his in which and whith the sile wat the ing the has in the his in the hat in the sisting whi has it th\n",
      "------ temperature: 0.5\n",
      "as ind the have the hat in the he sere the has the have the have the hat the cat wat the hat in the pate the has with the pat the her and and the he the hat the hat soulle the stould whi hat in whi his in which and whith the sile wat the ing the has in the his in the hat in the sisting whi has it the is with the the sare solle the bee to the shis le wast and the pere thithis s the wat has wer and she prot the withe wist this ithe with the wis better forening the wat the wat the sad his the heme the with he wat ster tould it aid whis isher, a sull hat the dout i hilg at the bowr ap the ing stour the the  aid shile the pere this whit my all you which an the cout the bee list she hay haw the ha\n",
      "------ temperature: 1.0\n",
      "she prot the withe wist this ithe with the wis better forening the wat the wat the sad his the heme the with he wat ster tould it aid whis isher, a sull hat the dout i hilg at the bowr ap the ing stour the the  aid shile the pere this whit my all you which an the cout the bee list she hay haw the haydy s af houle whe dobl his tsetprouf lotcich the wewame duse fam te hhe hict i versinginge wot b'mrcelers, ipcing.'psasginct ibe thit thot andy watuev! swon th thas soo tem bed i susct that whot.'ert kiig of thes whay uy peaming it showali the men whanhe dorenpane tilingt soles w, s and saithes thef.se hemull ha mave mimed it ain ave stes. tom no hasely im seeshonotilhed updey brishe hask bosecy \n",
      "------ temperature: 1.2\n",
      "celers, ipcing.'psasginct ibe thit thot andy watuev! swon th thas soo tem bed i susct that whot.'ert kiig of thes whay uy peaming it showali the men whanhe dorenpane tilingt soles w, s and saithes thef.se hemull ha mave mimed it ain ave stes. tom no hasely im seeshonotilhed updey brishe hask bosecy whac-ur whes, veme, fwulp, maist wiss ind rienelloud telyald t merptay thith mimed sely iotte, noe trilpd thele thergha cofeyl we lemuingoyquectidy busthe was waon hiss o yaurefrlitlidys peri, bujibuegtret gaicuspandistiscofto me uythaco futhald te tu dystlefratsons welled, aulmelyon a s antili sayengoatiun's myti ofeit. wely guallw?puponrt, 'ho' weliralp.erowher feredippouty, aclue's of issy brqu\n",
      "epoch 2\n",
      "Train on 181347 samples\n",
      "181347/181347 [==============================] - 345s 2ms/sample - loss: 2.0212 - acc: 0.4038\n",
      "--- Generating with seed: \" tallow stain, or even two, might come by chance; but when isee no less than five, i think that there can be little doubtthat the individual must be brought into frequent contact withburning tallow--walks upstairs at night probably with his hat inone hand and a guttering candle in the other. anyhow,\"\n",
      "------ temperature: 0.2\n",
      " tallow stain, or even two, might come by chance; but when isee no less than five, i think that there can be little doubtthat the individual must be brought into frequent contact withburning tallow--walks upstairs at night probably with his hat inone hand and a guttering candle in the other. anyhow, and the store the shark and the strest the strent was a dound the strest to the strest the store the sing to his have not in the sing the strest the strest the strest the store the rood and was to the strest the cond the store the strent to me for and the streat and the strent in the store the strent the store the strest to so the sitter and the strest the sing the streat of a dave to be a sand t\n",
      "------ temperature: 0.5\n",
      "e sing to his have not in the sing the strest the strest the strest the store the rood and was to the strest the cond the store the strent to me for and the streat and the strent in the store the strent the store the strest to so the sitter and the strest the sing the streat of a dave to be a sand the store on the its loss of the bersing of the stent and it what he severt of tien to she sert by his the book of the dand it is a deving to and he have you have the motteres at in a and the conter, and scary some on the fiched have seand be the dreatared was he have forning have thenrest yours and the dore was in the sconed sting the froms with a mast the stone the sting is and hand well the love\n",
      "------ temperature: 1.0\n",
      "s the book of the dand it is a deving to and he have you have the motteres at in a and the conter, and scary some on the fiched have seand be the dreatared was he have forning have thenrest yours and the dore was in the sconed sting the froms with a mast the stone the sting is and hand well the love and the dans, sumt hare, bustot withoud not pettare theng as mrverd otever, so.ne sco it it assmaneshive.tike with i fard as and-thatthe hoor, to the oven it couwulmby. it yeveren; mr beivad, surd.that. swerys.the rigricustrl-scovers buspaco.the vizitide een so wo cixake mant it. the stly of doonry sand romk hod and to hit advy, mren and ho nowne od firpres,que hisoat have amisenly id has thery f\n",
      "------ temperature: 1.2\n",
      "shive.tike with i fard as and-thatthe hoor, to the oven it couwulmby. it yeveren; mr beivad, surd.that. swerys.the rigricustrl-scovers buspaco.the vizitide een so wo cixake mant it. the stly of doonry sand romk hod and to hit advy, mren and ho nowne od firpres,que hisoat have amisenly id has thery findour urais, mawsly. y tvengaidaund santyon twnink, and you rissas. ma. was sain-thine to for his hereun ht have bifeod saveuth.n gricanf oulalfvic ad! you may ably forin varcais, feerse pimany, say ry foues lock?'y worjid, worvice-lyst thee he pormirst te thet,  have rooved beckewnfupent hearsen afpentimist.nech'reg theerfort ints yonose, ifoney-funty s mr ofdright--hellly,dis a prilacts nood bj\n",
      "epoch 3\n",
      "Train on 181347 samples\n",
      "181347/181347 [==============================] - 354s 2ms/sample - loss: 1.8153 - acc: 0.4609\n",
      "--- Generating with seed: \", and he will explain toyou that there are reasons why the more daring criminals oflondon should take a considerable interest in this cellar atpresent.it is our french gold, whispered the director. we have hadseveral warnings that an attempt might be made upon it.your french gold?yes. we had occasio\"\n",
      "------ temperature: 0.2\n",
      ", and he will explain toyou that there are reasons why the more daring criminals oflondon should take a considerable interest in this cellar atpresent.it is our french gold, whispered the director. we have hadseveral warnings that an attempt might be made upon it.your french gold?yes. we had occasious that i should be a contious of the street and street and a little the street in the street my some the street that the street in the street to the street so the door of the street in the street in the street and in the street to the street in the door of the street and the stome and the door of the such and the street have me the conter and for the street of the street that the street in the st\n",
      "------ temperature: 0.5\n",
      "e the street that the street in the street to the street so the door of the street in the street in the street and in the street to the street in the door of the street and the stome and the door of the such and the street have me the conter and for the street of the street that the street in the street. the clainst in the really and from the street the street. he been head and a deal i should not events the turning that i should that i have meched the asted in the dead, and the little been of his can a cried and this one keeve a down the been that found me for the ont the dight. he was before in the groat in the resell to the man been miss me holmes streether, i see and have man a sad the s\n",
      "------ temperature: 1.0\n",
      " events the turning that i should that i have meched the asted in the dead, and the little been of his can a cried and this one keeve a down the been that found me for the ont the dight. he was before in the groat in the resell to the man been miss me holmes streether, i see and have man a sad the sthat to the cunyslupe soid deage but in the dad umon oncinuone you have me wo.will was a toine do duck at from his would me not in men it one.cead amblesent acatiou. the musicesecpession counsmare gainoth, the every head to him. he filse stamater him pulst sigh to the smree. i waich that i that.i fase de gliat sole and gaid, over the ofe trove. you ived the ushacced the eifted away sincuergitule o\n",
      "------ temperature: 1.2\n",
      "ck at from his would me not in men it one.cead amblesent acatiou. the musicesecpession counsmare gainoth, the every head to him. he filse stamater him pulst sigh to the smree. i waich that i that.i fase de gliat sole and gaid, over the ofe trove. you ived the ushacced the eifted away sincuergitule ouvion -it goin rairleate of not pessmichim quew aboo, hoad's me he doine, mo honding limatherhime. jeen, while the erclaind stlingles. by froingity. rope mory, sha sig so malure is now halm teen of thookos,in the umest stay, and i pather me. when, sume doan.you, one had the seena twat a little ofrrarch:. nut in gumpy ab acknboke crain polferth. thece me oulvyoun requetterry br.chold-modeh adlocked\n",
      "epoch 4\n",
      "Train on 181347 samples\n",
      "181347/181347 [==============================] - 344s 2ms/sample - loss: 1.6721 - acc: 0.5034\n",
      "--- Generating with seed: \" with a high, ringing note,leaning back in his chair and shaking his sides. all my medicalinstincts rose up against that laugh.stop it! i cried; pull yourself together! and i poured outsome water from a caraffe.it was useless, however. he was off in one of those hystericaloutbursts which come upon a\"\n",
      "------ temperature: 0.2\n",
      " with a high, ringing note,leaning back in his chair and shaking his sides. all my medicalinstincts rose up against that laugh.stop it! i cried; pull yourself together! and i poured outsome water from a caraffe.it was useless, however. he was off in one of those hystericaloutbursts which come upon a could said holmes, and the stairs of the little that the could be a stairs of the stains and the door of the could be and that i have see that the stains which he see the could be to the stair, said holmes, and the door, and the door of the commont of the looking that the street of the stord of the lady before in the looking that the first that the could be that the contration of the could be to \n",
      "------ temperature: 0.5\n",
      "or of the could be and that i have see that the stains which he see the could be to the stair, said holmes, and the door, and the door of the commont of the looking that the street of the stord of the lady before in the looking that the first that the could be that the contration of the could be to down that i found that out is one of his bow with a case upon my first that the sile and a colves, and i could be and otcertand of the case i harded a took come said it was we this one of the came in the section of the little observer the case and looking that in his leath, i falled she real, and there we door, and i would be the clate, which i should not the matters of the into the draws in his c\n",
      "------ temperature: 1.0\n",
      "nd i could be and otcertand of the case i harded a took come said it was we this one of the came in the section of the little observer the case and looking that in his leath, i falled she real, and there we door, and i would be the clate, which i should not the matters of the into the draws in his cimple--havine aniok it was pucuaty oojure oltound i could  he headyout and saven if she was poom to the come gling. vellit, hormes. bystand i cat downllump dee,s am to the left coverlys out, as i should be for papped, my offir?'she has be to de this glo cord, be vasien which i might papinct. thetwell.what the iscommins of amolk raves we am heald to ofvingily, suct his canwinge andscosion to the po\n",
      "------ temperature: 1.2\n",
      "the come gling. vellit, hormes. bystand i cat downllump dee,s am to the left coverlys out, as i should be for papped, my offir?'she has be to de this glo cord, be vasien which i might papinct. thetwell.what the iscommins of amolk raves we am heald to ofvingily, suct his canwinge andscosion to the po awbopiai, whrie quyth, we was mr. storoing, oning to fiquiule clay coliatic, to him.veis. he.i mresstond, your tunge. it scooning, as worfidentmed aly, tharksture and he, to in doscauld netherol,abage at of him reharr, moctuining outsome fornsw on, him, wite exapfed,  lour passilot good, said he had beking you, i tolk intointalkers. in quite ancoubly,wholmes the brooatad pilbwwexcetter, he light \n",
      "epoch 5\n",
      "Train on 181347 samples\n",
      "181347/181347 [==============================] - 342s 2ms/sample - loss: 1.5575 - acc: 0.5363\n",
      "--- Generating with seed: \" he has notentirely lost his self-respect.your reasoning is certainly plausible.the further points, that he is middle-aged, that his hair isgrizzled, that it has been recently cut, and that he useslime-cream, are all to be gathered from a close examination of thelower part of the lining. the lens di\"\n",
      "------ temperature: 0.2\n",
      " he has notentirely lost his self-respect.your reasoning is certainly plausible.the further points, that he is middle-aged, that his hair isgrizzled, that it has been recently cut, and that he useslime-cream, are all to be gathered from a close examination of thelower part of the lining. the lens didey and that i had been been that the stains of the stains which were the stard and the stains of the stard of the stated at the country the stains and the door. it was a senter and that i had been the stains and seemed at the stains and that the stated with the side of the stard of the street. it was a star. it was a case of the street. it was a little which was a way and shall be a possible of t\n",
      "------ temperature: 0.5\n",
      "e stard of the stated at the country the stains and the door. it was a senter and that i had been the stains and seemed at the stains and that the stated with the side of the stard of the street. it was a star. it was a case of the street. it was a little which was a way and shall be a possible of the street. i asked, which i can be the case and before ip to any can to me the hat of the still man of the matter and succing at the letter of the street. it was not be bound to the drove which shall be somethat if thecound at the pation, and the could nate is a little not men and that he was something the great of the other uppasing and company which i have indicent for that i shall that there wa\n",
      "------ temperature: 1.0\n",
      "of the matter and succing at the letter of the street. it was not be bound to the drove which shall be somethat if thecound at the pation, and the could nate is a little not men and that he was something the great of the other uppasing and company which i have indicent for that i shall that there was and allfited way.i come in the doey not toonicuetim. could full. probouldrees boform. the latter well and hannin all.it is had put such orden?it ask open, alone hasrature to the bourds.o rearilyagar.noty us though to hunduty, booking upon your notuifularp into the papling and gangushord whelshet all the rized or think which. crost for my citu.on, andon' a pearh, and i. my convent man say right. \n",
      "------ temperature: 1.2\n"
     ]
    },
    {
     "name": "stdout",
     "output_type": "stream",
     "text": [
      "ell and hannin all.it is had put such orden?it ask open, alone hasrature to the bourds.o rearilyagar.noty us though to hunduty, booking upon your notuifularp into the papling and gangushord whelshet all the rized or think which. crost for my citu.on, andon' a pearh, and i. my convent man say right. a chatcaw the tideawairing. it must ifke; the sqyerfipper. ittill yeifusg at herlearby.it bedased in thecrives st.fording.youhave day, turniciet, holmes, not. 'fargendry asked ryot thefacticat to resome of thidpiace clunt of us, and shi lin.naidly were as yet.they with lhfence.''yes not, betwere theenalmately,hove ofet finally ascomelpsittered.'don?''mad! have donegsed dvenage upon me sitte succet\n"
     ]
    },
    {
     "data": {
      "image/png": "[encoded data removed]",
      "text/plain": [
       "<Figure size 432x288 with 1 Axes>"
      ]
     },
     "metadata": {
      "needs_background": "light"
     },
     "output_type": "display_data"
    },
    {
     "data": {
      "image/png": "[encoded data removed]",
      "text/plain": [
       "<Figure size 432x288 with 1 Axes>"
      ]
     },
     "metadata": {
      "needs_background": "light"
     },
     "output_type": "display_data"
    }
   ],
   "source": [
    "# Train the Model\n",
    "# Enter your code here:\n",
    "import random\n",
    "import sys\n",
    "\n",
    "acc_list= []\n",
    "loss_list = []\n",
    "\n",
    "for epoch in range(1, 6):\n",
    "    print('epoch', epoch)\n",
    "    # Fit the model for 1 epoch on the available training data\n",
    "    history = model.fit(X, y,\n",
    "              batch_size=512,\n",
    "              epochs=1)\n",
    "    acc = history.history['acc']\n",
    "    loss = history.history['loss']\n",
    "    acc_list.append(acc)\n",
    "    loss_list.append(loss)\n",
    "    \n",
    "    # Select a text seed at random\n",
    "    start_index = random.randint(0, len(text) - window_size - 1)\n",
    "    generated_text = text[start_index: start_index + window_size]\n",
    "    print('--- Generating with seed: \"' + generated_text + '\"')\n",
    "   \n",
    "    \n",
    "    for temperature in [0.2, 0.5, 1.0, 1.2]:\n",
    "        print('------ temperature:', temperature)\n",
    "        sys.stdout.write(generated_text)\n",
    "\n",
    "        # We generate 400 characters\n",
    "        for i in range(400):\n",
    "            sampled = np.zeros((1, window_size, len(chars)))\n",
    "            for t, char in enumerate(generated_text):\n",
    "                sampled[0, t, char_indices[char]] = 1.\n",
    "\n",
    "            preds = model.predict(sampled, verbose=0)[0]\n",
    "            next_index = sample(preds, temperature)\n",
    "            next_char = chars[next_index]\n",
    "\n",
    "            generated_text += next_char\n",
    "            generated_text = generated_text[1:]\n",
    "\n",
    "            sys.stdout.write(next_char)\n",
    "            sys.stdout.flush()\n",
    "        print()\n",
    "\n",
    "\n",
    "graph_acc = []\n",
    "for i in acc_list:\n",
    "    for j in i:\n",
    "        graph_acc.append(j)\n",
    "        \n",
    "graph_loss = []\n",
    "for i in loss_list:\n",
    "    for j in i:\n",
    "        graph_loss.append(j)\n",
    "    \n",
    "#Plotting training graphs\n",
    "%matplotlib inline\n",
    "import matplotlib.pyplot as plt\n",
    "\n",
    "epochs = range(1, len(graph_acc) + 1)\n",
    "\n",
    "plt.plot(epochs, graph_acc, 'bo', label='Training acc')\n",
    "plt.title('Training accuracy')\n",
    "plt.legend()\n",
    "\n",
    "plt.figure()\n",
    "\n",
    "plt.plot(epochs, graph_loss, 'bo', label='Training loss')\n",
    "plt.title('Training loss')\n",
    "plt.legend()\n",
    "\n",
    "plt.show()"
   ]
  },
  {
   "cell_type": "code",
   "execution_count": 16,
   "metadata": {},
   "outputs": [],
   "source": [
    "# Save the Model\n",
    "model.save('chgen_model_16.h5')"
   ]
  },
  {
   "cell_type": "markdown",
   "metadata": {},
   "source": [
    "### Model #17 GRU RMSprop Win Size 300"
   ]
  },
  {
   "cell_type": "code",
   "execution_count": 16,
   "metadata": {},
   "outputs": [
    {
     "name": "stdout",
     "output_type": "stream",
     "text": [
      "Model: \"sequential_1\"\n",
      "_________________________________________________________________\n",
      "Layer (type)                 Output Shape              Param #   \n",
      "=================================================================\n",
      "gru_1 (GRU)                  (None, 256)               225024    \n",
      "_________________________________________________________________\n",
      "dense_1 (Dense)              (None, 35)                8995      \n",
      "=================================================================\n",
      "Total params: 234,019\n",
      "Trainable params: 234,019\n",
      "Non-trainable params: 0\n",
      "_________________________________________________________________\n"
     ]
    }
   ],
   "source": [
    "# Build the Model\n",
    "# Enter your code here:\n",
    "from tensorflow.keras import layers\n",
    "from tensorflow.keras import optimizers\n",
    "\n",
    "model = keras.models.Sequential()\n",
    "model.add(layers.GRU(256, input_shape=(window_size, len(chars))))\n",
    "model.add(layers.Dense(len(chars), activation='softmax'))\n",
    "\n",
    "optimizer = optimizers.RMSprop(lr=0.01)\n",
    "model.compile(loss='categorical_crossentropy', optimizer=optimizer, metrics=['acc'])\n",
    "model.summary()"
   ]
  },
  {
   "cell_type": "code",
   "execution_count": 17,
   "metadata": {},
   "outputs": [
    {
     "name": "stdout",
     "output_type": "stream",
     "text": [
      "epoch 1\n",
      "Train on 181347 samples\n",
      "181347/181347 [==============================] - 114s 626us/sample - loss: 2.0505 - acc: 0.4034\n",
      "--- Generating with seed: \"es pulled me abruptly into the room and closed the doorbehind me.you could not possibly have come at a better time, my dearwatson, he said cordially.i was afraid that you were engaged.so i am. very much so.then i can wait in the next room.not at all. this gentleman, mr. wilson, has been my partner a\"\n",
      "------ temperature: 0.2\n",
      "es pulled me abruptly into the room and closed the doorbehind me.you could not possibly have come at a better time, my dearwatson, he said cordially.i was afraid that you were engaged.so i am. very much so.then i can wait in the next room.not at all. this gentleman, mr. wilson, has been my partner as me the matered the sentered my for the same the sate that is a poor me the same a shough the more the be a more the seare the more that the door. how down the to the more that he had been the courded to the was a past to the shought the materes the books a more the more the tress we to me the same the same the matter had been the same a that he had been to the pood the same that the shouted the \n",
      "------ temperature: 0.5\n",
      "the be a more the seare the more that the door. how down the to the more that he had been the courded to the was a past to the shought the materes the books a more the more the tress we to me the same the same the matter had been the same a that he had been to the pood the same that the shouted the mifed to the for miss hard which ore stept for the ting for the mather had been cormess to the more and loth a more the past of be the sulpess to the materesfing the shought the sented my fangell to me that he had been a mection of perscont a more as a spovicenter the good to pers a was in present the too me to be the stalust more mars the had more the cormet me that he had be a man be the belled \n",
      "------ temperature: 1.0\n",
      "and loth a more the past of be the sulpess to the materesfing the shought the sented my fangell to me that he had been a mection of perscont a more as a spovicenter the good to pers a was in present the too me to be the stalust more mars the had more the cormet me that he had be a man be the belled click, who had had peal treaevited himfter las a the toothere,but so shoutnien-red my whode fto that ting upot tugrest. the door at pratemet f a ordal, tistareflowd ploforfeed wohrit inmetrest. yournowluse semple.ohe this, amank, of the shouw homed mys.you who golded said him.whe had coure lones, and ayon, and the right, sorack him ththe spold. which he shiok, ant full-of the dreses ed a me.n, poo\n",
      "------ temperature: 1.2\n",
      " ting upot tugrest. the door at pratemet f a ordal, tistareflowd ploforfeed wohrit inmetrest. yournowluse semple.ohe this, amank, of the shouw homed mys.you who golded said him.whe had coure lones, and ayon, and the right, sorack him ththe spold. which he shiok, ant full-of the dreses ed a me.n, poor atrestwhile the ammerys opperinefold upony even saoffimely the teastinctof, though and veresness quirtlick. the wouad teal had in ap itpood-had joh how, fool, comourihaph?miqure to be perctlesdok me, at mycroturned. by in a mutt attimr fattee, throw  vers. hild rease ired if y upuent pacver.' s if apshiage felt out kiads. aemd. whico to ki; ful whad hour, poonly no ropluen, said jariually wild, \n",
      "epoch 2\n",
      "Train on 181347 samples\n",
      "181347/181347 [==============================] - 115s 635us/sample - loss: 1.7480 - acc: 0.4860\n",
      "--- Generating with seed: \"a vice upon my wrist in his agitation. then he broke into a lowlaugh and put his lips to my ear.it is a nice household, he murmured. that is the baboon.i had forgotten the strange pets which the doctor affected. therewas a cheetah, too; perhaps we might find it upon our shouldersat any moment. i con\"\n",
      "------ temperature: 0.2\n",
      "a vice upon my wrist in his agitation. then he broke into a lowlaugh and put his lips to my ear.it is a nice household, he murmured. that is the baboon.i had forgotten the strange pets which the doctor affected. therewas a cheetah, too; perhaps we might find it upon our shouldersat any moment. i conly and the come which we man of the had been the come of the sort and the sound him of the land which we man of the remant of the sort and the land and the selen had she had seen the comply care to me which was a surpented the land the from the come was a sole the comply case and the man of the man of the selen the sell the room of the remant of the some was a lintle man of the man who had her and\n",
      "------ temperature: 0.5\n",
      "h we man of the remant of the sort and the land and the selen had she had seen the comply care to me which was a surpented the land the from the come was a sole the comply case and the man of the man of the selen the sell the room of the remant of the some was a lintle man of the man who had her and formed, and the looked his had been the sifterstand, and which me was a spenely had from the selen to a suld the sall is a sharn dispost in the sweet my certated at and the man when we look and so chance at the long the from the come. who had done the had she had been said my was so man some to the clant to his whom and so had not of the room one of his some who sure of the longer and so not at t\n",
      "------ temperature: 1.0\n",
      "to a suld the sall is a sharn dispost in the sweet my certated at and the man when we look and so chance at the long the from the come. who had done the had she had been said my was so man some to the clant to his whom and so had not of the room one of his some who sure of the longer and so not at theploan--held not do at. that may, and what myself endenly, so and, my can. it should he mear deward, so heme, on the not see on trust men of the bad, and it ifficle what wiftiet waition of the room, when i upo the ranchim ranugtereancely soathory exame a right being as you cape life my table, was a suristoutcers of ful it jeperness she would censated. i had he not and an the clore intervestand an\n",
      "------ temperature: 1.2\n",
      ", so heme, on the not see on trust men of the bad, and it ifficle what wiftiet waition of the room, when i upo the ranchim ranugtereancely soathory exame a right being as you cape life my table, was a suristoutcers of ful it jeperness she would censated. i had he not and an the clore intervestand and know, telling and comired her that nover manqueice him was frammefsle,man she clin of the loflornerstated.the hadvent ytsteen to akely what pocessand anwhole xvention of fellland, well, and yes, he is homelaut affirotten the a muttanes the shofdihal.it on no and harking one.wan of the echemen only i necest rered,my ablumanunt, fais theaway roosable clispeba huming mt of hist cloon, mydier had be\n",
      "epoch 3\n",
      "Train on 181347 samples\n",
      "181347/181347 [==============================] - 117s 643us/sample - loss: 1.6971 - acc: 0.4991- \n",
      "--- Generating with seed: \"see. you must yourself haveremarked how worn, wrinkled, and stained they were. they spoke ofthose hours of burrowing. the only remaining point was what theywere burrowing for. i walked round the corner, saw the city andsuburban bank abutted on our friend's premises, and felt that ihad solved my prob\"\n",
      "------ temperature: 0.2\n",
      "see. you must yourself haveremarked how worn, wrinkled, and stained they were. they spoke ofthose hours of burrowing. the only remaining point was what theywere burrowing for. i walked round the corner, saw the city andsuburban bank abutted on our friend's premises, and felt that ihad solved my probles and to a let a land the lange to a sure to the lange to a street and to the could be a little to a street all to a beach some to the turned to the land to the took of the strange and the compation and the land and to be a compation and the land the door. i lady and to the door to his all that i lady to the door of the took out of the door. i should set all to the land the companion in the took\n",
      "------ temperature: 0.5\n",
      " a street all to a beach some to the turned to the land to the took of the strange and the compation and the land and to be a compation and the land the door. i lady and to the door to his all that i lady to the door of the took out of the door. i should set all to the land the companion in the took over and to the long of the probection had and as to as the could be anyther be a chance and street all of the be took of remarked in the lane to the discomence and the stoctiret, and whether the took over and eard every straighing that i had stand, and that he had been alled in the the ever datter the dead and the side and the tomer of the discud and hose and his street and to and little per and\n",
      "------ temperature: 1.0\n",
      " all of the be took of remarked in the lane to the discomence and the stoctiret, and whether the took over and eard every straighing that i had stand, and that he had been alled in the the ever datter the dead and the side and the tomer of the discud and hose and his street and to and little per anded in tooour con toover veincance inffrommet and holds table srivelyblotely theonnisching thestuddining trold. to enound tee being in.this spry the hand thereseet in the of the clinated that, as iet alice. i hadnein a bery told amrey. i is on the little. he was been tay, ain wohat in the blowed myscorrial. that  is the pape beection to i the written toap, i laid enes which he remember bebecanall t\n",
      "------ temperature: 1.2\n",
      "ing trold. to enound tee being in.this spry the hand thereseet in the of the clinated that, as iet alice. i hadnein a bery told amrey. i is on the little. he was been tay, ain wohat in the blowed myscorrial. that  is the pape beection to i the written toap, i laid enes which he remember bebecanall to fadas he or.' yet in thembemold makey be a gind 'i'shidisater, rekalcaked. 'andlys to red. herad, ret,the pifercce's ecaced hilly tohol seved strone. it sadd and suld sithtine valig' bile,saepand iblade.ill waslinwa, quited throudded every, thing which he sifear than to prege.lyeach to my hust. as ke sotting-lof theefticate rushed us is jove  wared in poon eightothes. the gin roman, adventiced c\n",
      "epoch 4\n",
      "Train on 181347 samples\n",
      "181347/181347 [==============================] - 118s 653us/sample - loss: 1.6897 - acc: 0.5012\n",
      "--- Generating with seed: \" hisbedroom door.a likely story! as if a man bent on felony would slam his doorso as to wake a household. what did they say, then, of thedisappearance of these gems?they are still sounding the planking and probing the furniturein the hope of finding them.have they thought of looking outside the hous\"\n",
      "------ temperature: 0.2\n",
      " hisbedroom door.a likely story! as if a man bent on felony would slam his doorso as to wake a household. what did they say, then, of thedisappearance of these gems?they are still sounding the planking and probing the furniturein the hope of finding them.have they thought of looking outside the house, and the with his four of the window. it was not to with his face to the window. it was not to the window. it was and was a little for and all of the right. it was no for his four to his for his four and only a was a little for her and only and in my followed to be and hard for there was a little found his face and to his four of the window. it was not to his for and to his found to the window. \n",
      "------ temperature: 0.5\n",
      " window. it was and was a little for and all of the right. it was no for his four to his for his four and only a was a little for her and only and in my followed to be and hard for there was a little found his face and to his four of the window. it was not to his for and to his found to the window. it was not his face of indaed, and the windible it for all in the loft there was and to his hard for are to his commines, and the window. there was lifeliever to which i fire are the room. you not in the window. it is and alloother under there was and out ask to lord for him your one down time to reer for his find brind and hardwhich have been the word, and of it. it was not to me to him which the\n",
      "------ temperature: 1.0\n",
      " are to his commines, and the window. there was lifeliever to which i fire are the room. you not in the window. it is and alloother under there was and out ask to lord for him your one down time to reer for his find brind and hardwhich have been the word, and of it. it was not to me to him which the longing with sidered beat would!' as i coulded.it was paterart fillow ones of there, and alidehaway and if him a lightrallerefbering one afraighing.i handfuly ohark thad going-hard up orationairareach. he starth traling folloed fearure. then way, but your sutred him insion, her have talkiagthey fahe it is 'all a furted a  in mymr, not littled a inageritarlifter dened berying seebird over street, \n",
      "------ temperature: 1.2\n",
      " and if him a lightrallerefbering one afraighing.i handfuly ohark thad going-hard up orationairareach. he starth traling folloed fearure. then way, but your sutred him insion, her have talkiagthey fahe it is 'all a furted a  in mymr, not littled a inageritarlifter dened berying seebird over street, wightling berked--'what un niwkespaid, i okeon! way, thef i lough to forir toll i foundry foudrens the rool.'i! yes.withse.the wbrend to thatit, itwes, now into perilselivial from hit in they ofear felluce you life which me mperer dicingons iesresget. ever could bary dwindicked, he frolkerser hehad agear had poor seared,. i follouse, but.o' is selfing--red-i from harmaninahaves hard humines's star\n",
      "epoch 5\n",
      "Train on 181347 samples\n",
      "181347/181347 [==============================] - 118s 649us/sample - loss: 1.7006 - acc: 0.4991\n",
      "--- Generating with seed: \"wn a dark, earth-smelling passage, and so, after opening athird door, into a huge vault or cellar, which was piled allround with crates and massive boxes.you are not very vulnerable from above, holmes remarked as heheld up the lantern and gazed about him.nor from below, said mr. merryweather, striki\"\n",
      "------ temperature: 0.2\n",
      "wn a dark, earth-smelling passage, and so, after opening athird door, into a huge vault or cellar, which was piled allround with crates and massive boxes.you are not very vulnerable from above, holmes remarked as heheld up the lantern and gazed about him.nor from below, said mr. merryweather, striking the station, and that the strong the strong the strong the man that i have been little to the strong the strong the strong that i have been some to the such i have been some had an in the badk that i have been of the bed that he was had to the selfult that i have been sto the stronge that he had been the strong the other and had the stronge of the could be able the shour of the could not not th\n",
      "------ temperature: 0.5\n",
      "ong the strong the strong that i have been some to the such i have been some had an in the badk that i have been of the bed that he was had to the selfult that i have been sto the stronge that he had been the strong the other and had the stronge of the could be able the shour of the could not not that i have been said he had any onle that he was in any this commancimanage to see had been case that i have been little down i had not hone the other of the man that the house of the fart her in which the list strange which he and it. the mast hand in the poose that it is derest that i have been bre ked to then he can a contreasing the into chancilion and that the obable and to the could hater kne\n",
      "------ temperature: 1.0\n",
      " i have been little down i had not hone the other of the man that the house of the fart her in which the list strange which he and it. the mast hand in the poose that it is derest that i have been bre ked to then he can a contreasing the into chancilion and that the obable and to the could hater kneven and youard the miss reedwlely withed by holmes houmwith ago he looked, iasked i filled the disdance.i had quiee po to torn ad them harand to have. my eepisely by preaseands what shawerd, him, andown to the conseate had aging dlawnitilight as ange teanside out that i have spend! that you could buthise, which ferh, horeservin's drive finung this not alsunt that he have from had inten with the ri\n",
      "------ temperature: 1.2\n"
     ]
    },
    {
     "name": "stdout",
     "output_type": "stream",
     "text": [
      "nce.i had quiee po to torn ad them harand to have. my eepisely by preaseands what shawerd, him, andown to the conseate had aging dlawnitilight as ange teanside out that i have spend! that you could buthise, which ferh, horeservin's drive finung this not alsunt that he have from had inten with the riphingmen ows. loven have founstauthing howsmily and as buing thrue bthiokn wo go with the beddred--andwhilit her miking toin--y whotheregoomineded in wifey. who asoluidisan this aselluke upders of soymising nothist no, but he had, over tan grourd with her son faving twenthedy---nown. red you have. themaklesign of the suse it intelved, and to si newry tois nos. i muth i could you, my, did youppract\n"
     ]
    },
    {
     "data": {
      "image/png": "[encoded data removed]",
      "text/plain": [
       "<Figure size 432x288 with 1 Axes>"
      ]
     },
     "metadata": {
      "needs_background": "light"
     },
     "output_type": "display_data"
    },
    {
     "data": {
      "image/png": "[encoded data removed]",
      "text/plain": [
       "<Figure size 432x288 with 1 Axes>"
      ]
     },
     "metadata": {
      "needs_background": "light"
     },
     "output_type": "display_data"
    }
   ],
   "source": [
    "# Train the Model\n",
    "# Enter your code here:\n",
    "import random\n",
    "import sys\n",
    "\n",
    "acc_list= []\n",
    "loss_list = []\n",
    "\n",
    "for epoch in range(1, 6):\n",
    "    print('epoch', epoch)\n",
    "    # Fit the model for 1 epoch on the available training data\n",
    "    history = model.fit(X, y,\n",
    "              batch_size=128,\n",
    "              epochs=1)\n",
    "    acc = history.history['acc']\n",
    "    loss = history.history['loss']\n",
    "    acc_list.append(acc)\n",
    "    loss_list.append(loss)\n",
    "    \n",
    "    # Select a text seed at random\n",
    "    start_index = random.randint(0, len(text) - window_size - 1)\n",
    "    generated_text = text[start_index: start_index + window_size]\n",
    "    print('--- Generating with seed: \"' + generated_text + '\"')\n",
    "   \n",
    "    \n",
    "    for temperature in [0.2, 0.5, 1.0, 1.2]:\n",
    "        print('------ temperature:', temperature)\n",
    "        sys.stdout.write(generated_text)\n",
    "\n",
    "        # We generate 400 characters\n",
    "        for i in range(400):\n",
    "            sampled = np.zeros((1, window_size, len(chars)))\n",
    "            for t, char in enumerate(generated_text):\n",
    "                sampled[0, t, char_indices[char]] = 1.\n",
    "\n",
    "            preds = model.predict(sampled, verbose=0)[0]\n",
    "            next_index = sample(preds, temperature)\n",
    "            next_char = chars[next_index]\n",
    "\n",
    "            generated_text += next_char\n",
    "            generated_text = generated_text[1:]\n",
    "\n",
    "            sys.stdout.write(next_char)\n",
    "            sys.stdout.flush()\n",
    "        print()\n",
    "\n",
    "\n",
    "graph_acc = []\n",
    "for i in acc_list:\n",
    "    for j in i:\n",
    "        graph_acc.append(j)\n",
    "        \n",
    "graph_loss = []\n",
    "for i in loss_list:\n",
    "    for j in i:\n",
    "        graph_loss.append(j)\n",
    "    \n",
    "#Plotting training graphs\n",
    "%matplotlib inline\n",
    "import matplotlib.pyplot as plt\n",
    "\n",
    "epochs = range(1, len(graph_acc) + 1)\n",
    "\n",
    "plt.plot(epochs, graph_acc, 'bo', label='Training acc')\n",
    "plt.title('Training accuracy')\n",
    "plt.legend()\n",
    "\n",
    "plt.figure()\n",
    "\n",
    "plt.plot(epochs, graph_loss, 'bo', label='Training loss')\n",
    "plt.title('Training loss')\n",
    "plt.legend()\n",
    "\n",
    "plt.show()"
   ]
  },
  {
   "cell_type": "code",
   "execution_count": 18,
   "metadata": {},
   "outputs": [],
   "source": [
    "# Save the Model\n",
    "model.save('chgen_model_17.h5')"
   ]
  },
  {
   "cell_type": "markdown",
   "metadata": {},
   "source": [
    "### Model #18 GRU Adam Win Size 300"
   ]
  },
  {
   "cell_type": "code",
   "execution_count": 18,
   "metadata": {},
   "outputs": [
    {
     "name": "stdout",
     "output_type": "stream",
     "text": [
      "Model: \"sequential_1\"\n",
      "_________________________________________________________________\n",
      "Layer (type)                 Output Shape              Param #   \n",
      "=================================================================\n",
      "gru_1 (GRU)                  (None, 128)               63360     \n",
      "_________________________________________________________________\n",
      "dense_1 (Dense)              (None, 35)                4515      \n",
      "=================================================================\n",
      "Total params: 67,875\n",
      "Trainable params: 67,875\n",
      "Non-trainable params: 0\n",
      "_________________________________________________________________\n"
     ]
    }
   ],
   "source": [
    "# Build the Model\n",
    "# Enter your code here:\n",
    "from tensorflow.keras import layers\n",
    "from tensorflow.keras import optimizers\n",
    "\n",
    "model = keras.models.Sequential()\n",
    "model.add(layers.GRU(128, input_shape=(window_size, len(chars))))\n",
    "model.add(layers.Dense(len(chars), activation='softmax'))\n",
    "\n",
    "optimizer = optimizers.Adam(lr=0.01)\n",
    "model.compile(loss='categorical_crossentropy', optimizer=optimizer, metrics=['acc'])\n",
    "model.summary()"
   ]
  },
  {
   "cell_type": "code",
   "execution_count": 19,
   "metadata": {},
   "outputs": [
    {
     "name": "stdout",
     "output_type": "stream",
     "text": [
      "epoch 1\n",
      "Train on 181347 samples\n",
      "181347/181347 [==============================] - 44s 244us/sample - loss: 2.0188 - acc: 0.4092\n",
      "--- Generating with seed: \"ng carriedout my commission, and without the payment which was my due? thiswoman might, for all i knew, be a monomaniac. with a stoutbearing, therefore, though her manner had shaken me more than icared to confess, i still shook my head and declared my intentionof remaining where i was. she was about\"\n",
      "------ temperature: 0.2\n",
      "ng carriedout my commission, and without the payment which was my due? thiswoman might, for all i knew, be a monomaniac. with a stoutbearing, therefore, though her manner had shaken me more than icared to confess, i still shook my head and declared my intentionof remaining where i was. she was about that the little some that the little forther was heard that the little some which i was and that he was and has that the serest that the side and that i have see that they well, and that the selfed to the possited that i was that i was that the little that the seard that the sime that the little some has that i have and that the seventered that the seard a took his hand that the side of the secte\n",
      "------ temperature: 0.5\n",
      " was and has that the serest that the side and that i have see that they well, and that the selfed to the possited that i was that i was that the little that the seard that the sime that the little some has that i have and that the seventered that the seard a took his hand that the side of the sected thatily and sevended houte is an it was to the that the same evered that there is were he is and i have sayd in the suse that a little furt he and chair as a suct it of his ancant a ways which we hulmes and that whole he sad saterestreet. i have head whote say he was to the room, for he was that the strooks and that which to come the sitered a pool that they and street as it would have hand a pa\n",
      "------ temperature: 1.0\n",
      " have sayd in the suse that a little furt he and chair as a suct it of his ancant a ways which we hulmes and that whole he sad saterestreet. i have head whote say he was to the room, for he was that the strooks and that which to come the sitered a pool that they and street as it would have hand a pane, sidjutstof which hus tolutting that i pe't to theled, and there shiston of your srept that see his kedageetance. i yoursew you geis thrigne is not streusal seaving in the andswill i havical aw thot, but he bland his frinned to kenases, messionlore anddresulter. quiek .whotwithen aty wed nobe hearigho to is i wasked reaseted the expened not it.''that from that of the happman,and thall that they\n",
      "------ temperature: 1.2\n",
      "is kedageetance. i yoursew you geis thrigne is not streusal seaving in the andswill i havical aw thot, but he bland his frinned to kenases, messionlore anddresulter. quiek .whotwithen aty wed nobe hearigho to is i wasked reaseted the expened not it.''that from that of the happman,and thall that theye-indirectointr coltition exbledey turt we beledguittont.ye! the clomal, noran roins lectrain?smoferevief from, fullle is a tildablemands-reay ladid it all. just. our frosed loined to di feaked outsinilt,amplestliadyedig:, yewild sece ozones, wast, nose'ty, tohe wawens werwa. aken latwer eventwastrather alfeppre tning dis ropake, hew ueted cinilus, beriagratit?us eawands in itwould mote. whe butto\n",
      "epoch 2\n",
      "Train on 181347 samples\n",
      "181347/181347 [==============================] - 43s 239us/sample - loss: 1.7196 - acc: 0.4915\n",
      "--- Generating with seed: \"mself to his destiny. be it so, said he. and pray what am icharged with?with making away with mr. neville st.-- oh, come, you can't becharged with that unless they make a case of attempted suicide ofit, said the inspector with a grin. well, i have beentwenty-seven years in the force, but this really\"\n",
      "------ temperature: 0.2\n",
      "mself to his destiny. be it so, said he. and pray what am icharged with?with making away with mr. neville st.-- oh, come, you can't becharged with that unless they make a case of attempted suicide ofit, said the inspector with a grin. well, i have beentwenty-seven years in the force, but this really the stander the start farther the starts of the stands the same and same my some sinder the side and some stander the sherlly and side and had a start for he said the start that he had see the start that i shall me sidd the start for the standen the stander the sherlow the side and same the street and seen and seened the start for the street the start the for her and sidd the start that i shall t\n",
      "------ temperature: 0.5\n",
      "d some stander the sherlly and side and had a start for he said the start that he had see the start that i shall me sidd the start for the standen the stander the sherlow the side and same the street and seen and seened the start for the street the start the for her and sidd the start that i shall there is find in the down the street, and she come and some staind the sister that i was and her he present in the street the sat her had the speconthe saw and sherls a londone of my signs and stained the did he said headd the street, and the room, and the mest as for he was at the stare and satess that i had not he had asked he would he had save and the street of my fast the dristing the man was a\n",
      "------ temperature: 1.0\n",
      "resent in the street the sat her had the speconthe saw and sherls a londone of my signs and stained the did he said headd the street, and the room, and the mest as for he was at the stare and satess that i had not he had asked he would he had save and the street of my fast the dristing the man was and facime. 'xher affition.at hen you peer contless fore that i shalf his standson theald fame father of sippes for his neepsame many deple enide away, this and 'shard got that with a rucheair. where secrect by he seence that no, at the still myspect by smamp.had in, and he seest so mysellen hohe. he, my morisiant exapting of of the fillonge there; it is notherstity can i hind roundthanking'my sade\n",
      "------ temperature: 1.2\n",
      " of sippes for his neepsame many deple enide away, this and 'shard got that with a rucheair. where secrect by he seence that no, at the still myspect by smamp.had in, and he seest so mysellen hohe. he, my morisiant exapting of of the fillonge there; it is notherstity can i hind roundthanking'my sade. , he; burk we havissealy for she lipsubl! cers by a was's conneetaplootpemong sat.of him uspsed.itsies asspetes of here very helest dabuliac biver a'sman arlg things spake of my exilkety have overly hassiesely untholselsa suemings.how droply they fawing my faspresprided aittle.inceach umtiencasure possing. i alsore-word.biogh, which sle, she bodeyond is anomy sopein.  oo herd neindhim. but i pre\n",
      "epoch 3\n",
      "Train on 181347 samples\n",
      "181347/181347 [==============================] - 44s 242us/sample - loss: 1.6381 - acc: 0.5139\n",
      "--- Generating with seed: \"rrying her untilshe got brain-fever, and for six weeks was at death's door. thenshe got better at last, all worn to a shadow, and with herbeautiful hair cut off; but that didn't make no change in heryoung man, and he stuck to her as true as man could be.ah, said holmes, i think that what you have be\"\n",
      "------ temperature: 0.2\n",
      "rrying her untilshe got brain-fever, and for six weeks was at death's door. thenshe got better at last, all worn to a shadow, and with herbeautiful hair cut off; but that didn't make no change in heryoung man, and he stuck to her as true as man could be.ah, said holmes, i think that what you have been a stranged the strong the continued the strught the strught the strught the conversing the strong my hands a street at the brown the continued the strught the strught the strong the strught the man a strongled the struet of the stranged the counts of the should and strong the stranged the strued the street of the strught the converson of the strued the stranged the strong the strught the staits\n",
      "------ temperature: 0.5\n",
      " my hands a street at the brown the continued the strught the strught the strong the strught the man a strongled the struet of the stranged the counts of the should and strong the stranged the strued the street of the strught the converson of the strued the stranged the strong the strught the staits that was struck that i was been until it of sherlock holmes was shered upon the stronglood a deeding a man which we shad for man, what sher was at stall the casted the atton statter the mort stract of the counter of the door a trace a little a sattured fording the staiting of the street come your his and the that is sart to the more of the door as with a some formed it in some that the compled of\n",
      "------ temperature: 1.0\n",
      "g a man which we shad for man, what sher was at stall the casted the atton statter the mort stract of the counter of the door a trace a little a sattured fording the staiting of the street come your his and the that is sart to the more of the door as with a some formed it in some that the compled ofur he would gent cloun sfullingly, however, sondanisly connes-beer aftercossition out overed his acpungeement of for, they grossing that it was had that it pursent your found this, the thing. , then ows heask it misdered. it yes contedices, ghom pape sballow had hud.a somei made for--etidegavead-cturhers of oursomenurced untricked head sta. your matplusion hoseer to mr. on ence-took har bandobremb\n",
      "------ temperature: 1.2\n",
      "ungeement of for, they grossing that it was had that it pursent your found this, the thing. , then ows heask it misdered. it yes contedices, ghom pape sballow had hud.a somei made for--etidegavead-cturhers of oursomenurced untricked head sta. your matplusion hoseer to mr. on ence-took har bandobrembered.' ho. ge?, andar holmes,which  it here overivedombe profought? i cannot bitsed, your sund itsall?your meren. pupimncitume-man't roos. up.as a minuacesmanting.remember?you not soute, is purply wonly.' shisy.'alle, you kny carmcledo give elvam. it ideavled, realisty, than sue's at condicommfroa tventure there peers.i, know-jeet, bader that you deeded cimpledin in am this in?ohe fothleyerfiride \n",
      "epoch 4\n",
      "Train on 181347 samples\n",
      "181347/181347 [==============================] - 44s 243us/sample - loss: 1.5973 - acc: 0.5252\n",
      "--- Generating with seed: \"en as i looked up, i sawhis tall, spare figure pass twice in a dark silhouette againstthe blind. he was pacing the room swiftly, eagerly, with his headsunk upon his chest and his hands clasped behind him. to me, whoknew his every mood and habit, his attitude and manner told theirown story. he was at\"\n",
      "------ temperature: 0.2\n",
      "en as i looked up, i sawhis tall, spare figure pass twice in a dark silhouette againstthe blind. he was pacing the room swiftly, eagerly, with his headsunk upon his chest and his hands clasped behind him. to me, whoknew his every mood and habit, his attitude and manner told theirown story. he was at the such a should have had been that i have a self that he had shere that he had sherlock holmes was a side and the less have should be the dress of the country that you and hand and the lady start that i can the bed that you the lady and the last and looking that i have a care that i have had been as the country that he had not an explain that i have the been have here, and the day and have been\n",
      "------ temperature: 0.5\n",
      "s a side and the less have should be the dress of the country that you and hand and the lady start that i can the bed that you the lady and the last and looking that i have a care that i have had been as the country that he had not an explain that i have the been have here, and the day and have been about the one of upon her that i am sherlock holmes, i shall be a should the tanter and here and the read at the order that her care of the sure out of the less man a such a self from his hand and far that he should cannot that you give of the here, and i should be at the mose to a lit the compited the bed and some shouldbe should be some man heard his belled at the tall that the restrames the se\n",
      "------ temperature: 1.0\n",
      "e read at the order that her care of the sure out of the less man a such a self from his hand and far that he should cannot that you give of the here, and i should be at the mose to a lit the compited the bed and some shouldbe should be some man heard his belled at the tall that the restrames the seeing not had crip. i report dayigner tuph,spewh, you, which would be absulf in the hall in him?ness, landand not mackederally likely.the severac drawered shycountredbefor wife.in the smiles case demarkeded case, and the cisely, by theyout.is the stream of the just over theessed not. your case lang? i came, facceming your at thes i suspicusest is tome to the angin-hare tenchim of the locked. he was\n",
      "------ temperature: 1.2\n",
      " landand not mackederally likely.the severac drawered shycountredbefor wife.in the smiles case demarkeded case, and the cisely, by theyout.is the stream of the just over theessed not. your case lang? i came, facceming your at thes i suspicusest is tome to the angin-hare tenchim of the locked. he was come out hob greall, bl cust my? the tra,bless was nist. will inorspared.wendreds-rast abvoloswheway why.findaid hincidiaman firuly, bothed dolderm that the brough it was ricactadyer just traps as is out of a wapye ealtailing, is igushinint,fach?hes, , ereard felose---kne.slowl, it is cleenterw of the alrespresswel? so, the lippergs. and your coans, foofehtour wasing sifverylesition dage that she\n",
      "epoch 5\n",
      "Train on 181347 samples\n",
      "181347/181347 [==============================] - 45s 245us/sample - loss: 1.5713 - acc: 0.5317 - loss: 1.5709 - acc: 0.\n",
      "--- Generating with seed: \"cein my heart that had been given to my poor frank.still, if i had married lord st. simon, of course i'd have donemy duty by him. we can't command our love, but we can ouractions. i went to the altar with him with the intention to makehim just as good a wife as it was in me to be. but you mayimagine\"\n",
      "------ temperature: 0.2\n",
      "cein my heart that had been given to my poor frank.still, if i had married lord st. simon, of course i'd have donemy duty by him. we can't command our love, but we can ouractions. i went to the altar with him with the intention to makehim just as good a wife as it was in me to be. but you mayimagine, which i have been to the street, and the strange of the stranging the street the little from the little man which i had sen and street which we should have been the street of the complation of the lange and strang the street. it was the street. i have the street the street. why has not been the street and strange that he was the man who were in the strong the strong of the grounds to see the str\n",
      "------ temperature: 0.5\n",
      "ittle man which i had sen and street which we should have been the street of the complation of the lange and strang the street. it was the street. i have the street the street. why has not been the street and strange that he was the man who were in the strong the strong of the grounds to see the stranging upon the woman in the little manner which walking the room, so my prothe to the compitting of the strongs his now stoop that he was the little glas that i had secured to see the stopses, and that i stook the room of the street the street.the strees what was a costing should not been the selped to my hands to his windil must and was sen the pool to see out his rewed to go as my country rest \n",
      "------ temperature: 1.0\n",
      " the strongs his now stoop that he was the little glas that i had secured to see the stopses, and that i stook the room of the street the street.the strees what was a costing should not been the selped to my hands to his windil must and was sen the pool to see out his rewed to go as my country rest dogrively oprestle.andstrargh has a pounds, ournethrowmrtading reved hebrowan's counlice of twat st. olmes's confurnined somethat youngroded, i slipper up to genrer the dulriogs. him how my corone word piper and corrismysew and concernasumpland, mitseninat or us as we sard over his next telles, how same outstempaded impound's an blooding from horshwarsed, for, then the little acased sundolleeds wh\n",
      "------ temperature: 1.2\n"
     ]
    },
    {
     "name": "stdout",
     "output_type": "stream",
     "text": [
      " olmes's confurnined somethat youngroded, i slipper up to genrer the dulriogs. him how my corone word piper and corrismysew and concernasumpland, mitseninat or us as we sard over his next telles, how same outstempaded impound's an blooding from horshwarsed, for, then the little acased sundolleeds why im you mrgrebline is extrying fide a swight. i call on thily windingfac name of coming pwas my nast--froling does hardsanger the counthed  viniefly settlesfice. the jempeturain bespus toee?no stoke mlates,the chrisistwhen the hindson myreghed-blookishem stunge. iniquitt time.i amance.'speened us whyed militactupenously has, and harg traurds his tostened,with no lef-nowlite, mr yeak-hoomper that \n",
      "epoch 6\n",
      "Train on 181347 samples\n",
      "181347/181347 [==============================] - 45s 247us/sample - loss: 1.5538 - acc: 0.5354\n",
      "--- Generating with seed: \"wnbroker's business is mostly done of an evening, mr.holmes, especially thursday and friday evening, which is justbefore pay-day; so it would suit me very well to earn a little inthe mornings. besides, i knew that my assistant was a good man,and that he would see to anything that turned up.'that wou\"\n",
      "------ temperature: 0.2\n",
      "wnbroker's business is mostly done of an evening, mr.holmes, especially thursday and friday evening, which is justbefore pay-day; so it would suit me very well to earn a little inthe mornings. besides, i knew that my assistant was a good man,and that he would see to anything that turned up.'that would be a little monty with a him and a little the single that i am all the looking a wome that i am all that i have a little a wond that i may and a side when he has a little all the sears and a few and a wome have had been a was a start, which we have a little and a longer and a little as i was sitting a way have a have a have a have a wond and a was what i am all the starts which have a have a ha\n",
      "------ temperature: 0.5\n",
      "ll that i have a little a wond that i may and a side when he has a little all the sears and a few and a wome have had been a was a start, which we have a little and a longer and a little as i was sitting a way have a have a have a have a wond and a was what i am all the starts which have a have a have some letter was interested him and what i am in a not a lough a have shote in when he has been down that there is a how could a will all that the came he had not heave how could not several my station. the mind a man you the low come when he has a little at the haddess to some me. what i have a have such a stare and a landoned have a was which i have been a wond that i have a little at me a man\n",
      "------ temperature: 1.0\n",
      "wn that there is a how could a will all that the came he had not heave how could not several my station. the mind a man you the low come when he has a little at the haddess to some me. what i have a have such a stare and a landoned have a was which i have been a wond that i have a little at me a many way and handslied moment many wone some grown foofimant whom the panits for hother as you concied as a fillow had havageven and switter had durk had butter alpyaffedd splained to see a her mind of in my affair. even that, the pasuented! monny have there. was mence at his theself onven him which he has hall allow-object the guide whol seld, with. and shell believes was no for euming,what you have\n",
      "------ temperature: 1.2\n",
      "as a fillow had havageven and switter had durk had butter alpyaffedd splained to see a her mind of in my affair. even that, the pasuented! monny have there. was mence at his theself onven him which he has hall allow-object the guide whol seld, with. and shell believes was no for euming,what you have down atthul'sed, it stirls as ever at all holded time in whichcome to twat blad upon frienger hasbusinerss tree ablittleasins wolk, befurthed but mr.y, buting.vey ligh, i deal, word! then. i have my loxfre gooded. there. withhigh rasted matter withoned eye. i  are thecair a may be faceract, monda, zes dark beeaca yaue; for out, latestead hadd so. now, i do, that what allady whatticustion, have us\n",
      "epoch 7\n",
      "Train on 181347 samples\n",
      "181347/181347 [==============================] - 45s 248us/sample - loss: 1.5427 - acc: 0.5391\n",
      "--- Generating with seed: \"acco, and as much information as i could desireabout miss adler, to say nothing of half a dozen other people inthe neighbourhood in whom i was not in the least interested, butwhose biographies i was compelled to listen to.and what of irene adler? i asked.oh, she has turned all the men's heads down i\"\n",
      "------ temperature: 0.2\n",
      "acco, and as much information as i could desireabout miss adler, to say nothing of half a dozen other people inthe neighbourhood in whom i was not in the least interested, butwhose biographies i was compelled to listen to.and what of irene adler? i asked.oh, she has turned all the men's heads down in the prompering of the face and asked that i had been as to the precisioner of the propers of the sight of the propers of the hands and and and and and in the word with the could have made and of the sected that the faction and and and and and that it was a continued him was one of the hands and and as a street and all that i was and and and and and that it was a contracter of the sected that it \n",
      "------ temperature: 0.5\n",
      "ight of the propers of the hands and and and and and in the word with the could have made and of the sected that the faction and and and and and that it was a continued him was one of the hands and and as a street and all that i was and and and and and that it was a contracter of the sected that it was propressed to anything propersion of the amory discitional man who were very fear of the offected and into the caper of the offector perpered to her from the secuses of my trath for which had been were as that we have for the thing my portain out that the clack that the woman with a she from any at matter fire and drew it was and from the door of the papers which is all that he was from the en\n",
      "------ temperature: 1.0\n",
      "d and into the caper of the offector perpered to her from the secuses of my trath for which had been were as that we have for the thing my portain out that the clack that the woman with a she from any at matter fire and drew it was and from the door of the papers which is all that he was from the engilief somemftered elicuried.whan that, he hasso.wealow-crad.no, chillar dreased. this veryselp. i will my pecurus into the empaper.aw the waited you shooldear gentle ista. had retainlyal turner until his the pospectals had been waible mirsion man you our verys.you alswe fash formowneclow pad of all. i on the cappracted edge; mademporibedat tham he hasner boeter.armies. he has thisevers into a sis\n",
      "------ temperature: 1.2\n",
      "ill my pecurus into the empaper.aw the waited you shooldear gentle ista. had retainlyal turner until his the pospectals had been waible mirsion man you our verys.you alswe fash formowneclow pad of all. i on the cappracted edge; mademporibedat tham he hasner boeter.armies. he has thisevers into a sislopp mimilise, him thatis twoses, i amlinushehin than the ins.prisitiogharrate afraidhis alp granceation, jost amcerante?this add arriph ofrrate ithing, i dodno barge udbank-dary hav out into allthe edge insyluttle, frreamary it palled into the consideragagabyer, said he; it was musiternation wards fortingsfrom me in eiphacts with jetalloopkainse! sir, incennion beloedthan than thiver gird-howed h\n",
      "epoch 8\n",
      "Train on 181347 samples\n",
      "181347/181347 [==============================] - 45s 247us/sample - loss: 1.5312 - acc: 0.5419\n",
      "--- Generating with seed: \"asses, masked the face witha moustache and a pair of bushy whiskers, sunk that clear voiceinto an insinuating whisper, and doubly secure on account of thegirl's short sight, he appears as mr. hosmer angel, and keeps offother lovers by making love himself.it was only a joke at first, groaned our visi\"\n",
      "------ temperature: 0.2\n",
      "asses, masked the face witha moustache and a pair of bushy whiskers, sunk that clear voiceinto an insinuating whisper, and doubly secure on account of thegirl's short sight, he appears as mr. hosmer angel, and keeps offother lovers by making love himself.it was only a joke at first, groaned our visite the county with a street and she canness, and the county which i have not i may heard the matter of the country and shelled the country the country the street and she canness, and the county of the man which i have no think and the country the county with a handlessing the county with his change of the country in the county with a conney to the county with his contration of the street, and he s\n",
      "------ temperature: 0.5\n",
      "of the country and shelled the country the country the street and she canness, and the county of the man which i have no think and the country the county with a handlessing the county with his change of the country in the county with a conney to the county with his contration of the street, and he shall seen, and which i could have the need the face, then, and the house, and i shall see the interest seemed into the concern the trate all the were the netter the need the thim, i think that i have precine the head into the man which i think, and i have the inder the frenhto friend of the street and seen into the county from his was the one the streetound upon my metried the street. he have pass\n",
      "------ temperature: 1.0\n",
      "st seemed into the concern the trate all the were the netter the need the thim, i think that i have precine the head into the man which i think, and i have the inder the frenhto friend of the street and seen into the county from his was the one the streetound upon my metried the street. he have passing and brawn, in inf to neevincold and interest not. and you may out usuant of all more  more pary passily. i ad to see your man which shere over the ccull ras fearing his meland and too between my foird i shall lay ismout refumal me that seve lachevery compions, and connext compandoationfac theselves.the ewasi;this finish. i dingry right, a state. i befandy, and and somelind i fathe find by step\n",
      "------ temperature: 1.2\n",
      "passily. i ad to see your man which shere over the ccull ras fearing his meland and too between my foird i shall lay ismout refumal me that seve lachevery compions, and connext compandoationfac theselves.the ewasi;this finish. i dingry right, a state. i befandy, and and somelind i fathe find by stepf and newst, so could our here. you ture? think you, and swelt. five, our ear side my pleasion that thelest with a window, which ire realughed could iden actriswhe that. thif-thoent. the geer he uncer the too indieed, oh, given? and not.i' she intere. hraw already. some onefor?there, upon byyllothet, my intr ineven of drivandhe a need, we shall less onthem.we must scent to togonignaltymeanfyct by \n",
      "epoch 9\n",
      "Train on 181347 samples\n",
      "181347/181347 [==============================] - 45s 247us/sample - loss: 1.5271 - acc: 0.5425\n",
      "--- Generating with seed: \"ich pattered down upon his plate. i began tolaugh at this, but the laugh was struck from my lips at the sightof his face. his lip had fallen, his eyes were protruding, hisskin the colour of putty, and he glared at the envelope which hestill held in his trembling hand, 'k. k. k.!' he shrieked, andthe\"\n",
      "------ temperature: 0.2\n",
      "ich pattered down upon his plate. i began tolaugh at this, but the laugh was struck from my lips at the sightof his face. his lip had fallen, his eyes were protruding, hisskin the colour of putty, and he glared at the envelope which hestill held in his trembling hand, 'k. k. k.!' he shrieked, andthe did with the morning it is a little rouss. i am solved the little little for the papers of the looking and it is a little records the did you will be a such a little of the less which i am some little records and stood and course you are the desced it is a little resure, and i am street me the did and the door, it is a little only the faction of the store and a struck which we may in a chining it\n",
      "------ temperature: 0.5\n",
      "ing and it is a little records the did you will be a such a little of the less which i am some little records and stood and course you are the desced it is a little resure, and i am street me the did and the door, it is a little only the faction of the store and a struck which we may in a chining it and course you will me the disting from the country me her is a coroner. well is my handing for me of a never which i have seemed her as it was me i was bestine which i seemed in a master of his company sioper, and i am streading it in my heady, and i could be the suine in the kespicion of the for the facts in my advery attented the are for the side the othince the windows was about be one of the\n",
      "------ temperature: 1.0\n",
      "of a never which i have seemed her as it was me i was bestine which i seemed in a master of his company sioper, and i am streading it in my heady, and i could be the suine in the kespicion of the for the facts in my advery attented the are for the side the othince the windows was about be one of the pames, theproach long came in oncheit harrhis lifely abdvertalking my face, the stalp intoire the wholy it in you, with the yeee.onies horrible hum in a for pore a d-passings keepof theyelired and lone. 'the browm.' have a been could i doctly four wimhhome fruating. have evening subgiolstod fees, the orming farly's nim in the you hes in brown sfort done the cad.the dossins in offaction, strough w\n",
      "------ temperature: 1.2\n",
      "holy it in you, with the yeee.onies horrible hum in a for pore a d-passings keepof theyelired and lone. 'the browm.' have a been could i doctly four wimhhome fruating. have evening subgiolstod fees, the orming farly's nim in the you hes in brown sfort done the cad.the dossins in offaction, strough when a desuccy in histwemping have trienthe um within this -me in all,as cased, andcame him back of frog vinigin.well, his booke in arows it ayolount it you severara countl to be slittendedye.i was very was cleithex to a-swesting within sucha, unt, and it oftion whice! baker,thrustice, ddas it is successaint. siggencofhition minate, and one it, eving infashion of the herd beesta exels busioner bupi\n",
      "epoch 10\n",
      "Train on 181347 samples\n",
      "181347/181347 [==============================] - 45s 248us/sample - loss: 1.5213 - acc: 0.5445\n",
      "--- Generating with seed: \"ard work and not in sitting by the fire spinning fine theories.good-day, mr. holmes, and we shall see which gets to the bottomof the matter first. he gathered up the garments, thrust theminto the bag, and made for the door.just one hint to you, lestrade, drawled holmes before his rivalvanished; i wi\"\n",
      "------ temperature: 0.2\n",
      "ard work and not in sitting by the fire spinning fine theories.good-day, mr. holmes, and we shall see which gets to the bottomof the matter first. he gathered up the garments, thrust theminto the bag, and made for the door.just one hint to you, lestrade, drawled holmes before his rivalvanished; i will me that the lock of the street. i have a low of the which he was a passed to the them we am man who was a way which he was a strugg and the coronet of the street which he was a street. i have the the command which i have the docter i should have the street. i could the country in the closed which i have to gently is a little for her the lost. i have to get the way and the window, and the street\n",
      "------ temperature: 0.5\n",
      "ho was a way which he was a strugg and the coronet of the street which he was a street. i have the the command which i have the docter i should have the street. i could the country in the closed which i have to gently is a little for her the lost. i have to get the way and the window, and the street, and he was clear to locked to grizzled for the little holmes, and i have keep in a settled a coloney of the tright sty. he was strike the the tocket. he was some way fron the amponiced. i came we has a struggle for here a staped which he was a chouses. i have looked to the clears it of the streation, and the lide that the walled at the too was the counfred, he had a pressing-achious had the well\n",
      "------ temperature: 1.0\n"
     ]
    },
    {
     "name": "stdout",
     "output_type": "stream",
     "text": [
      "ey of the tright sty. he was strike the the tocket. he was some way fron the amponiced. i came we has a struggle for here a staped which he was a chouses. i have looked to the clears it of the streation, and the lide that the walled at the too was the counfred, he had a pressing-achious had the wellasfinicked! which satch in the business?he, a quick, thrommeddigybetwertyforisamewill holies as more he saw im gipped used a fellar. there gone.weals what she lounat to ay only his know to doce how when this the moremany which is quite makes uncens as there half awastright,and ou which we an chairs to be thatto the heart strange hand, shoolock, affew at them? should a pathrow is wenting on courtai\n",
      "------ temperature: 1.2\n",
      " he saw im gipped used a fellar. there gone.weals what she lounat to ay only his know to doce how when this the moremany which is quite makes uncens as there half awastright,and ou which we an chairs to be thatto the heart strange hand, shoolock, affew at them? should a pathrow is wenting on courtaing,hadmurdenedby and, whom more a. it flor-heard about intramp.he dangicle too what she lief of its off the hands drove turned offat han meresfroff, if out to the. they i mast, mecoroning a find beit am among hims'sbeally bestile awas?feregle, and long crowd,ring outlittle lle,as it i makeam for do a peasient, it glass if you will a precisienty tosetifill, must cadapitingit?i had an azegry as nasc\n"
     ]
    },
    {
     "data": {
      "image/png": "[encoded data removed]",
      "text/plain": [
       "<Figure size 432x288 with 1 Axes>"
      ]
     },
     "metadata": {
      "needs_background": "light"
     },
     "output_type": "display_data"
    },
    {
     "data": {
      "image/png": "[encoded data removed]",
      "text/plain": [
       "<Figure size 432x288 with 1 Axes>"
      ]
     },
     "metadata": {
      "needs_background": "light"
     },
     "output_type": "display_data"
    }
   ],
   "source": [
    "# Train the Model\n",
    "# Enter your code here:\n",
    "import random\n",
    "import sys\n",
    "\n",
    "acc_list= []\n",
    "loss_list = []\n",
    "\n",
    "for epoch in range(1, 11):\n",
    "    print('epoch', epoch)\n",
    "    # Fit the model for 1 epoch on the available training data\n",
    "    history = model.fit(X, y,\n",
    "              batch_size=256,\n",
    "              epochs=1)\n",
    "    acc = history.history['acc']\n",
    "    loss = history.history['loss']\n",
    "    acc_list.append(acc)\n",
    "    loss_list.append(loss)\n",
    "    \n",
    "    # Select a text seed at random\n",
    "    start_index = random.randint(0, len(text) - window_size - 1)\n",
    "    generated_text = text[start_index: start_index + window_size]\n",
    "    print('--- Generating with seed: \"' + generated_text + '\"')\n",
    "   \n",
    "    \n",
    "    for temperature in [0.2, 0.5, 1.0, 1.2]:\n",
    "        print('------ temperature:', temperature)\n",
    "        sys.stdout.write(generated_text)\n",
    "\n",
    "        # We generate 400 characters\n",
    "        for i in range(400):\n",
    "            sampled = np.zeros((1, window_size, len(chars)))\n",
    "            for t, char in enumerate(generated_text):\n",
    "                sampled[0, t, char_indices[char]] = 1.\n",
    "\n",
    "            preds = model.predict(sampled, verbose=0)[0]\n",
    "            next_index = sample(preds, temperature)\n",
    "            next_char = chars[next_index]\n",
    "\n",
    "            generated_text += next_char\n",
    "            generated_text = generated_text[1:]\n",
    "\n",
    "            sys.stdout.write(next_char)\n",
    "            sys.stdout.flush()\n",
    "        print()\n",
    "\n",
    "\n",
    "graph_acc = []\n",
    "for i in acc_list:\n",
    "    for j in i:\n",
    "        graph_acc.append(j)\n",
    "        \n",
    "graph_loss = []\n",
    "for i in loss_list:\n",
    "    for j in i:\n",
    "        graph_loss.append(j)\n",
    "    \n",
    "#Plotting training graphs\n",
    "%matplotlib inline\n",
    "import matplotlib.pyplot as plt\n",
    "\n",
    "epochs = range(1, len(graph_acc) + 1)\n",
    "\n",
    "plt.plot(epochs, graph_acc, 'bo', label='Training acc')\n",
    "plt.title('Training accuracy')\n",
    "plt.legend()\n",
    "\n",
    "plt.figure()\n",
    "\n",
    "plt.plot(epochs, graph_loss, 'bo', label='Training loss')\n",
    "plt.title('Training loss')\n",
    "plt.legend()\n",
    "\n",
    "plt.show()"
   ]
  },
  {
   "cell_type": "code",
   "execution_count": 20,
   "metadata": {},
   "outputs": [],
   "source": [
    "# Save the Model\n",
    "model.save('chgen_model_18.h5')"
   ]
  },
  {
   "cell_type": "markdown",
   "metadata": {},
   "source": [
    "## Step 3 – Use the Best Model to make prediction"
   ]
  },
  {
   "cell_type": "markdown",
   "metadata": {},
   "source": [
    "#### test texts:\n",
    "* happy national da (y)\n",
    "* dogs are grea (t)\n",
    "* deep learning is fu (n)"
   ]
  },
  {
   "cell_type": "markdown",
   "metadata": {},
   "source": [
    "### Model 1 Evaluation"
   ]
  },
  {
   "cell_type": "code",
   "execution_count": 15,
   "metadata": {},
   "outputs": [],
   "source": [
    "from tensorflow.keras import models\n",
    "import numpy as np\n",
    "model = models.load_model('chgen_model_1.h5')"
   ]
  },
  {
   "cell_type": "code",
   "execution_count": 16,
   "metadata": {},
   "outputs": [
    {
     "name": "stdout",
     "output_type": "stream",
     "text": [
      "Enter a string of characters: happy national da\n"
     ]
    }
   ],
   "source": [
    "# takes the user input\n",
    "text_input = np.array([input(\"Enter a string of characters: \")])"
   ]
  },
  {
   "cell_type": "code",
   "execution_count": 17,
   "metadata": {},
   "outputs": [],
   "source": [
    "# one-hot encode the user input\n",
    "# Enter your code here:\n",
    "def encode_test_text(text_input, maxlen): \n",
    "    print('Vectorization...')\n",
    "    x = np.zeros((len(text_input), maxlen, len(chars)), dtype=np.bool)\n",
    "    for i, sentence in enumerate(text_input):\n",
    "        for t, char in enumerate(sentence):\n",
    "            x[i, t, char_indices[char]] = 1\n",
    "    return x\n",
    "\n",
    "def predicta(preds):\n",
    "    preds = np.asarray(preds).astype('float64')\n",
    "    preds = np.log(preds)\n",
    "    exp_preds = np.exp(preds)\n",
    "    preds = exp_preds / np.sum(exp_preds)\n",
    "    probas = np.random.multinomial(1, preds, 1)\n",
    "    print(probas)\n",
    "    return np.argmax(probas)"
   ]
  },
  {
   "cell_type": "code",
   "execution_count": 33,
   "metadata": {},
   "outputs": [
    {
     "name": "stdout",
     "output_type": "stream",
     "text": [
      "Vectorization...\n",
      "[[0 0 0 0 0 0 0 0 0 1 0 0 0 0 0 0 0 0 0 0 0 0 0 0 0 0 0 0 0 0 0 0 0 0 0]]\n",
      "9\n",
      "The predicted next character for ['happy national da'] is  a\n"
     ]
    }
   ],
   "source": [
    "# show the model output using predict function\n",
    "# Enter your code here:\n",
    "x = encode_test_text(text_input, window_size)\n",
    "preds = model.predict(x, verbose=0)[0]\n",
    "next_index = predicta(preds)\n",
    "print(next_index)\n",
    "next_char = chars[next_index]\n",
    "print(f\"The predicted next character for {text_input} is  {next_char}\")"
   ]
  },
  {
   "cell_type": "code",
   "execution_count": 33,
   "metadata": {},
   "outputs": [
    {
     "name": "stdout",
     "output_type": "stream",
     "text": [
      "Enter a string of characters: dogs are grea\n"
     ]
    }
   ],
   "source": [
    "# takes the user input\n",
    "text_input = np.array([input(\"Enter a string of characters: \")])"
   ]
  },
  {
   "cell_type": "code",
   "execution_count": 34,
   "metadata": {},
   "outputs": [
    {
     "name": "stdout",
     "output_type": "stream",
     "text": [
      "Vectorization...\n",
      "[[0 0 0 0 0 0 0 0 0 0 0 0 0 0 0 0 0 0 0 0 0 0 0 1 0 0 0 0 0 0 0 0 0 0 0]]\n",
      "23\n",
      "The predicted next character for ['dogs are grea'] is  o\n"
     ]
    }
   ],
   "source": [
    "# show the model output using predict function\n",
    "# Enter your code here:\n",
    "x = encode_test_text(text_input, window_size)\n",
    "preds = model.predict(x, verbose=0)[0]\n",
    "next_index = predicta(preds)\n",
    "print(next_index)\n",
    "next_char = chars[next_index]\n",
    "print(f\"The predicted next character for {text_input} is  {next_char}\")"
   ]
  },
  {
   "cell_type": "code",
   "execution_count": 35,
   "metadata": {},
   "outputs": [
    {
     "name": "stdout",
     "output_type": "stream",
     "text": [
      "Enter a string of characters: deep learning is fu\n"
     ]
    }
   ],
   "source": [
    "# takes the user input\n",
    "text_input = np.array([input(\"Enter a string of characters: \")])"
   ]
  },
  {
   "cell_type": "code",
   "execution_count": 36,
   "metadata": {},
   "outputs": [
    {
     "name": "stdout",
     "output_type": "stream",
     "text": [
      "Vectorization...\n",
      "[[0 0 0 0 0 0 0 0 0 0 0 0 0 0 0 0 0 0 0 0 0 0 0 0 0 0 0 1 0 0 0 0 0 0 0]]\n",
      "27\n",
      "The predicted next character for ['deep learning is fu'] is  s\n"
     ]
    }
   ],
   "source": [
    "# show the model output using predict function\n",
    "# Enter your code here:\n",
    "x = encode_test_text(text_input, window_size)\n",
    "preds = model.predict(x, verbose=0)[0]\n",
    "next_index = predicta(preds)\n",
    "print(next_index)\n",
    "next_char = chars[next_index]\n",
    "print(f\"The predicted next character for {text_input} is  {next_char}\")"
   ]
  },
  {
   "cell_type": "markdown",
   "metadata": {},
   "source": [
    "### Model 10 Evaluation"
   ]
  },
  {
   "cell_type": "code",
   "execution_count": 35,
   "metadata": {},
   "outputs": [],
   "source": [
    "from tensorflow.keras import models\n",
    "import numpy as np\n",
    "model = models.load_model('chgen_model_10.h5')"
   ]
  },
  {
   "cell_type": "code",
   "execution_count": 36,
   "metadata": {},
   "outputs": [
    {
     "name": "stdout",
     "output_type": "stream",
     "text": [
      "Enter a string of characters: happy national da\n"
     ]
    }
   ],
   "source": [
    "# takes the user input\n",
    "text_input = np.array([input(\"Enter a string of characters: \")])"
   ]
  },
  {
   "cell_type": "code",
   "execution_count": 37,
   "metadata": {},
   "outputs": [],
   "source": [
    "# one-hot encode the user input\n",
    "# Enter your code here:\n",
    "def encode_test_text(text_input, maxlen): \n",
    "    print('Vectorization...')\n",
    "    x = np.zeros((len(text_input), maxlen, len(chars)), dtype=np.bool)\n",
    "    for i, sentence in enumerate(text_input):\n",
    "        for t, char in enumerate(sentence):\n",
    "            x[i, t, char_indices[char]] = 1\n",
    "    return x\n",
    "\n",
    "def predicta(preds):\n",
    "    preds = np.asarray(preds).astype('float64')\n",
    "    preds = np.log(preds)\n",
    "    exp_preds = np.exp(preds)\n",
    "    preds = exp_preds / np.sum(exp_preds)\n",
    "    probas = np.random.multinomial(1, preds, 1)\n",
    "    print(probas)\n",
    "    return np.argmax(probas)"
   ]
  },
  {
   "cell_type": "code",
   "execution_count": 47,
   "metadata": {},
   "outputs": [
    {
     "name": "stdout",
     "output_type": "stream",
     "text": [
      "Vectorization...\n",
      "[[0 0 0 0 0 0 0 0 0 0 0 0 0 0 0 0 0 0 0 0 0 0 0 0 0 0 0 1 0 0 0 0 0 0 0]]\n",
      "27\n",
      "The predicted next character for ['happy national da'] is  s\n"
     ]
    }
   ],
   "source": [
    "# show the model output using predict function\n",
    "# Enter your code here:\n",
    "x = encode_test_text(text_input, window_size)\n",
    "preds = model.predict(x, verbose=0)[0]\n",
    "next_index = predicta(preds)\n",
    "print(next_index)\n",
    "next_char = chars[next_index]\n",
    "print(f\"The predicted next character for {text_input} is  {next_char}\")"
   ]
  },
  {
   "cell_type": "code",
   "execution_count": 48,
   "metadata": {},
   "outputs": [
    {
     "name": "stdout",
     "output_type": "stream",
     "text": [
      "Enter a string of characters: dogs are grea\n"
     ]
    }
   ],
   "source": [
    "# takes the user input\n",
    "text_input = np.array([input(\"Enter a string of characters: \")])"
   ]
  },
  {
   "cell_type": "code",
   "execution_count": 83,
   "metadata": {},
   "outputs": [
    {
     "name": "stdout",
     "output_type": "stream",
     "text": [
      "Vectorization...\n",
      "[[0 0 0 0 0 0 0 0 0 0 0 0 0 1 0 0 0 0 0 0 0 0 0 0 0 0 0 0 0 0 0 0 0 0 0]]\n",
      "13\n",
      "The predicted next character for ['dogs are grea'] is  e\n"
     ]
    }
   ],
   "source": [
    "# show the model output using predict function\n",
    "# Enter your code here:\n",
    "x = encode_test_text(text_input, window_size)\n",
    "preds = model.predict(x, verbose=0)[0]\n",
    "next_index = predicta(preds)\n",
    "print(next_index)\n",
    "next_char = chars[next_index]\n",
    "print(f\"The predicted next character for {text_input} is  {next_char}\")"
   ]
  },
  {
   "cell_type": "code",
   "execution_count": 84,
   "metadata": {},
   "outputs": [
    {
     "name": "stdout",
     "output_type": "stream",
     "text": [
      "Enter a string of characters: deep learning is fu\n"
     ]
    }
   ],
   "source": [
    "# takes the user input\n",
    "text_input = np.array([input(\"Enter a string of characters: \")])"
   ]
  },
  {
   "cell_type": "code",
   "execution_count": 89,
   "metadata": {},
   "outputs": [
    {
     "name": "stdout",
     "output_type": "stream",
     "text": [
      "Vectorization...\n",
      "[[0 0 0 0 0 0 0 0 0 0 0 0 1 0 0 0 0 0 0 0 0 0 0 0 0 0 0 0 0 0 0 0 0 0 0]]\n",
      "12\n",
      "The predicted next character for ['deep learning is fu'] is  d\n"
     ]
    }
   ],
   "source": [
    "# show the model output using predict function\n",
    "# Enter your code here:\n",
    "x = encode_test_text(text_input, window_size)\n",
    "preds = model.predict(x, verbose=0)[0]\n",
    "next_index = predicta(preds)\n",
    "print(next_index)\n",
    "next_char = chars[next_index]\n",
    "print(f\"The predicted next character for {text_input} is  {next_char}\")"
   ]
  },
  {
   "cell_type": "markdown",
   "metadata": {},
   "source": [
    "### Model 13 Evaluation"
   ]
  },
  {
   "cell_type": "code",
   "execution_count": 90,
   "metadata": {},
   "outputs": [],
   "source": [
    "from tensorflow.keras import models\n",
    "import numpy as np\n",
    "model = models.load_model('chgen_model_13.h5')"
   ]
  },
  {
   "cell_type": "code",
   "execution_count": 91,
   "metadata": {},
   "outputs": [
    {
     "name": "stdout",
     "output_type": "stream",
     "text": [
      "Enter a string of characters: happy national da\n"
     ]
    }
   ],
   "source": [
    "# takes the user input\n",
    "text_input = np.array([input(\"Enter a string of characters: \")])"
   ]
  },
  {
   "cell_type": "code",
   "execution_count": 92,
   "metadata": {},
   "outputs": [],
   "source": [
    "# one-hot encode the user input\n",
    "# Enter your code here:\n",
    "def encode_test_text(text_input, maxlen): \n",
    "    print('Vectorization...')\n",
    "    x = np.zeros((len(text_input), maxlen, len(chars)), dtype=np.bool)\n",
    "    for i, sentence in enumerate(text_input):\n",
    "        for t, char in enumerate(sentence):\n",
    "            x[i, t, char_indices[char]] = 1\n",
    "    return x\n",
    "\n",
    "def predicta(preds):\n",
    "    preds = np.asarray(preds).astype('float64')\n",
    "    preds = np.log(preds)\n",
    "    exp_preds = np.exp(preds)\n",
    "    preds = exp_preds / np.sum(exp_preds)\n",
    "    probas = np.random.multinomial(1, preds, 1)\n",
    "    print(probas)\n",
    "    return np.argmax(probas)"
   ]
  },
  {
   "cell_type": "code",
   "execution_count": 97,
   "metadata": {},
   "outputs": [
    {
     "name": "stdout",
     "output_type": "stream",
     "text": [
      "Vectorization...\n",
      "[[0 0 0 0 0 0 0 0 0 0 1 0 0 0 0 0 0 0 0 0 0 0 0 0 0 0 0 0 0 0 0 0 0 0 0]]\n",
      "10\n",
      "The predicted next character for ['happy national da'] is  b\n"
     ]
    }
   ],
   "source": [
    "# show the model output using predict function\n",
    "# Enter your code here:\n",
    "x = encode_test_text(text_input, window_size)\n",
    "preds = model.predict(x, verbose=0)[0]\n",
    "next_index = predicta(preds)\n",
    "print(next_index)\n",
    "next_char = chars[next_index]\n",
    "print(f\"The predicted next character for {text_input} is  {next_char}\")"
   ]
  },
  {
   "cell_type": "code",
   "execution_count": 98,
   "metadata": {},
   "outputs": [
    {
     "name": "stdout",
     "output_type": "stream",
     "text": [
      "Enter a string of characters: dogs are grea\n"
     ]
    }
   ],
   "source": [
    "# takes the user input\n",
    "text_input = np.array([input(\"Enter a string of characters: \")])"
   ]
  },
  {
   "cell_type": "code",
   "execution_count": 108,
   "metadata": {},
   "outputs": [
    {
     "name": "stdout",
     "output_type": "stream",
     "text": [
      "Vectorization...\n",
      "[[0 0 0 0 0 0 0 0 0 0 0 0 0 0 0 0 0 0 0 0 0 0 0 0 0 0 0 0 1 0 0 0 0 0 0]]\n",
      "28\n",
      "The predicted next character for ['dogs are grea'] is  t\n"
     ]
    }
   ],
   "source": [
    "# show the model output using predict function\n",
    "# Enter your code here:\n",
    "x = encode_test_text(text_input, window_size)\n",
    "preds = model.predict(x, verbose=0)[0]\n",
    "next_index = predicta(preds)\n",
    "print(next_index)\n",
    "next_char = chars[next_index]\n",
    "print(f\"The predicted next character for {text_input} is  {next_char}\")"
   ]
  },
  {
   "cell_type": "code",
   "execution_count": 125,
   "metadata": {},
   "outputs": [
    {
     "name": "stdout",
     "output_type": "stream",
     "text": [
      "Enter a string of characters: deep learning is fu\n"
     ]
    }
   ],
   "source": [
    "# takes the user input\n",
    "text_input = np.array([input(\"Enter a string of characters: \")])"
   ]
  },
  {
   "cell_type": "code",
   "execution_count": 133,
   "metadata": {},
   "outputs": [
    {
     "name": "stdout",
     "output_type": "stream",
     "text": [
      "Vectorization...\n",
      "[[0 0 0 0 0 0 0 0 0 0 0 0 0 0 0 0 0 0 0 1 0 0 0 0 0 0 0 0 0 0 0 0 0 0 0]]\n",
      "19\n",
      "The predicted next character for ['deep learning is fu'] is  k\n"
     ]
    }
   ],
   "source": [
    "# show the model output using predict function\n",
    "# Enter your code here:\n",
    "x = encode_test_text(text_input, window_size)\n",
    "preds = model.predict(x, verbose=0)[0]\n",
    "next_index = predicta(preds)\n",
    "print(next_index)\n",
    "next_char = chars[next_index]\n",
    "print(f\"The predicted next character for {text_input} is  {next_char}\")"
   ]
  },
  {
   "cell_type": "markdown",
   "metadata": {},
   "source": [
    "### Model 14 Evaluation"
   ]
  },
  {
   "cell_type": "code",
   "execution_count": 134,
   "metadata": {},
   "outputs": [],
   "source": [
    "from tensorflow.keras import models\n",
    "import numpy as np\n",
    "model = models.load_model('chgen_model_14.h5')"
   ]
  },
  {
   "cell_type": "code",
   "execution_count": 135,
   "metadata": {},
   "outputs": [
    {
     "name": "stdout",
     "output_type": "stream",
     "text": [
      "Enter a string of characters: happy national da\n"
     ]
    }
   ],
   "source": [
    "# takes the user input\n",
    "text_input = np.array([input(\"Enter a string of characters: \")])"
   ]
  },
  {
   "cell_type": "code",
   "execution_count": 136,
   "metadata": {},
   "outputs": [],
   "source": [
    "# one-hot encode the user input\n",
    "# Enter your code here:\n",
    "def encode_test_text(text_input, maxlen): \n",
    "    print('Vectorization...')\n",
    "    x = np.zeros((len(text_input), maxlen, len(chars)), dtype=np.bool)\n",
    "    for i, sentence in enumerate(text_input):\n",
    "        for t, char in enumerate(sentence):\n",
    "            x[i, t, char_indices[char]] = 1\n",
    "    return x\n",
    "\n",
    "def predicta(preds):\n",
    "    preds = np.asarray(preds).astype('float64')\n",
    "    preds = np.log(preds)\n",
    "    exp_preds = np.exp(preds)\n",
    "    preds = exp_preds / np.sum(exp_preds)\n",
    "    probas = np.random.multinomial(1, preds, 1)\n",
    "    print(probas)\n",
    "    return np.argmax(probas)"
   ]
  },
  {
   "cell_type": "code",
   "execution_count": 144,
   "metadata": {},
   "outputs": [
    {
     "name": "stdout",
     "output_type": "stream",
     "text": [
      "Vectorization...\n",
      "[[0 0 0 0 0 0 0 0 0 0 0 0 0 0 0 0 0 0 0 0 0 0 0 0 0 0 0 0 0 0 0 0 0 1 0]]\n",
      "33\n",
      "The predicted next character for ['happy national da'] is  y\n"
     ]
    }
   ],
   "source": [
    "# show the model output using predict function\n",
    "# Enter your code here:\n",
    "x = encode_test_text(text_input, window_size)\n",
    "preds = model.predict(x, verbose=0)[0]\n",
    "next_index = predicta(preds)\n",
    "print(next_index)\n",
    "next_char = chars[next_index]\n",
    "print(f\"The predicted next character for {text_input} is  {next_char}\")"
   ]
  },
  {
   "cell_type": "code",
   "execution_count": 145,
   "metadata": {},
   "outputs": [
    {
     "name": "stdout",
     "output_type": "stream",
     "text": [
      "Enter a string of characters: dogs are grea\n"
     ]
    }
   ],
   "source": [
    "# takes the user input\n",
    "text_input = np.array([input(\"Enter a string of characters: \")])"
   ]
  },
  {
   "cell_type": "code",
   "execution_count": 148,
   "metadata": {},
   "outputs": [
    {
     "name": "stdout",
     "output_type": "stream",
     "text": [
      "Vectorization...\n",
      "[[0 0 0 0 0 0 0 0 0 0 0 0 0 0 0 0 0 0 0 0 0 0 0 0 0 0 0 0 0 0 0 0 0 1 0]]\n",
      "33\n",
      "The predicted next character for ['dogs are grea'] is  y\n"
     ]
    }
   ],
   "source": [
    "# show the model output using predict function\n",
    "# Enter your code here:\n",
    "x = encode_test_text(text_input, window_size)\n",
    "preds = model.predict(x, verbose=0)[0]\n",
    "next_index = predicta(preds)\n",
    "print(next_index)\n",
    "next_char = chars[next_index]\n",
    "print(f\"The predicted next character for {text_input} is  {next_char}\")"
   ]
  },
  {
   "cell_type": "code",
   "execution_count": 149,
   "metadata": {},
   "outputs": [
    {
     "name": "stdout",
     "output_type": "stream",
     "text": [
      "Enter a string of characters: deep learning is fu\n"
     ]
    }
   ],
   "source": [
    "# takes the user input\n",
    "text_input = np.array([input(\"Enter a string of characters: \")])"
   ]
  },
  {
   "cell_type": "code",
   "execution_count": 156,
   "metadata": {},
   "outputs": [
    {
     "name": "stdout",
     "output_type": "stream",
     "text": [
      "Vectorization...\n",
      "[[0 0 0 0 0 0 0 0 0 0 0 0 0 0 0 0 0 0 0 0 0 0 0 0 0 0 0 0 1 0 0 0 0 0 0]]\n",
      "28\n",
      "The predicted next character for ['deep learning is fu'] is  t\n"
     ]
    }
   ],
   "source": [
    "# show the model output using predict function\n",
    "# Enter your code here:\n",
    "x = encode_test_text(text_input, window_size)\n",
    "preds = model.predict(x, verbose=0)[0]\n",
    "next_index = predicta(preds)\n",
    "print(next_index)\n",
    "next_char = chars[next_index]\n",
    "print(f\"The predicted next character for {text_input} is  {next_char}\")"
   ]
  },
  {
   "cell_type": "markdown",
   "metadata": {},
   "source": [
    "### Model 16 Evaluation"
   ]
  },
  {
   "cell_type": "code",
   "execution_count": 158,
   "metadata": {},
   "outputs": [],
   "source": [
    "from tensorflow.keras import models\n",
    "import numpy as np\n",
    "model = models.load_model('chgen_model_16.h5')"
   ]
  },
  {
   "cell_type": "code",
   "execution_count": 159,
   "metadata": {},
   "outputs": [
    {
     "name": "stdout",
     "output_type": "stream",
     "text": [
      "Enter a string of characters: happy national da\n"
     ]
    }
   ],
   "source": [
    "# takes the user input\n",
    "text_input = np.array([input(\"Enter a string of characters: \")])"
   ]
  },
  {
   "cell_type": "code",
   "execution_count": 160,
   "metadata": {},
   "outputs": [],
   "source": [
    "# one-hot encode the user input\n",
    "# Enter your code here:\n",
    "def encode_test_text(text_input, maxlen): \n",
    "    print('Vectorization...')\n",
    "    x = np.zeros((len(text_input), maxlen, len(chars)), dtype=np.bool)\n",
    "    for i, sentence in enumerate(text_input):\n",
    "        for t, char in enumerate(sentence):\n",
    "            x[i, t, char_indices[char]] = 1\n",
    "    return x\n",
    "\n",
    "def predicta(preds):\n",
    "    preds = np.asarray(preds).astype('float64')\n",
    "    preds = np.log(preds)\n",
    "    exp_preds = np.exp(preds)\n",
    "    preds = exp_preds / np.sum(exp_preds)\n",
    "    probas = np.random.multinomial(1, preds, 1)\n",
    "    print(probas)\n",
    "    return np.argmax(probas)"
   ]
  },
  {
   "cell_type": "code",
   "execution_count": 162,
   "metadata": {},
   "outputs": [
    {
     "name": "stdout",
     "output_type": "stream",
     "text": [
      "Vectorization...\n",
      "[[0 0 0 0 0 0 0 0 0 0 0 0 0 0 0 0 0 0 0 0 0 1 0 0 0 0 0 0 0 0 0 0 0 0 0]]\n",
      "21\n",
      "The predicted next character for ['happy national da'] is  m\n"
     ]
    }
   ],
   "source": [
    "# show the model output using predict function\n",
    "# Enter your code here:\n",
    "x = encode_test_text(text_input, window_size)\n",
    "preds = model.predict(x, verbose=0)[0]\n",
    "next_index = predicta(preds)\n",
    "print(next_index)\n",
    "next_char = chars[next_index]\n",
    "print(f\"The predicted next character for {text_input} is  {next_char}\")"
   ]
  },
  {
   "cell_type": "code",
   "execution_count": 163,
   "metadata": {},
   "outputs": [
    {
     "name": "stdout",
     "output_type": "stream",
     "text": [
      "Enter a string of characters: dogs are grea\n"
     ]
    }
   ],
   "source": [
    "# takes the user input\n",
    "text_input = np.array([input(\"Enter a string of characters: \")])"
   ]
  },
  {
   "cell_type": "code",
   "execution_count": 176,
   "metadata": {},
   "outputs": [
    {
     "name": "stdout",
     "output_type": "stream",
     "text": [
      "Vectorization...\n",
      "[[0 0 0 0 0 0 0 0 0 0 0 0 0 0 0 0 0 0 0 0 0 0 0 0 0 0 0 0 1 0 0 0 0 0 0]]\n",
      "28\n",
      "The predicted next character for ['dogs are grea'] is  t\n"
     ]
    }
   ],
   "source": [
    "# show the model output using predict function\n",
    "# Enter your code here:\n",
    "x = encode_test_text(text_input, window_size)\n",
    "preds = model.predict(x, verbose=0)[0]\n",
    "next_index = predicta(preds)\n",
    "print(next_index)\n",
    "next_char = chars[next_index]\n",
    "print(f\"The predicted next character for {text_input} is  {next_char}\")"
   ]
  },
  {
   "cell_type": "code",
   "execution_count": 177,
   "metadata": {},
   "outputs": [
    {
     "name": "stdout",
     "output_type": "stream",
     "text": [
      "Enter a string of characters: deep learning is fu\n"
     ]
    }
   ],
   "source": [
    "# takes the user input\n",
    "text_input = np.array([input(\"Enter a string of characters: \")])"
   ]
  },
  {
   "cell_type": "code",
   "execution_count": 192,
   "metadata": {},
   "outputs": [
    {
     "name": "stdout",
     "output_type": "stream",
     "text": [
      "Vectorization...\n",
      "[[0 0 0 0 0 0 0 0 0 0 0 0 1 0 0 0 0 0 0 0 0 0 0 0 0 0 0 0 0 0 0 0 0 0 0]]\n",
      "12\n",
      "The predicted next character for ['deep learning is fu'] is  d\n"
     ]
    }
   ],
   "source": [
    "# show the model output using predict function\n",
    "# Enter your code here:\n",
    "x = encode_test_text(text_input, window_size)\n",
    "preds = model.predict(x, verbose=0)[0]\n",
    "next_index = predicta(preds)\n",
    "print(next_index)\n",
    "next_char = chars[next_index]\n",
    "print(f\"The predicted next character for {text_input} is  {next_char}\")"
   ]
  }
 ],
 "metadata": {
  "kernelspec": {
   "display_name": "Python 3",
   "language": "python",
   "name": "python3"
  },
  "language_info": {
   "codemirror_mode": {
    "name": "ipython",
    "version": 3
   },
   "file_extension": ".py",
   "mimetype": "text/x-python",
   "name": "python",
   "nbconvert_exporter": "python",
   "pygments_lexer": "ipython3",
   "version": "3.7.4"
  }
 },
 "nbformat": 4,
 "nbformat_minor": 2
}
